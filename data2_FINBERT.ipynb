{
  "nbformat": 4,
  "nbformat_minor": 0,
  "metadata": {
    "colab": {
      "provenance": [],
      "machine_shape": "hm",
      "gpuType": "A100"
    },
    "kernelspec": {
      "name": "python3",
      "display_name": "Python 3"
    },
    "language_info": {
      "name": "python"
    },
    "gpuClass": "standard",
    "widgets": {
      "application/vnd.jupyter.widget-state+json": {
        "b6e772a88a814a21836e24874f647bb2": {
          "model_module": "@jupyter-widgets/controls",
          "model_name": "HBoxModel",
          "model_module_version": "1.5.0",
          "state": {
            "_dom_classes": [],
            "_model_module": "@jupyter-widgets/controls",
            "_model_module_version": "1.5.0",
            "_model_name": "HBoxModel",
            "_view_count": null,
            "_view_module": "@jupyter-widgets/controls",
            "_view_module_version": "1.5.0",
            "_view_name": "HBoxView",
            "box_style": "",
            "children": [
              "IPY_MODEL_e659a67f21034f6aa7f3fac17595d615",
              "IPY_MODEL_9ff8454a9a0048ff92ac37d635381748",
              "IPY_MODEL_5820eaf927da48ffa72906b208469895"
            ],
            "layout": "IPY_MODEL_61606925b8f94fb1806b2370f8009dd4"
          }
        },
        "e659a67f21034f6aa7f3fac17595d615": {
          "model_module": "@jupyter-widgets/controls",
          "model_name": "HTMLModel",
          "model_module_version": "1.5.0",
          "state": {
            "_dom_classes": [],
            "_model_module": "@jupyter-widgets/controls",
            "_model_module_version": "1.5.0",
            "_model_name": "HTMLModel",
            "_view_count": null,
            "_view_module": "@jupyter-widgets/controls",
            "_view_module_version": "1.5.0",
            "_view_name": "HTMLView",
            "description": "",
            "description_tooltip": null,
            "layout": "IPY_MODEL_ef457e5fca0e46e7bbda4e88a26b83b4",
            "placeholder": "​",
            "style": "IPY_MODEL_baf16e2bbc3d451a96b2d6ee536c970e",
            "value": "Downloading (…)lve/main/config.json: 100%"
          }
        },
        "9ff8454a9a0048ff92ac37d635381748": {
          "model_module": "@jupyter-widgets/controls",
          "model_name": "FloatProgressModel",
          "model_module_version": "1.5.0",
          "state": {
            "_dom_classes": [],
            "_model_module": "@jupyter-widgets/controls",
            "_model_module_version": "1.5.0",
            "_model_name": "FloatProgressModel",
            "_view_count": null,
            "_view_module": "@jupyter-widgets/controls",
            "_view_module_version": "1.5.0",
            "_view_name": "ProgressView",
            "bar_style": "success",
            "description": "",
            "description_tooltip": null,
            "layout": "IPY_MODEL_2180ee5fc8c04034beba64be5ff18ba7",
            "max": 359,
            "min": 0,
            "orientation": "horizontal",
            "style": "IPY_MODEL_789d95ed68fa48598e411bd796159761",
            "value": 359
          }
        },
        "5820eaf927da48ffa72906b208469895": {
          "model_module": "@jupyter-widgets/controls",
          "model_name": "HTMLModel",
          "model_module_version": "1.5.0",
          "state": {
            "_dom_classes": [],
            "_model_module": "@jupyter-widgets/controls",
            "_model_module_version": "1.5.0",
            "_model_name": "HTMLModel",
            "_view_count": null,
            "_view_module": "@jupyter-widgets/controls",
            "_view_module_version": "1.5.0",
            "_view_name": "HTMLView",
            "description": "",
            "description_tooltip": null,
            "layout": "IPY_MODEL_b04f8c85037e4afd95e5be39cb26022e",
            "placeholder": "​",
            "style": "IPY_MODEL_14543df47ad842538a9a14c9106f186b",
            "value": " 359/359 [00:00&lt;00:00, 30.2kB/s]"
          }
        },
        "61606925b8f94fb1806b2370f8009dd4": {
          "model_module": "@jupyter-widgets/base",
          "model_name": "LayoutModel",
          "model_module_version": "1.2.0",
          "state": {
            "_model_module": "@jupyter-widgets/base",
            "_model_module_version": "1.2.0",
            "_model_name": "LayoutModel",
            "_view_count": null,
            "_view_module": "@jupyter-widgets/base",
            "_view_module_version": "1.2.0",
            "_view_name": "LayoutView",
            "align_content": null,
            "align_items": null,
            "align_self": null,
            "border": null,
            "bottom": null,
            "display": null,
            "flex": null,
            "flex_flow": null,
            "grid_area": null,
            "grid_auto_columns": null,
            "grid_auto_flow": null,
            "grid_auto_rows": null,
            "grid_column": null,
            "grid_gap": null,
            "grid_row": null,
            "grid_template_areas": null,
            "grid_template_columns": null,
            "grid_template_rows": null,
            "height": null,
            "justify_content": null,
            "justify_items": null,
            "left": null,
            "margin": null,
            "max_height": null,
            "max_width": null,
            "min_height": null,
            "min_width": null,
            "object_fit": null,
            "object_position": null,
            "order": null,
            "overflow": null,
            "overflow_x": null,
            "overflow_y": null,
            "padding": null,
            "right": null,
            "top": null,
            "visibility": null,
            "width": null
          }
        },
        "ef457e5fca0e46e7bbda4e88a26b83b4": {
          "model_module": "@jupyter-widgets/base",
          "model_name": "LayoutModel",
          "model_module_version": "1.2.0",
          "state": {
            "_model_module": "@jupyter-widgets/base",
            "_model_module_version": "1.2.0",
            "_model_name": "LayoutModel",
            "_view_count": null,
            "_view_module": "@jupyter-widgets/base",
            "_view_module_version": "1.2.0",
            "_view_name": "LayoutView",
            "align_content": null,
            "align_items": null,
            "align_self": null,
            "border": null,
            "bottom": null,
            "display": null,
            "flex": null,
            "flex_flow": null,
            "grid_area": null,
            "grid_auto_columns": null,
            "grid_auto_flow": null,
            "grid_auto_rows": null,
            "grid_column": null,
            "grid_gap": null,
            "grid_row": null,
            "grid_template_areas": null,
            "grid_template_columns": null,
            "grid_template_rows": null,
            "height": null,
            "justify_content": null,
            "justify_items": null,
            "left": null,
            "margin": null,
            "max_height": null,
            "max_width": null,
            "min_height": null,
            "min_width": null,
            "object_fit": null,
            "object_position": null,
            "order": null,
            "overflow": null,
            "overflow_x": null,
            "overflow_y": null,
            "padding": null,
            "right": null,
            "top": null,
            "visibility": null,
            "width": null
          }
        },
        "baf16e2bbc3d451a96b2d6ee536c970e": {
          "model_module": "@jupyter-widgets/controls",
          "model_name": "DescriptionStyleModel",
          "model_module_version": "1.5.0",
          "state": {
            "_model_module": "@jupyter-widgets/controls",
            "_model_module_version": "1.5.0",
            "_model_name": "DescriptionStyleModel",
            "_view_count": null,
            "_view_module": "@jupyter-widgets/base",
            "_view_module_version": "1.2.0",
            "_view_name": "StyleView",
            "description_width": ""
          }
        },
        "2180ee5fc8c04034beba64be5ff18ba7": {
          "model_module": "@jupyter-widgets/base",
          "model_name": "LayoutModel",
          "model_module_version": "1.2.0",
          "state": {
            "_model_module": "@jupyter-widgets/base",
            "_model_module_version": "1.2.0",
            "_model_name": "LayoutModel",
            "_view_count": null,
            "_view_module": "@jupyter-widgets/base",
            "_view_module_version": "1.2.0",
            "_view_name": "LayoutView",
            "align_content": null,
            "align_items": null,
            "align_self": null,
            "border": null,
            "bottom": null,
            "display": null,
            "flex": null,
            "flex_flow": null,
            "grid_area": null,
            "grid_auto_columns": null,
            "grid_auto_flow": null,
            "grid_auto_rows": null,
            "grid_column": null,
            "grid_gap": null,
            "grid_row": null,
            "grid_template_areas": null,
            "grid_template_columns": null,
            "grid_template_rows": null,
            "height": null,
            "justify_content": null,
            "justify_items": null,
            "left": null,
            "margin": null,
            "max_height": null,
            "max_width": null,
            "min_height": null,
            "min_width": null,
            "object_fit": null,
            "object_position": null,
            "order": null,
            "overflow": null,
            "overflow_x": null,
            "overflow_y": null,
            "padding": null,
            "right": null,
            "top": null,
            "visibility": null,
            "width": null
          }
        },
        "789d95ed68fa48598e411bd796159761": {
          "model_module": "@jupyter-widgets/controls",
          "model_name": "ProgressStyleModel",
          "model_module_version": "1.5.0",
          "state": {
            "_model_module": "@jupyter-widgets/controls",
            "_model_module_version": "1.5.0",
            "_model_name": "ProgressStyleModel",
            "_view_count": null,
            "_view_module": "@jupyter-widgets/base",
            "_view_module_version": "1.2.0",
            "_view_name": "StyleView",
            "bar_color": null,
            "description_width": ""
          }
        },
        "b04f8c85037e4afd95e5be39cb26022e": {
          "model_module": "@jupyter-widgets/base",
          "model_name": "LayoutModel",
          "model_module_version": "1.2.0",
          "state": {
            "_model_module": "@jupyter-widgets/base",
            "_model_module_version": "1.2.0",
            "_model_name": "LayoutModel",
            "_view_count": null,
            "_view_module": "@jupyter-widgets/base",
            "_view_module_version": "1.2.0",
            "_view_name": "LayoutView",
            "align_content": null,
            "align_items": null,
            "align_self": null,
            "border": null,
            "bottom": null,
            "display": null,
            "flex": null,
            "flex_flow": null,
            "grid_area": null,
            "grid_auto_columns": null,
            "grid_auto_flow": null,
            "grid_auto_rows": null,
            "grid_column": null,
            "grid_gap": null,
            "grid_row": null,
            "grid_template_areas": null,
            "grid_template_columns": null,
            "grid_template_rows": null,
            "height": null,
            "justify_content": null,
            "justify_items": null,
            "left": null,
            "margin": null,
            "max_height": null,
            "max_width": null,
            "min_height": null,
            "min_width": null,
            "object_fit": null,
            "object_position": null,
            "order": null,
            "overflow": null,
            "overflow_x": null,
            "overflow_y": null,
            "padding": null,
            "right": null,
            "top": null,
            "visibility": null,
            "width": null
          }
        },
        "14543df47ad842538a9a14c9106f186b": {
          "model_module": "@jupyter-widgets/controls",
          "model_name": "DescriptionStyleModel",
          "model_module_version": "1.5.0",
          "state": {
            "_model_module": "@jupyter-widgets/controls",
            "_model_module_version": "1.5.0",
            "_model_name": "DescriptionStyleModel",
            "_view_count": null,
            "_view_module": "@jupyter-widgets/base",
            "_view_module_version": "1.2.0",
            "_view_name": "StyleView",
            "description_width": ""
          }
        },
        "da2670fe5b4b41eeba6be8603edffa0e": {
          "model_module": "@jupyter-widgets/controls",
          "model_name": "HBoxModel",
          "model_module_version": "1.5.0",
          "state": {
            "_dom_classes": [],
            "_model_module": "@jupyter-widgets/controls",
            "_model_module_version": "1.5.0",
            "_model_name": "HBoxModel",
            "_view_count": null,
            "_view_module": "@jupyter-widgets/controls",
            "_view_module_version": "1.5.0",
            "_view_name": "HBoxView",
            "box_style": "",
            "children": [
              "IPY_MODEL_8ef7659b7bb44386ae57f8b237d9a94e",
              "IPY_MODEL_9f6487faf33e42be8633f1a450b64831",
              "IPY_MODEL_b38edf6ff12c4793950daaffcc6dd1b6"
            ],
            "layout": "IPY_MODEL_267ec5e6c8da4c2bb11f05109c1c99eb"
          }
        },
        "8ef7659b7bb44386ae57f8b237d9a94e": {
          "model_module": "@jupyter-widgets/controls",
          "model_name": "HTMLModel",
          "model_module_version": "1.5.0",
          "state": {
            "_dom_classes": [],
            "_model_module": "@jupyter-widgets/controls",
            "_model_module_version": "1.5.0",
            "_model_name": "HTMLModel",
            "_view_count": null,
            "_view_module": "@jupyter-widgets/controls",
            "_view_module_version": "1.5.0",
            "_view_name": "HTMLView",
            "description": "",
            "description_tooltip": null,
            "layout": "IPY_MODEL_8f6ca4f186dd4beb9505e1a7383a8c1e",
            "placeholder": "​",
            "style": "IPY_MODEL_384037967265429fb8ba187a0a31bd61",
            "value": "Downloading pytorch_model.bin: 100%"
          }
        },
        "9f6487faf33e42be8633f1a450b64831": {
          "model_module": "@jupyter-widgets/controls",
          "model_name": "FloatProgressModel",
          "model_module_version": "1.5.0",
          "state": {
            "_dom_classes": [],
            "_model_module": "@jupyter-widgets/controls",
            "_model_module_version": "1.5.0",
            "_model_name": "FloatProgressModel",
            "_view_count": null,
            "_view_module": "@jupyter-widgets/controls",
            "_view_module_version": "1.5.0",
            "_view_name": "ProgressView",
            "bar_style": "success",
            "description": "",
            "description_tooltip": null,
            "layout": "IPY_MODEL_ee0d15115b444202a433849dfefab67c",
            "max": 441551705,
            "min": 0,
            "orientation": "horizontal",
            "style": "IPY_MODEL_fe46f2806a874956a7239f8a8dcf2ebf",
            "value": 441551705
          }
        },
        "b38edf6ff12c4793950daaffcc6dd1b6": {
          "model_module": "@jupyter-widgets/controls",
          "model_name": "HTMLModel",
          "model_module_version": "1.5.0",
          "state": {
            "_dom_classes": [],
            "_model_module": "@jupyter-widgets/controls",
            "_model_module_version": "1.5.0",
            "_model_name": "HTMLModel",
            "_view_count": null,
            "_view_module": "@jupyter-widgets/controls",
            "_view_module_version": "1.5.0",
            "_view_name": "HTMLView",
            "description": "",
            "description_tooltip": null,
            "layout": "IPY_MODEL_7ee6379de63042f7a2b4af35ade3298c",
            "placeholder": "​",
            "style": "IPY_MODEL_f2f74c7e7b1d480e8362abfe43923585",
            "value": " 442M/442M [00:00&lt;00:00, 646MB/s]"
          }
        },
        "267ec5e6c8da4c2bb11f05109c1c99eb": {
          "model_module": "@jupyter-widgets/base",
          "model_name": "LayoutModel",
          "model_module_version": "1.2.0",
          "state": {
            "_model_module": "@jupyter-widgets/base",
            "_model_module_version": "1.2.0",
            "_model_name": "LayoutModel",
            "_view_count": null,
            "_view_module": "@jupyter-widgets/base",
            "_view_module_version": "1.2.0",
            "_view_name": "LayoutView",
            "align_content": null,
            "align_items": null,
            "align_self": null,
            "border": null,
            "bottom": null,
            "display": null,
            "flex": null,
            "flex_flow": null,
            "grid_area": null,
            "grid_auto_columns": null,
            "grid_auto_flow": null,
            "grid_auto_rows": null,
            "grid_column": null,
            "grid_gap": null,
            "grid_row": null,
            "grid_template_areas": null,
            "grid_template_columns": null,
            "grid_template_rows": null,
            "height": null,
            "justify_content": null,
            "justify_items": null,
            "left": null,
            "margin": null,
            "max_height": null,
            "max_width": null,
            "min_height": null,
            "min_width": null,
            "object_fit": null,
            "object_position": null,
            "order": null,
            "overflow": null,
            "overflow_x": null,
            "overflow_y": null,
            "padding": null,
            "right": null,
            "top": null,
            "visibility": null,
            "width": null
          }
        },
        "8f6ca4f186dd4beb9505e1a7383a8c1e": {
          "model_module": "@jupyter-widgets/base",
          "model_name": "LayoutModel",
          "model_module_version": "1.2.0",
          "state": {
            "_model_module": "@jupyter-widgets/base",
            "_model_module_version": "1.2.0",
            "_model_name": "LayoutModel",
            "_view_count": null,
            "_view_module": "@jupyter-widgets/base",
            "_view_module_version": "1.2.0",
            "_view_name": "LayoutView",
            "align_content": null,
            "align_items": null,
            "align_self": null,
            "border": null,
            "bottom": null,
            "display": null,
            "flex": null,
            "flex_flow": null,
            "grid_area": null,
            "grid_auto_columns": null,
            "grid_auto_flow": null,
            "grid_auto_rows": null,
            "grid_column": null,
            "grid_gap": null,
            "grid_row": null,
            "grid_template_areas": null,
            "grid_template_columns": null,
            "grid_template_rows": null,
            "height": null,
            "justify_content": null,
            "justify_items": null,
            "left": null,
            "margin": null,
            "max_height": null,
            "max_width": null,
            "min_height": null,
            "min_width": null,
            "object_fit": null,
            "object_position": null,
            "order": null,
            "overflow": null,
            "overflow_x": null,
            "overflow_y": null,
            "padding": null,
            "right": null,
            "top": null,
            "visibility": null,
            "width": null
          }
        },
        "384037967265429fb8ba187a0a31bd61": {
          "model_module": "@jupyter-widgets/controls",
          "model_name": "DescriptionStyleModel",
          "model_module_version": "1.5.0",
          "state": {
            "_model_module": "@jupyter-widgets/controls",
            "_model_module_version": "1.5.0",
            "_model_name": "DescriptionStyleModel",
            "_view_count": null,
            "_view_module": "@jupyter-widgets/base",
            "_view_module_version": "1.2.0",
            "_view_name": "StyleView",
            "description_width": ""
          }
        },
        "ee0d15115b444202a433849dfefab67c": {
          "model_module": "@jupyter-widgets/base",
          "model_name": "LayoutModel",
          "model_module_version": "1.2.0",
          "state": {
            "_model_module": "@jupyter-widgets/base",
            "_model_module_version": "1.2.0",
            "_model_name": "LayoutModel",
            "_view_count": null,
            "_view_module": "@jupyter-widgets/base",
            "_view_module_version": "1.2.0",
            "_view_name": "LayoutView",
            "align_content": null,
            "align_items": null,
            "align_self": null,
            "border": null,
            "bottom": null,
            "display": null,
            "flex": null,
            "flex_flow": null,
            "grid_area": null,
            "grid_auto_columns": null,
            "grid_auto_flow": null,
            "grid_auto_rows": null,
            "grid_column": null,
            "grid_gap": null,
            "grid_row": null,
            "grid_template_areas": null,
            "grid_template_columns": null,
            "grid_template_rows": null,
            "height": null,
            "justify_content": null,
            "justify_items": null,
            "left": null,
            "margin": null,
            "max_height": null,
            "max_width": null,
            "min_height": null,
            "min_width": null,
            "object_fit": null,
            "object_position": null,
            "order": null,
            "overflow": null,
            "overflow_x": null,
            "overflow_y": null,
            "padding": null,
            "right": null,
            "top": null,
            "visibility": null,
            "width": null
          }
        },
        "fe46f2806a874956a7239f8a8dcf2ebf": {
          "model_module": "@jupyter-widgets/controls",
          "model_name": "ProgressStyleModel",
          "model_module_version": "1.5.0",
          "state": {
            "_model_module": "@jupyter-widgets/controls",
            "_model_module_version": "1.5.0",
            "_model_name": "ProgressStyleModel",
            "_view_count": null,
            "_view_module": "@jupyter-widgets/base",
            "_view_module_version": "1.2.0",
            "_view_name": "StyleView",
            "bar_color": null,
            "description_width": ""
          }
        },
        "7ee6379de63042f7a2b4af35ade3298c": {
          "model_module": "@jupyter-widgets/base",
          "model_name": "LayoutModel",
          "model_module_version": "1.2.0",
          "state": {
            "_model_module": "@jupyter-widgets/base",
            "_model_module_version": "1.2.0",
            "_model_name": "LayoutModel",
            "_view_count": null,
            "_view_module": "@jupyter-widgets/base",
            "_view_module_version": "1.2.0",
            "_view_name": "LayoutView",
            "align_content": null,
            "align_items": null,
            "align_self": null,
            "border": null,
            "bottom": null,
            "display": null,
            "flex": null,
            "flex_flow": null,
            "grid_area": null,
            "grid_auto_columns": null,
            "grid_auto_flow": null,
            "grid_auto_rows": null,
            "grid_column": null,
            "grid_gap": null,
            "grid_row": null,
            "grid_template_areas": null,
            "grid_template_columns": null,
            "grid_template_rows": null,
            "height": null,
            "justify_content": null,
            "justify_items": null,
            "left": null,
            "margin": null,
            "max_height": null,
            "max_width": null,
            "min_height": null,
            "min_width": null,
            "object_fit": null,
            "object_position": null,
            "order": null,
            "overflow": null,
            "overflow_x": null,
            "overflow_y": null,
            "padding": null,
            "right": null,
            "top": null,
            "visibility": null,
            "width": null
          }
        },
        "f2f74c7e7b1d480e8362abfe43923585": {
          "model_module": "@jupyter-widgets/controls",
          "model_name": "DescriptionStyleModel",
          "model_module_version": "1.5.0",
          "state": {
            "_model_module": "@jupyter-widgets/controls",
            "_model_module_version": "1.5.0",
            "_model_name": "DescriptionStyleModel",
            "_view_count": null,
            "_view_module": "@jupyter-widgets/base",
            "_view_module_version": "1.2.0",
            "_view_name": "StyleView",
            "description_width": ""
          }
        },
        "3f660e9460fc43efb7c6e28b0ae33cf5": {
          "model_module": "@jupyter-widgets/controls",
          "model_name": "HBoxModel",
          "model_module_version": "1.5.0",
          "state": {
            "_dom_classes": [],
            "_model_module": "@jupyter-widgets/controls",
            "_model_module_version": "1.5.0",
            "_model_name": "HBoxModel",
            "_view_count": null,
            "_view_module": "@jupyter-widgets/controls",
            "_view_module_version": "1.5.0",
            "_view_name": "HBoxView",
            "box_style": "",
            "children": [
              "IPY_MODEL_47d1cda42745487588f05ca959953c17",
              "IPY_MODEL_89d39dc64f014a79a87366b74b52e8a8",
              "IPY_MODEL_a68121c1f44a4c9a99401312093f0ce5"
            ],
            "layout": "IPY_MODEL_5d147e97fd4443cdb79ec8cbc641f0aa"
          }
        },
        "47d1cda42745487588f05ca959953c17": {
          "model_module": "@jupyter-widgets/controls",
          "model_name": "HTMLModel",
          "model_module_version": "1.5.0",
          "state": {
            "_dom_classes": [],
            "_model_module": "@jupyter-widgets/controls",
            "_model_module_version": "1.5.0",
            "_model_name": "HTMLModel",
            "_view_count": null,
            "_view_module": "@jupyter-widgets/controls",
            "_view_module_version": "1.5.0",
            "_view_name": "HTMLView",
            "description": "",
            "description_tooltip": null,
            "layout": "IPY_MODEL_578f9451cfe447e68b932c3b202b80bb",
            "placeholder": "​",
            "style": "IPY_MODEL_f622c4d861e1484bb33d63a58903c5ce",
            "value": "Downloading (…)solve/main/vocab.txt: 100%"
          }
        },
        "89d39dc64f014a79a87366b74b52e8a8": {
          "model_module": "@jupyter-widgets/controls",
          "model_name": "FloatProgressModel",
          "model_module_version": "1.5.0",
          "state": {
            "_dom_classes": [],
            "_model_module": "@jupyter-widgets/controls",
            "_model_module_version": "1.5.0",
            "_model_name": "FloatProgressModel",
            "_view_count": null,
            "_view_module": "@jupyter-widgets/controls",
            "_view_module_version": "1.5.0",
            "_view_name": "ProgressView",
            "bar_style": "success",
            "description": "",
            "description_tooltip": null,
            "layout": "IPY_MODEL_471b34e6da2d497bbfc5bf4a22f93044",
            "max": 226122,
            "min": 0,
            "orientation": "horizontal",
            "style": "IPY_MODEL_655f73b9073644f0bb85ebf84da52224",
            "value": 226122
          }
        },
        "a68121c1f44a4c9a99401312093f0ce5": {
          "model_module": "@jupyter-widgets/controls",
          "model_name": "HTMLModel",
          "model_module_version": "1.5.0",
          "state": {
            "_dom_classes": [],
            "_model_module": "@jupyter-widgets/controls",
            "_model_module_version": "1.5.0",
            "_model_name": "HTMLModel",
            "_view_count": null,
            "_view_module": "@jupyter-widgets/controls",
            "_view_module_version": "1.5.0",
            "_view_name": "HTMLView",
            "description": "",
            "description_tooltip": null,
            "layout": "IPY_MODEL_847f178a21a44aadae92cbc86f9bf394",
            "placeholder": "​",
            "style": "IPY_MODEL_fc2bd452c2ad408e8ac40800e303ffa2",
            "value": " 226k/226k [00:00&lt;00:00, 531kB/s]"
          }
        },
        "5d147e97fd4443cdb79ec8cbc641f0aa": {
          "model_module": "@jupyter-widgets/base",
          "model_name": "LayoutModel",
          "model_module_version": "1.2.0",
          "state": {
            "_model_module": "@jupyter-widgets/base",
            "_model_module_version": "1.2.0",
            "_model_name": "LayoutModel",
            "_view_count": null,
            "_view_module": "@jupyter-widgets/base",
            "_view_module_version": "1.2.0",
            "_view_name": "LayoutView",
            "align_content": null,
            "align_items": null,
            "align_self": null,
            "border": null,
            "bottom": null,
            "display": null,
            "flex": null,
            "flex_flow": null,
            "grid_area": null,
            "grid_auto_columns": null,
            "grid_auto_flow": null,
            "grid_auto_rows": null,
            "grid_column": null,
            "grid_gap": null,
            "grid_row": null,
            "grid_template_areas": null,
            "grid_template_columns": null,
            "grid_template_rows": null,
            "height": null,
            "justify_content": null,
            "justify_items": null,
            "left": null,
            "margin": null,
            "max_height": null,
            "max_width": null,
            "min_height": null,
            "min_width": null,
            "object_fit": null,
            "object_position": null,
            "order": null,
            "overflow": null,
            "overflow_x": null,
            "overflow_y": null,
            "padding": null,
            "right": null,
            "top": null,
            "visibility": null,
            "width": null
          }
        },
        "578f9451cfe447e68b932c3b202b80bb": {
          "model_module": "@jupyter-widgets/base",
          "model_name": "LayoutModel",
          "model_module_version": "1.2.0",
          "state": {
            "_model_module": "@jupyter-widgets/base",
            "_model_module_version": "1.2.0",
            "_model_name": "LayoutModel",
            "_view_count": null,
            "_view_module": "@jupyter-widgets/base",
            "_view_module_version": "1.2.0",
            "_view_name": "LayoutView",
            "align_content": null,
            "align_items": null,
            "align_self": null,
            "border": null,
            "bottom": null,
            "display": null,
            "flex": null,
            "flex_flow": null,
            "grid_area": null,
            "grid_auto_columns": null,
            "grid_auto_flow": null,
            "grid_auto_rows": null,
            "grid_column": null,
            "grid_gap": null,
            "grid_row": null,
            "grid_template_areas": null,
            "grid_template_columns": null,
            "grid_template_rows": null,
            "height": null,
            "justify_content": null,
            "justify_items": null,
            "left": null,
            "margin": null,
            "max_height": null,
            "max_width": null,
            "min_height": null,
            "min_width": null,
            "object_fit": null,
            "object_position": null,
            "order": null,
            "overflow": null,
            "overflow_x": null,
            "overflow_y": null,
            "padding": null,
            "right": null,
            "top": null,
            "visibility": null,
            "width": null
          }
        },
        "f622c4d861e1484bb33d63a58903c5ce": {
          "model_module": "@jupyter-widgets/controls",
          "model_name": "DescriptionStyleModel",
          "model_module_version": "1.5.0",
          "state": {
            "_model_module": "@jupyter-widgets/controls",
            "_model_module_version": "1.5.0",
            "_model_name": "DescriptionStyleModel",
            "_view_count": null,
            "_view_module": "@jupyter-widgets/base",
            "_view_module_version": "1.2.0",
            "_view_name": "StyleView",
            "description_width": ""
          }
        },
        "471b34e6da2d497bbfc5bf4a22f93044": {
          "model_module": "@jupyter-widgets/base",
          "model_name": "LayoutModel",
          "model_module_version": "1.2.0",
          "state": {
            "_model_module": "@jupyter-widgets/base",
            "_model_module_version": "1.2.0",
            "_model_name": "LayoutModel",
            "_view_count": null,
            "_view_module": "@jupyter-widgets/base",
            "_view_module_version": "1.2.0",
            "_view_name": "LayoutView",
            "align_content": null,
            "align_items": null,
            "align_self": null,
            "border": null,
            "bottom": null,
            "display": null,
            "flex": null,
            "flex_flow": null,
            "grid_area": null,
            "grid_auto_columns": null,
            "grid_auto_flow": null,
            "grid_auto_rows": null,
            "grid_column": null,
            "grid_gap": null,
            "grid_row": null,
            "grid_template_areas": null,
            "grid_template_columns": null,
            "grid_template_rows": null,
            "height": null,
            "justify_content": null,
            "justify_items": null,
            "left": null,
            "margin": null,
            "max_height": null,
            "max_width": null,
            "min_height": null,
            "min_width": null,
            "object_fit": null,
            "object_position": null,
            "order": null,
            "overflow": null,
            "overflow_x": null,
            "overflow_y": null,
            "padding": null,
            "right": null,
            "top": null,
            "visibility": null,
            "width": null
          }
        },
        "655f73b9073644f0bb85ebf84da52224": {
          "model_module": "@jupyter-widgets/controls",
          "model_name": "ProgressStyleModel",
          "model_module_version": "1.5.0",
          "state": {
            "_model_module": "@jupyter-widgets/controls",
            "_model_module_version": "1.5.0",
            "_model_name": "ProgressStyleModel",
            "_view_count": null,
            "_view_module": "@jupyter-widgets/base",
            "_view_module_version": "1.2.0",
            "_view_name": "StyleView",
            "bar_color": null,
            "description_width": ""
          }
        },
        "847f178a21a44aadae92cbc86f9bf394": {
          "model_module": "@jupyter-widgets/base",
          "model_name": "LayoutModel",
          "model_module_version": "1.2.0",
          "state": {
            "_model_module": "@jupyter-widgets/base",
            "_model_module_version": "1.2.0",
            "_model_name": "LayoutModel",
            "_view_count": null,
            "_view_module": "@jupyter-widgets/base",
            "_view_module_version": "1.2.0",
            "_view_name": "LayoutView",
            "align_content": null,
            "align_items": null,
            "align_self": null,
            "border": null,
            "bottom": null,
            "display": null,
            "flex": null,
            "flex_flow": null,
            "grid_area": null,
            "grid_auto_columns": null,
            "grid_auto_flow": null,
            "grid_auto_rows": null,
            "grid_column": null,
            "grid_gap": null,
            "grid_row": null,
            "grid_template_areas": null,
            "grid_template_columns": null,
            "grid_template_rows": null,
            "height": null,
            "justify_content": null,
            "justify_items": null,
            "left": null,
            "margin": null,
            "max_height": null,
            "max_width": null,
            "min_height": null,
            "min_width": null,
            "object_fit": null,
            "object_position": null,
            "order": null,
            "overflow": null,
            "overflow_x": null,
            "overflow_y": null,
            "padding": null,
            "right": null,
            "top": null,
            "visibility": null,
            "width": null
          }
        },
        "fc2bd452c2ad408e8ac40800e303ffa2": {
          "model_module": "@jupyter-widgets/controls",
          "model_name": "DescriptionStyleModel",
          "model_module_version": "1.5.0",
          "state": {
            "_model_module": "@jupyter-widgets/controls",
            "_model_module_version": "1.5.0",
            "_model_name": "DescriptionStyleModel",
            "_view_count": null,
            "_view_module": "@jupyter-widgets/base",
            "_view_module_version": "1.2.0",
            "_view_name": "StyleView",
            "description_width": ""
          }
        },
        "8bb55e6797d34aceaf8eab6c3af593d6": {
          "model_module": "@jupyter-widgets/controls",
          "model_name": "HBoxModel",
          "model_module_version": "1.5.0",
          "state": {
            "_dom_classes": [],
            "_model_module": "@jupyter-widgets/controls",
            "_model_module_version": "1.5.0",
            "_model_name": "HBoxModel",
            "_view_count": null,
            "_view_module": "@jupyter-widgets/controls",
            "_view_module_version": "1.5.0",
            "_view_name": "HBoxView",
            "box_style": "",
            "children": [
              "IPY_MODEL_5b74e27552774a158407d56c9fdf2e44",
              "IPY_MODEL_5af1875c40714c27bbe56fd2f1063134",
              "IPY_MODEL_8845841219684e1cb894806295805a12"
            ],
            "layout": "IPY_MODEL_993ba2d13fd24380b0cbb03f515aeb91"
          }
        },
        "5b74e27552774a158407d56c9fdf2e44": {
          "model_module": "@jupyter-widgets/controls",
          "model_name": "HTMLModel",
          "model_module_version": "1.5.0",
          "state": {
            "_dom_classes": [],
            "_model_module": "@jupyter-widgets/controls",
            "_model_module_version": "1.5.0",
            "_model_name": "HTMLModel",
            "_view_count": null,
            "_view_module": "@jupyter-widgets/controls",
            "_view_module_version": "1.5.0",
            "_view_name": "HTMLView",
            "description": "",
            "description_tooltip": null,
            "layout": "IPY_MODEL_b5142f57b8f34d67a46262b8d10bfe7b",
            "placeholder": "​",
            "style": "IPY_MODEL_e7d7a62714114db6a183c93e3347b6e1",
            "value": "Map: 100%"
          }
        },
        "5af1875c40714c27bbe56fd2f1063134": {
          "model_module": "@jupyter-widgets/controls",
          "model_name": "FloatProgressModel",
          "model_module_version": "1.5.0",
          "state": {
            "_dom_classes": [],
            "_model_module": "@jupyter-widgets/controls",
            "_model_module_version": "1.5.0",
            "_model_name": "FloatProgressModel",
            "_view_count": null,
            "_view_module": "@jupyter-widgets/controls",
            "_view_module_version": "1.5.0",
            "_view_name": "ProgressView",
            "bar_style": "",
            "description": "",
            "description_tooltip": null,
            "layout": "IPY_MODEL_43d4644e27e0498f82ac5a4e50db517a",
            "max": 4731,
            "min": 0,
            "orientation": "horizontal",
            "style": "IPY_MODEL_827afbd9fbe54f7db1e1b25fe66a2392",
            "value": 4731
          }
        },
        "8845841219684e1cb894806295805a12": {
          "model_module": "@jupyter-widgets/controls",
          "model_name": "HTMLModel",
          "model_module_version": "1.5.0",
          "state": {
            "_dom_classes": [],
            "_model_module": "@jupyter-widgets/controls",
            "_model_module_version": "1.5.0",
            "_model_name": "HTMLModel",
            "_view_count": null,
            "_view_module": "@jupyter-widgets/controls",
            "_view_module_version": "1.5.0",
            "_view_name": "HTMLView",
            "description": "",
            "description_tooltip": null,
            "layout": "IPY_MODEL_4445d683f857468f945b43088d8fb838",
            "placeholder": "​",
            "style": "IPY_MODEL_7b4c68554db4426a879b7ceda16f6668",
            "value": " 4731/4731 [00:02&lt;00:00, 2231.28 examples/s]"
          }
        },
        "993ba2d13fd24380b0cbb03f515aeb91": {
          "model_module": "@jupyter-widgets/base",
          "model_name": "LayoutModel",
          "model_module_version": "1.2.0",
          "state": {
            "_model_module": "@jupyter-widgets/base",
            "_model_module_version": "1.2.0",
            "_model_name": "LayoutModel",
            "_view_count": null,
            "_view_module": "@jupyter-widgets/base",
            "_view_module_version": "1.2.0",
            "_view_name": "LayoutView",
            "align_content": null,
            "align_items": null,
            "align_self": null,
            "border": null,
            "bottom": null,
            "display": null,
            "flex": null,
            "flex_flow": null,
            "grid_area": null,
            "grid_auto_columns": null,
            "grid_auto_flow": null,
            "grid_auto_rows": null,
            "grid_column": null,
            "grid_gap": null,
            "grid_row": null,
            "grid_template_areas": null,
            "grid_template_columns": null,
            "grid_template_rows": null,
            "height": null,
            "justify_content": null,
            "justify_items": null,
            "left": null,
            "margin": null,
            "max_height": null,
            "max_width": null,
            "min_height": null,
            "min_width": null,
            "object_fit": null,
            "object_position": null,
            "order": null,
            "overflow": null,
            "overflow_x": null,
            "overflow_y": null,
            "padding": null,
            "right": null,
            "top": null,
            "visibility": "hidden",
            "width": null
          }
        },
        "b5142f57b8f34d67a46262b8d10bfe7b": {
          "model_module": "@jupyter-widgets/base",
          "model_name": "LayoutModel",
          "model_module_version": "1.2.0",
          "state": {
            "_model_module": "@jupyter-widgets/base",
            "_model_module_version": "1.2.0",
            "_model_name": "LayoutModel",
            "_view_count": null,
            "_view_module": "@jupyter-widgets/base",
            "_view_module_version": "1.2.0",
            "_view_name": "LayoutView",
            "align_content": null,
            "align_items": null,
            "align_self": null,
            "border": null,
            "bottom": null,
            "display": null,
            "flex": null,
            "flex_flow": null,
            "grid_area": null,
            "grid_auto_columns": null,
            "grid_auto_flow": null,
            "grid_auto_rows": null,
            "grid_column": null,
            "grid_gap": null,
            "grid_row": null,
            "grid_template_areas": null,
            "grid_template_columns": null,
            "grid_template_rows": null,
            "height": null,
            "justify_content": null,
            "justify_items": null,
            "left": null,
            "margin": null,
            "max_height": null,
            "max_width": null,
            "min_height": null,
            "min_width": null,
            "object_fit": null,
            "object_position": null,
            "order": null,
            "overflow": null,
            "overflow_x": null,
            "overflow_y": null,
            "padding": null,
            "right": null,
            "top": null,
            "visibility": null,
            "width": null
          }
        },
        "e7d7a62714114db6a183c93e3347b6e1": {
          "model_module": "@jupyter-widgets/controls",
          "model_name": "DescriptionStyleModel",
          "model_module_version": "1.5.0",
          "state": {
            "_model_module": "@jupyter-widgets/controls",
            "_model_module_version": "1.5.0",
            "_model_name": "DescriptionStyleModel",
            "_view_count": null,
            "_view_module": "@jupyter-widgets/base",
            "_view_module_version": "1.2.0",
            "_view_name": "StyleView",
            "description_width": ""
          }
        },
        "43d4644e27e0498f82ac5a4e50db517a": {
          "model_module": "@jupyter-widgets/base",
          "model_name": "LayoutModel",
          "model_module_version": "1.2.0",
          "state": {
            "_model_module": "@jupyter-widgets/base",
            "_model_module_version": "1.2.0",
            "_model_name": "LayoutModel",
            "_view_count": null,
            "_view_module": "@jupyter-widgets/base",
            "_view_module_version": "1.2.0",
            "_view_name": "LayoutView",
            "align_content": null,
            "align_items": null,
            "align_self": null,
            "border": null,
            "bottom": null,
            "display": null,
            "flex": null,
            "flex_flow": null,
            "grid_area": null,
            "grid_auto_columns": null,
            "grid_auto_flow": null,
            "grid_auto_rows": null,
            "grid_column": null,
            "grid_gap": null,
            "grid_row": null,
            "grid_template_areas": null,
            "grid_template_columns": null,
            "grid_template_rows": null,
            "height": null,
            "justify_content": null,
            "justify_items": null,
            "left": null,
            "margin": null,
            "max_height": null,
            "max_width": null,
            "min_height": null,
            "min_width": null,
            "object_fit": null,
            "object_position": null,
            "order": null,
            "overflow": null,
            "overflow_x": null,
            "overflow_y": null,
            "padding": null,
            "right": null,
            "top": null,
            "visibility": null,
            "width": null
          }
        },
        "827afbd9fbe54f7db1e1b25fe66a2392": {
          "model_module": "@jupyter-widgets/controls",
          "model_name": "ProgressStyleModel",
          "model_module_version": "1.5.0",
          "state": {
            "_model_module": "@jupyter-widgets/controls",
            "_model_module_version": "1.5.0",
            "_model_name": "ProgressStyleModel",
            "_view_count": null,
            "_view_module": "@jupyter-widgets/base",
            "_view_module_version": "1.2.0",
            "_view_name": "StyleView",
            "bar_color": null,
            "description_width": ""
          }
        },
        "4445d683f857468f945b43088d8fb838": {
          "model_module": "@jupyter-widgets/base",
          "model_name": "LayoutModel",
          "model_module_version": "1.2.0",
          "state": {
            "_model_module": "@jupyter-widgets/base",
            "_model_module_version": "1.2.0",
            "_model_name": "LayoutModel",
            "_view_count": null,
            "_view_module": "@jupyter-widgets/base",
            "_view_module_version": "1.2.0",
            "_view_name": "LayoutView",
            "align_content": null,
            "align_items": null,
            "align_self": null,
            "border": null,
            "bottom": null,
            "display": null,
            "flex": null,
            "flex_flow": null,
            "grid_area": null,
            "grid_auto_columns": null,
            "grid_auto_flow": null,
            "grid_auto_rows": null,
            "grid_column": null,
            "grid_gap": null,
            "grid_row": null,
            "grid_template_areas": null,
            "grid_template_columns": null,
            "grid_template_rows": null,
            "height": null,
            "justify_content": null,
            "justify_items": null,
            "left": null,
            "margin": null,
            "max_height": null,
            "max_width": null,
            "min_height": null,
            "min_width": null,
            "object_fit": null,
            "object_position": null,
            "order": null,
            "overflow": null,
            "overflow_x": null,
            "overflow_y": null,
            "padding": null,
            "right": null,
            "top": null,
            "visibility": null,
            "width": null
          }
        },
        "7b4c68554db4426a879b7ceda16f6668": {
          "model_module": "@jupyter-widgets/controls",
          "model_name": "DescriptionStyleModel",
          "model_module_version": "1.5.0",
          "state": {
            "_model_module": "@jupyter-widgets/controls",
            "_model_module_version": "1.5.0",
            "_model_name": "DescriptionStyleModel",
            "_view_count": null,
            "_view_module": "@jupyter-widgets/base",
            "_view_module_version": "1.2.0",
            "_view_name": "StyleView",
            "description_width": ""
          }
        },
        "81f1c5d97edb4eeeb446aca7b915448f": {
          "model_module": "@jupyter-widgets/controls",
          "model_name": "HBoxModel",
          "model_module_version": "1.5.0",
          "state": {
            "_dom_classes": [],
            "_model_module": "@jupyter-widgets/controls",
            "_model_module_version": "1.5.0",
            "_model_name": "HBoxModel",
            "_view_count": null,
            "_view_module": "@jupyter-widgets/controls",
            "_view_module_version": "1.5.0",
            "_view_name": "HBoxView",
            "box_style": "",
            "children": [
              "IPY_MODEL_c1059ac70ee94dfe975f920042aa3046",
              "IPY_MODEL_841eba0dca8c4ba5a5f521d2aa056396",
              "IPY_MODEL_c9dc1c28fda646daaa84bc9af9cf5d43"
            ],
            "layout": "IPY_MODEL_fa0184174b8c4ef78555873483e0b8a9"
          }
        },
        "c1059ac70ee94dfe975f920042aa3046": {
          "model_module": "@jupyter-widgets/controls",
          "model_name": "HTMLModel",
          "model_module_version": "1.5.0",
          "state": {
            "_dom_classes": [],
            "_model_module": "@jupyter-widgets/controls",
            "_model_module_version": "1.5.0",
            "_model_name": "HTMLModel",
            "_view_count": null,
            "_view_module": "@jupyter-widgets/controls",
            "_view_module_version": "1.5.0",
            "_view_name": "HTMLView",
            "description": "",
            "description_tooltip": null,
            "layout": "IPY_MODEL_6014b8a9c90c4ccfa22a20a5c99a52c3",
            "placeholder": "​",
            "style": "IPY_MODEL_45185a7241d440dba33772601528b472",
            "value": "Map: 100%"
          }
        },
        "841eba0dca8c4ba5a5f521d2aa056396": {
          "model_module": "@jupyter-widgets/controls",
          "model_name": "FloatProgressModel",
          "model_module_version": "1.5.0",
          "state": {
            "_dom_classes": [],
            "_model_module": "@jupyter-widgets/controls",
            "_model_module_version": "1.5.0",
            "_model_name": "FloatProgressModel",
            "_view_count": null,
            "_view_module": "@jupyter-widgets/controls",
            "_view_module_version": "1.5.0",
            "_view_name": "ProgressView",
            "bar_style": "",
            "description": "",
            "description_tooltip": null,
            "layout": "IPY_MODEL_7c14cca0255d4ec58d8bb8b50004060b",
            "max": 526,
            "min": 0,
            "orientation": "horizontal",
            "style": "IPY_MODEL_c2a323e561e848899cc9a72281894f51",
            "value": 526
          }
        },
        "c9dc1c28fda646daaa84bc9af9cf5d43": {
          "model_module": "@jupyter-widgets/controls",
          "model_name": "HTMLModel",
          "model_module_version": "1.5.0",
          "state": {
            "_dom_classes": [],
            "_model_module": "@jupyter-widgets/controls",
            "_model_module_version": "1.5.0",
            "_model_name": "HTMLModel",
            "_view_count": null,
            "_view_module": "@jupyter-widgets/controls",
            "_view_module_version": "1.5.0",
            "_view_name": "HTMLView",
            "description": "",
            "description_tooltip": null,
            "layout": "IPY_MODEL_285fe6fb31b042e4acf847a50b3e9297",
            "placeholder": "​",
            "style": "IPY_MODEL_8522250a12374a0a9b7f078b02862e29",
            "value": " 526/526 [00:00&lt;00:00, 2139.27 examples/s]"
          }
        },
        "fa0184174b8c4ef78555873483e0b8a9": {
          "model_module": "@jupyter-widgets/base",
          "model_name": "LayoutModel",
          "model_module_version": "1.2.0",
          "state": {
            "_model_module": "@jupyter-widgets/base",
            "_model_module_version": "1.2.0",
            "_model_name": "LayoutModel",
            "_view_count": null,
            "_view_module": "@jupyter-widgets/base",
            "_view_module_version": "1.2.0",
            "_view_name": "LayoutView",
            "align_content": null,
            "align_items": null,
            "align_self": null,
            "border": null,
            "bottom": null,
            "display": null,
            "flex": null,
            "flex_flow": null,
            "grid_area": null,
            "grid_auto_columns": null,
            "grid_auto_flow": null,
            "grid_auto_rows": null,
            "grid_column": null,
            "grid_gap": null,
            "grid_row": null,
            "grid_template_areas": null,
            "grid_template_columns": null,
            "grid_template_rows": null,
            "height": null,
            "justify_content": null,
            "justify_items": null,
            "left": null,
            "margin": null,
            "max_height": null,
            "max_width": null,
            "min_height": null,
            "min_width": null,
            "object_fit": null,
            "object_position": null,
            "order": null,
            "overflow": null,
            "overflow_x": null,
            "overflow_y": null,
            "padding": null,
            "right": null,
            "top": null,
            "visibility": "hidden",
            "width": null
          }
        },
        "6014b8a9c90c4ccfa22a20a5c99a52c3": {
          "model_module": "@jupyter-widgets/base",
          "model_name": "LayoutModel",
          "model_module_version": "1.2.0",
          "state": {
            "_model_module": "@jupyter-widgets/base",
            "_model_module_version": "1.2.0",
            "_model_name": "LayoutModel",
            "_view_count": null,
            "_view_module": "@jupyter-widgets/base",
            "_view_module_version": "1.2.0",
            "_view_name": "LayoutView",
            "align_content": null,
            "align_items": null,
            "align_self": null,
            "border": null,
            "bottom": null,
            "display": null,
            "flex": null,
            "flex_flow": null,
            "grid_area": null,
            "grid_auto_columns": null,
            "grid_auto_flow": null,
            "grid_auto_rows": null,
            "grid_column": null,
            "grid_gap": null,
            "grid_row": null,
            "grid_template_areas": null,
            "grid_template_columns": null,
            "grid_template_rows": null,
            "height": null,
            "justify_content": null,
            "justify_items": null,
            "left": null,
            "margin": null,
            "max_height": null,
            "max_width": null,
            "min_height": null,
            "min_width": null,
            "object_fit": null,
            "object_position": null,
            "order": null,
            "overflow": null,
            "overflow_x": null,
            "overflow_y": null,
            "padding": null,
            "right": null,
            "top": null,
            "visibility": null,
            "width": null
          }
        },
        "45185a7241d440dba33772601528b472": {
          "model_module": "@jupyter-widgets/controls",
          "model_name": "DescriptionStyleModel",
          "model_module_version": "1.5.0",
          "state": {
            "_model_module": "@jupyter-widgets/controls",
            "_model_module_version": "1.5.0",
            "_model_name": "DescriptionStyleModel",
            "_view_count": null,
            "_view_module": "@jupyter-widgets/base",
            "_view_module_version": "1.2.0",
            "_view_name": "StyleView",
            "description_width": ""
          }
        },
        "7c14cca0255d4ec58d8bb8b50004060b": {
          "model_module": "@jupyter-widgets/base",
          "model_name": "LayoutModel",
          "model_module_version": "1.2.0",
          "state": {
            "_model_module": "@jupyter-widgets/base",
            "_model_module_version": "1.2.0",
            "_model_name": "LayoutModel",
            "_view_count": null,
            "_view_module": "@jupyter-widgets/base",
            "_view_module_version": "1.2.0",
            "_view_name": "LayoutView",
            "align_content": null,
            "align_items": null,
            "align_self": null,
            "border": null,
            "bottom": null,
            "display": null,
            "flex": null,
            "flex_flow": null,
            "grid_area": null,
            "grid_auto_columns": null,
            "grid_auto_flow": null,
            "grid_auto_rows": null,
            "grid_column": null,
            "grid_gap": null,
            "grid_row": null,
            "grid_template_areas": null,
            "grid_template_columns": null,
            "grid_template_rows": null,
            "height": null,
            "justify_content": null,
            "justify_items": null,
            "left": null,
            "margin": null,
            "max_height": null,
            "max_width": null,
            "min_height": null,
            "min_width": null,
            "object_fit": null,
            "object_position": null,
            "order": null,
            "overflow": null,
            "overflow_x": null,
            "overflow_y": null,
            "padding": null,
            "right": null,
            "top": null,
            "visibility": null,
            "width": null
          }
        },
        "c2a323e561e848899cc9a72281894f51": {
          "model_module": "@jupyter-widgets/controls",
          "model_name": "ProgressStyleModel",
          "model_module_version": "1.5.0",
          "state": {
            "_model_module": "@jupyter-widgets/controls",
            "_model_module_version": "1.5.0",
            "_model_name": "ProgressStyleModel",
            "_view_count": null,
            "_view_module": "@jupyter-widgets/base",
            "_view_module_version": "1.2.0",
            "_view_name": "StyleView",
            "bar_color": null,
            "description_width": ""
          }
        },
        "285fe6fb31b042e4acf847a50b3e9297": {
          "model_module": "@jupyter-widgets/base",
          "model_name": "LayoutModel",
          "model_module_version": "1.2.0",
          "state": {
            "_model_module": "@jupyter-widgets/base",
            "_model_module_version": "1.2.0",
            "_model_name": "LayoutModel",
            "_view_count": null,
            "_view_module": "@jupyter-widgets/base",
            "_view_module_version": "1.2.0",
            "_view_name": "LayoutView",
            "align_content": null,
            "align_items": null,
            "align_self": null,
            "border": null,
            "bottom": null,
            "display": null,
            "flex": null,
            "flex_flow": null,
            "grid_area": null,
            "grid_auto_columns": null,
            "grid_auto_flow": null,
            "grid_auto_rows": null,
            "grid_column": null,
            "grid_gap": null,
            "grid_row": null,
            "grid_template_areas": null,
            "grid_template_columns": null,
            "grid_template_rows": null,
            "height": null,
            "justify_content": null,
            "justify_items": null,
            "left": null,
            "margin": null,
            "max_height": null,
            "max_width": null,
            "min_height": null,
            "min_width": null,
            "object_fit": null,
            "object_position": null,
            "order": null,
            "overflow": null,
            "overflow_x": null,
            "overflow_y": null,
            "padding": null,
            "right": null,
            "top": null,
            "visibility": null,
            "width": null
          }
        },
        "8522250a12374a0a9b7f078b02862e29": {
          "model_module": "@jupyter-widgets/controls",
          "model_name": "DescriptionStyleModel",
          "model_module_version": "1.5.0",
          "state": {
            "_model_module": "@jupyter-widgets/controls",
            "_model_module_version": "1.5.0",
            "_model_name": "DescriptionStyleModel",
            "_view_count": null,
            "_view_module": "@jupyter-widgets/base",
            "_view_module_version": "1.2.0",
            "_view_name": "StyleView",
            "description_width": ""
          }
        },
        "4a13519d3d88433fafba608296265fd3": {
          "model_module": "@jupyter-widgets/controls",
          "model_name": "HBoxModel",
          "model_module_version": "1.5.0",
          "state": {
            "_dom_classes": [],
            "_model_module": "@jupyter-widgets/controls",
            "_model_module_version": "1.5.0",
            "_model_name": "HBoxModel",
            "_view_count": null,
            "_view_module": "@jupyter-widgets/controls",
            "_view_module_version": "1.5.0",
            "_view_name": "HBoxView",
            "box_style": "",
            "children": [
              "IPY_MODEL_0e2c84419a6045bba4ccb4a7f33b445c",
              "IPY_MODEL_5ce0957f7b884755bda9d62549136264",
              "IPY_MODEL_eb1b2a3ca50246fdb062e42f8081ad7f"
            ],
            "layout": "IPY_MODEL_0b62ee91f6d74bfaba267f7af915baf7"
          }
        },
        "0e2c84419a6045bba4ccb4a7f33b445c": {
          "model_module": "@jupyter-widgets/controls",
          "model_name": "HTMLModel",
          "model_module_version": "1.5.0",
          "state": {
            "_dom_classes": [],
            "_model_module": "@jupyter-widgets/controls",
            "_model_module_version": "1.5.0",
            "_model_name": "HTMLModel",
            "_view_count": null,
            "_view_module": "@jupyter-widgets/controls",
            "_view_module_version": "1.5.0",
            "_view_name": "HTMLView",
            "description": "",
            "description_tooltip": null,
            "layout": "IPY_MODEL_f10e7ac3c11f405f9ebc5c2ad7d73fcc",
            "placeholder": "​",
            "style": "IPY_MODEL_6843830dddf7420397ccdfd05322cdc2",
            "value": "Map: 100%"
          }
        },
        "5ce0957f7b884755bda9d62549136264": {
          "model_module": "@jupyter-widgets/controls",
          "model_name": "FloatProgressModel",
          "model_module_version": "1.5.0",
          "state": {
            "_dom_classes": [],
            "_model_module": "@jupyter-widgets/controls",
            "_model_module_version": "1.5.0",
            "_model_name": "FloatProgressModel",
            "_view_count": null,
            "_view_module": "@jupyter-widgets/controls",
            "_view_module_version": "1.5.0",
            "_view_name": "ProgressView",
            "bar_style": "",
            "description": "",
            "description_tooltip": null,
            "layout": "IPY_MODEL_4c19173a1b714baa8288b8dae70fc44f",
            "max": 585,
            "min": 0,
            "orientation": "horizontal",
            "style": "IPY_MODEL_5ed6d76478fe4357967171b3ac6227cd",
            "value": 585
          }
        },
        "eb1b2a3ca50246fdb062e42f8081ad7f": {
          "model_module": "@jupyter-widgets/controls",
          "model_name": "HTMLModel",
          "model_module_version": "1.5.0",
          "state": {
            "_dom_classes": [],
            "_model_module": "@jupyter-widgets/controls",
            "_model_module_version": "1.5.0",
            "_model_name": "HTMLModel",
            "_view_count": null,
            "_view_module": "@jupyter-widgets/controls",
            "_view_module_version": "1.5.0",
            "_view_name": "HTMLView",
            "description": "",
            "description_tooltip": null,
            "layout": "IPY_MODEL_5820818dd71b404ea4863118bc94533d",
            "placeholder": "​",
            "style": "IPY_MODEL_2becec10a69d4fd6bc63418ed49a424b",
            "value": " 585/585 [00:00&lt;00:00, 2145.00 examples/s]"
          }
        },
        "0b62ee91f6d74bfaba267f7af915baf7": {
          "model_module": "@jupyter-widgets/base",
          "model_name": "LayoutModel",
          "model_module_version": "1.2.0",
          "state": {
            "_model_module": "@jupyter-widgets/base",
            "_model_module_version": "1.2.0",
            "_model_name": "LayoutModel",
            "_view_count": null,
            "_view_module": "@jupyter-widgets/base",
            "_view_module_version": "1.2.0",
            "_view_name": "LayoutView",
            "align_content": null,
            "align_items": null,
            "align_self": null,
            "border": null,
            "bottom": null,
            "display": null,
            "flex": null,
            "flex_flow": null,
            "grid_area": null,
            "grid_auto_columns": null,
            "grid_auto_flow": null,
            "grid_auto_rows": null,
            "grid_column": null,
            "grid_gap": null,
            "grid_row": null,
            "grid_template_areas": null,
            "grid_template_columns": null,
            "grid_template_rows": null,
            "height": null,
            "justify_content": null,
            "justify_items": null,
            "left": null,
            "margin": null,
            "max_height": null,
            "max_width": null,
            "min_height": null,
            "min_width": null,
            "object_fit": null,
            "object_position": null,
            "order": null,
            "overflow": null,
            "overflow_x": null,
            "overflow_y": null,
            "padding": null,
            "right": null,
            "top": null,
            "visibility": "hidden",
            "width": null
          }
        },
        "f10e7ac3c11f405f9ebc5c2ad7d73fcc": {
          "model_module": "@jupyter-widgets/base",
          "model_name": "LayoutModel",
          "model_module_version": "1.2.0",
          "state": {
            "_model_module": "@jupyter-widgets/base",
            "_model_module_version": "1.2.0",
            "_model_name": "LayoutModel",
            "_view_count": null,
            "_view_module": "@jupyter-widgets/base",
            "_view_module_version": "1.2.0",
            "_view_name": "LayoutView",
            "align_content": null,
            "align_items": null,
            "align_self": null,
            "border": null,
            "bottom": null,
            "display": null,
            "flex": null,
            "flex_flow": null,
            "grid_area": null,
            "grid_auto_columns": null,
            "grid_auto_flow": null,
            "grid_auto_rows": null,
            "grid_column": null,
            "grid_gap": null,
            "grid_row": null,
            "grid_template_areas": null,
            "grid_template_columns": null,
            "grid_template_rows": null,
            "height": null,
            "justify_content": null,
            "justify_items": null,
            "left": null,
            "margin": null,
            "max_height": null,
            "max_width": null,
            "min_height": null,
            "min_width": null,
            "object_fit": null,
            "object_position": null,
            "order": null,
            "overflow": null,
            "overflow_x": null,
            "overflow_y": null,
            "padding": null,
            "right": null,
            "top": null,
            "visibility": null,
            "width": null
          }
        },
        "6843830dddf7420397ccdfd05322cdc2": {
          "model_module": "@jupyter-widgets/controls",
          "model_name": "DescriptionStyleModel",
          "model_module_version": "1.5.0",
          "state": {
            "_model_module": "@jupyter-widgets/controls",
            "_model_module_version": "1.5.0",
            "_model_name": "DescriptionStyleModel",
            "_view_count": null,
            "_view_module": "@jupyter-widgets/base",
            "_view_module_version": "1.2.0",
            "_view_name": "StyleView",
            "description_width": ""
          }
        },
        "4c19173a1b714baa8288b8dae70fc44f": {
          "model_module": "@jupyter-widgets/base",
          "model_name": "LayoutModel",
          "model_module_version": "1.2.0",
          "state": {
            "_model_module": "@jupyter-widgets/base",
            "_model_module_version": "1.2.0",
            "_model_name": "LayoutModel",
            "_view_count": null,
            "_view_module": "@jupyter-widgets/base",
            "_view_module_version": "1.2.0",
            "_view_name": "LayoutView",
            "align_content": null,
            "align_items": null,
            "align_self": null,
            "border": null,
            "bottom": null,
            "display": null,
            "flex": null,
            "flex_flow": null,
            "grid_area": null,
            "grid_auto_columns": null,
            "grid_auto_flow": null,
            "grid_auto_rows": null,
            "grid_column": null,
            "grid_gap": null,
            "grid_row": null,
            "grid_template_areas": null,
            "grid_template_columns": null,
            "grid_template_rows": null,
            "height": null,
            "justify_content": null,
            "justify_items": null,
            "left": null,
            "margin": null,
            "max_height": null,
            "max_width": null,
            "min_height": null,
            "min_width": null,
            "object_fit": null,
            "object_position": null,
            "order": null,
            "overflow": null,
            "overflow_x": null,
            "overflow_y": null,
            "padding": null,
            "right": null,
            "top": null,
            "visibility": null,
            "width": null
          }
        },
        "5ed6d76478fe4357967171b3ac6227cd": {
          "model_module": "@jupyter-widgets/controls",
          "model_name": "ProgressStyleModel",
          "model_module_version": "1.5.0",
          "state": {
            "_model_module": "@jupyter-widgets/controls",
            "_model_module_version": "1.5.0",
            "_model_name": "ProgressStyleModel",
            "_view_count": null,
            "_view_module": "@jupyter-widgets/base",
            "_view_module_version": "1.2.0",
            "_view_name": "StyleView",
            "bar_color": null,
            "description_width": ""
          }
        },
        "5820818dd71b404ea4863118bc94533d": {
          "model_module": "@jupyter-widgets/base",
          "model_name": "LayoutModel",
          "model_module_version": "1.2.0",
          "state": {
            "_model_module": "@jupyter-widgets/base",
            "_model_module_version": "1.2.0",
            "_model_name": "LayoutModel",
            "_view_count": null,
            "_view_module": "@jupyter-widgets/base",
            "_view_module_version": "1.2.0",
            "_view_name": "LayoutView",
            "align_content": null,
            "align_items": null,
            "align_self": null,
            "border": null,
            "bottom": null,
            "display": null,
            "flex": null,
            "flex_flow": null,
            "grid_area": null,
            "grid_auto_columns": null,
            "grid_auto_flow": null,
            "grid_auto_rows": null,
            "grid_column": null,
            "grid_gap": null,
            "grid_row": null,
            "grid_template_areas": null,
            "grid_template_columns": null,
            "grid_template_rows": null,
            "height": null,
            "justify_content": null,
            "justify_items": null,
            "left": null,
            "margin": null,
            "max_height": null,
            "max_width": null,
            "min_height": null,
            "min_width": null,
            "object_fit": null,
            "object_position": null,
            "order": null,
            "overflow": null,
            "overflow_x": null,
            "overflow_y": null,
            "padding": null,
            "right": null,
            "top": null,
            "visibility": null,
            "width": null
          }
        },
        "2becec10a69d4fd6bc63418ed49a424b": {
          "model_module": "@jupyter-widgets/controls",
          "model_name": "DescriptionStyleModel",
          "model_module_version": "1.5.0",
          "state": {
            "_model_module": "@jupyter-widgets/controls",
            "_model_module_version": "1.5.0",
            "_model_name": "DescriptionStyleModel",
            "_view_count": null,
            "_view_module": "@jupyter-widgets/base",
            "_view_module_version": "1.2.0",
            "_view_name": "StyleView",
            "description_width": ""
          }
        }
      }
    }
  },
  "cells": [
    {
      "cell_type": "markdown",
      "source": [
        "# **Comparative analysis of FINBERT, BERT and traditional models of classification**"
      ],
      "metadata": {
        "id": "2VKu92t3Uy_d"
      }
    },
    {
      "cell_type": "markdown",
      "metadata": {
        "id": "_oEirHsWRy0_"
      },
      "source": [
        "We are conducting a comaparative analysis of pretrained FINBERT, pretrained BERT and traditional models viz., logistic regression and support vector classification to find the best model for identifying and predicting the sentiment of text. \n",
        "\n",
        "The second file data.csv is the dataset of financial sentences with sentiment labels. It consists of 5842 sentences categorised by sentiment (positive, negative, and neutral). We follow the same steps as in the as in previous data files (data1_all.ipynb, data1_FINBERT.ipynb)  to examine the consistency of the model.\n",
        "\n",
        "If the sentiment of the phrase is positive it means that an invester can consider investing in stock market, if negative then invester must refrain investing and if sentiment is neutral then further investigation is suggested.\n",
        "\n",
        "In this notebook, we are training the FINBERT model. We have split the dataset into train, test and validation using stratified sampling. This can allows us to take representative of the sample in three datasets and compare results of this model with other models. "
      ]
    },
    {
      "cell_type": "code",
      "execution_count": null,
      "metadata": {
        "colab": {
          "base_uri": "https://localhost:8080/"
        },
        "id": "LASvktIZVseB",
        "outputId": "e997bc48-415e-4428-dcdc-dc8168fffc2d"
      },
      "outputs": [
        {
          "output_type": "stream",
          "name": "stdout",
          "text": [
            "\u001b[33mWARNING: Skipping transformers as it is not installed.\u001b[0m\u001b[33m\n",
            "\u001b[0mLooking in indexes: https://pypi.org/simple, https://us-python.pkg.dev/colab-wheels/public/simple/\n",
            "Collecting transformers==4.28.0\n",
            "  Downloading transformers-4.28.0-py3-none-any.whl (7.0 MB)\n",
            "\u001b[2K     \u001b[90m━━━━━━━━━━━━━━━━━━━━━━━━━━━━━━━━━━━━━━━━\u001b[0m \u001b[32m7.0/7.0 MB\u001b[0m \u001b[31m99.1 MB/s\u001b[0m eta \u001b[36m0:00:00\u001b[0m\n",
            "\u001b[?25hRequirement already satisfied: filelock in /usr/local/lib/python3.10/dist-packages (from transformers==4.28.0) (3.12.0)\n",
            "Collecting huggingface-hub<1.0,>=0.11.0 (from transformers==4.28.0)\n",
            "  Downloading huggingface_hub-0.14.1-py3-none-any.whl (224 kB)\n",
            "\u001b[2K     \u001b[90m━━━━━━━━━━━━━━━━━━━━━━━━━━━━━━━━━━━━━━\u001b[0m \u001b[32m224.5/224.5 kB\u001b[0m \u001b[31m33.2 MB/s\u001b[0m eta \u001b[36m0:00:00\u001b[0m\n",
            "\u001b[?25hRequirement already satisfied: numpy>=1.17 in /usr/local/lib/python3.10/dist-packages (from transformers==4.28.0) (1.22.4)\n",
            "Requirement already satisfied: packaging>=20.0 in /usr/local/lib/python3.10/dist-packages (from transformers==4.28.0) (23.1)\n",
            "Requirement already satisfied: pyyaml>=5.1 in /usr/local/lib/python3.10/dist-packages (from transformers==4.28.0) (6.0)\n",
            "Requirement already satisfied: regex!=2019.12.17 in /usr/local/lib/python3.10/dist-packages (from transformers==4.28.0) (2022.10.31)\n",
            "Requirement already satisfied: requests in /usr/local/lib/python3.10/dist-packages (from transformers==4.28.0) (2.27.1)\n",
            "Collecting tokenizers!=0.11.3,<0.14,>=0.11.1 (from transformers==4.28.0)\n",
            "  Downloading tokenizers-0.13.3-cp310-cp310-manylinux_2_17_x86_64.manylinux2014_x86_64.whl (7.8 MB)\n",
            "\u001b[2K     \u001b[90m━━━━━━━━━━━━━━━━━━━━━━━━━━━━━━━━━━━━━━━━\u001b[0m \u001b[32m7.8/7.8 MB\u001b[0m \u001b[31m120.6 MB/s\u001b[0m eta \u001b[36m0:00:00\u001b[0m\n",
            "\u001b[?25hRequirement already satisfied: tqdm>=4.27 in /usr/local/lib/python3.10/dist-packages (from transformers==4.28.0) (4.65.0)\n",
            "Requirement already satisfied: fsspec in /usr/local/lib/python3.10/dist-packages (from huggingface-hub<1.0,>=0.11.0->transformers==4.28.0) (2023.4.0)\n",
            "Requirement already satisfied: typing-extensions>=3.7.4.3 in /usr/local/lib/python3.10/dist-packages (from huggingface-hub<1.0,>=0.11.0->transformers==4.28.0) (4.5.0)\n",
            "Requirement already satisfied: urllib3<1.27,>=1.21.1 in /usr/local/lib/python3.10/dist-packages (from requests->transformers==4.28.0) (1.26.15)\n",
            "Requirement already satisfied: certifi>=2017.4.17 in /usr/local/lib/python3.10/dist-packages (from requests->transformers==4.28.0) (2022.12.7)\n",
            "Requirement already satisfied: charset-normalizer~=2.0.0 in /usr/local/lib/python3.10/dist-packages (from requests->transformers==4.28.0) (2.0.12)\n",
            "Requirement already satisfied: idna<4,>=2.5 in /usr/local/lib/python3.10/dist-packages (from requests->transformers==4.28.0) (3.4)\n",
            "Installing collected packages: tokenizers, huggingface-hub, transformers\n",
            "Successfully installed huggingface-hub-0.14.1 tokenizers-0.13.3 transformers-4.28.0\n"
          ]
        }
      ],
      "source": [
        "!pip uninstall transformers                       # installing libraries (TRANSFORMERS for BERT) \n",
        "!pip install --upgrade transformers==4.28.0\n",
        "#note: when uninstalling existing transformers it may ask to answer y/n. Input response y to proceed"
      ]
    },
    {
      "cell_type": "code",
      "execution_count": null,
      "metadata": {
        "id": "f-OFXsKuZbqi",
        "colab": {
          "base_uri": "https://localhost:8080/"
        },
        "outputId": "694317af-70b0-4803-8584-c4b16b320f35"
      },
      "outputs": [
        {
          "output_type": "stream",
          "name": "stdout",
          "text": [
            "Looking in indexes: https://pypi.org/simple, https://us-python.pkg.dev/colab-wheels/public/simple/\n",
            "Collecting numpy==1.19.5\n",
            "  Downloading numpy-1.19.5.zip (7.3 MB)\n",
            "\u001b[2K     \u001b[90m━━━━━━━━━━━━━━━━━━━━━━━━━━━━━━━━━━━━━━━━\u001b[0m \u001b[32m7.3/7.3 MB\u001b[0m \u001b[31m98.0 MB/s\u001b[0m eta \u001b[36m0:00:00\u001b[0m\n",
            "\u001b[?25h  Installing build dependencies ... \u001b[?25l\u001b[?25hdone\n",
            "  Getting requirements to build wheel ... \u001b[?25l\u001b[?25hdone\n",
            "  Preparing metadata (pyproject.toml) ... \u001b[?25l\u001b[?25hdone\n",
            "Building wheels for collected packages: numpy\n",
            "  \u001b[1;31merror\u001b[0m: \u001b[1msubprocess-exited-with-error\u001b[0m\n",
            "  \n",
            "  \u001b[31m×\u001b[0m \u001b[32mBuilding wheel for numpy \u001b[0m\u001b[1;32m(\u001b[0m\u001b[32mpyproject.toml\u001b[0m\u001b[1;32m)\u001b[0m did not run successfully.\n",
            "  \u001b[31m│\u001b[0m exit code: \u001b[1;36m1\u001b[0m\n",
            "  \u001b[31m╰─>\u001b[0m See above for output.\n",
            "  \n",
            "  \u001b[1;35mnote\u001b[0m: This error originates from a subprocess, and is likely not a problem with pip.\n",
            "  Building wheel for numpy (pyproject.toml) ... \u001b[?25l\u001b[?25herror\n",
            "\u001b[31m  ERROR: Failed building wheel for numpy\u001b[0m\u001b[31m\n",
            "\u001b[0mFailed to build numpy\n",
            "\u001b[31mERROR: Could not build wheels for numpy, which is required to install pyproject.toml-based projects\u001b[0m\u001b[31m\n",
            "\u001b[0mLooking in indexes: https://pypi.org/simple, https://us-python.pkg.dev/colab-wheels/public/simple/\n",
            "\u001b[31mERROR: Could not find a version that satisfies the requirement torch==1.7.1 (from versions: 1.11.0, 1.12.0, 1.12.1, 1.13.0, 1.13.1, 2.0.0, 2.0.1)\u001b[0m\u001b[31m\n",
            "\u001b[0m\u001b[31mERROR: No matching distribution found for torch==1.7.1\u001b[0m\u001b[31m\n",
            "\u001b[0mLooking in indexes: https://pypi.org/simple, https://us-python.pkg.dev/colab-wheels/public/simple/\n",
            "Requirement already satisfied: scikit-learn in /usr/local/lib/python3.10/dist-packages (1.2.2)\n",
            "Requirement already satisfied: numpy>=1.17.3 in /usr/local/lib/python3.10/dist-packages (from scikit-learn) (1.22.4)\n",
            "Requirement already satisfied: scipy>=1.3.2 in /usr/local/lib/python3.10/dist-packages (from scikit-learn) (1.10.1)\n",
            "Requirement already satisfied: joblib>=1.1.1 in /usr/local/lib/python3.10/dist-packages (from scikit-learn) (1.2.0)\n",
            "Requirement already satisfied: threadpoolctl>=2.0.0 in /usr/local/lib/python3.10/dist-packages (from scikit-learn) (3.1.0)\n"
          ]
        }
      ],
      "source": [
        "\n",
        "!pip install numpy==1.19.5\n",
        "!pip install torch==1.7.1\n",
        "!pip install scikit-learn"
      ]
    },
    {
      "cell_type": "code",
      "execution_count": null,
      "metadata": {
        "id": "3nkBQhU6YRL_",
        "colab": {
          "base_uri": "https://localhost:8080/"
        },
        "outputId": "a4532672-908f-4c93-b6c4-8464d687764c"
      },
      "outputs": [
        {
          "output_type": "stream",
          "name": "stdout",
          "text": [
            "Looking in indexes: https://pypi.org/simple, https://us-python.pkg.dev/colab-wheels/public/simple/\n",
            "Collecting datasets\n",
            "  Downloading datasets-2.12.0-py3-none-any.whl (474 kB)\n",
            "\u001b[2K     \u001b[90m━━━━━━━━━━━━━━━━━━━━━━━━━━━━━━━━━━━━━━\u001b[0m \u001b[32m474.6/474.6 kB\u001b[0m \u001b[31m33.4 MB/s\u001b[0m eta \u001b[36m0:00:00\u001b[0m\n",
            "\u001b[?25hRequirement already satisfied: numpy>=1.17 in /usr/local/lib/python3.10/dist-packages (from datasets) (1.22.4)\n",
            "Requirement already satisfied: pyarrow>=8.0.0 in /usr/local/lib/python3.10/dist-packages (from datasets) (9.0.0)\n",
            "Collecting dill<0.3.7,>=0.3.0 (from datasets)\n",
            "  Downloading dill-0.3.6-py3-none-any.whl (110 kB)\n",
            "\u001b[2K     \u001b[90m━━━━━━━━━━━━━━━━━━━━━━━━━━━━━━━━━━━━━━\u001b[0m \u001b[32m110.5/110.5 kB\u001b[0m \u001b[31m18.3 MB/s\u001b[0m eta \u001b[36m0:00:00\u001b[0m\n",
            "\u001b[?25hRequirement already satisfied: pandas in /usr/local/lib/python3.10/dist-packages (from datasets) (1.5.3)\n",
            "Requirement already satisfied: requests>=2.19.0 in /usr/local/lib/python3.10/dist-packages (from datasets) (2.27.1)\n",
            "Requirement already satisfied: tqdm>=4.62.1 in /usr/local/lib/python3.10/dist-packages (from datasets) (4.65.0)\n",
            "Collecting xxhash (from datasets)\n",
            "  Downloading xxhash-3.2.0-cp310-cp310-manylinux_2_17_x86_64.manylinux2014_x86_64.whl (212 kB)\n",
            "\u001b[2K     \u001b[90m━━━━━━━━━━━━━━━━━━━━━━━━━━━━━━━━━━━━━━\u001b[0m \u001b[32m212.5/212.5 kB\u001b[0m \u001b[31m30.5 MB/s\u001b[0m eta \u001b[36m0:00:00\u001b[0m\n",
            "\u001b[?25hCollecting multiprocess (from datasets)\n",
            "  Downloading multiprocess-0.70.14-py310-none-any.whl (134 kB)\n",
            "\u001b[2K     \u001b[90m━━━━━━━━━━━━━━━━━━━━━━━━━━━━━━━━━━━━━━\u001b[0m \u001b[32m134.3/134.3 kB\u001b[0m \u001b[31m22.2 MB/s\u001b[0m eta \u001b[36m0:00:00\u001b[0m\n",
            "\u001b[?25hRequirement already satisfied: fsspec[http]>=2021.11.1 in /usr/local/lib/python3.10/dist-packages (from datasets) (2023.4.0)\n",
            "Collecting aiohttp (from datasets)\n",
            "  Downloading aiohttp-3.8.4-cp310-cp310-manylinux_2_17_x86_64.manylinux2014_x86_64.whl (1.0 MB)\n",
            "\u001b[2K     \u001b[90m━━━━━━━━━━━━━━━━━━━━━━━━━━━━━━━━━━━━━━━━\u001b[0m \u001b[32m1.0/1.0 MB\u001b[0m \u001b[31m69.1 MB/s\u001b[0m eta \u001b[36m0:00:00\u001b[0m\n",
            "\u001b[?25hRequirement already satisfied: huggingface-hub<1.0.0,>=0.11.0 in /usr/local/lib/python3.10/dist-packages (from datasets) (0.14.1)\n",
            "Requirement already satisfied: packaging in /usr/local/lib/python3.10/dist-packages (from datasets) (23.1)\n",
            "Collecting responses<0.19 (from datasets)\n",
            "  Downloading responses-0.18.0-py3-none-any.whl (38 kB)\n",
            "Requirement already satisfied: pyyaml>=5.1 in /usr/local/lib/python3.10/dist-packages (from datasets) (6.0)\n",
            "Requirement already satisfied: attrs>=17.3.0 in /usr/local/lib/python3.10/dist-packages (from aiohttp->datasets) (23.1.0)\n",
            "Requirement already satisfied: charset-normalizer<4.0,>=2.0 in /usr/local/lib/python3.10/dist-packages (from aiohttp->datasets) (2.0.12)\n",
            "Collecting multidict<7.0,>=4.5 (from aiohttp->datasets)\n",
            "  Downloading multidict-6.0.4-cp310-cp310-manylinux_2_17_x86_64.manylinux2014_x86_64.whl (114 kB)\n",
            "\u001b[2K     \u001b[90m━━━━━━━━━━━━━━━━━━━━━━━━━━━━━━━━━━━━━━\u001b[0m \u001b[32m114.5/114.5 kB\u001b[0m \u001b[31m19.2 MB/s\u001b[0m eta \u001b[36m0:00:00\u001b[0m\n",
            "\u001b[?25hCollecting async-timeout<5.0,>=4.0.0a3 (from aiohttp->datasets)\n",
            "  Downloading async_timeout-4.0.2-py3-none-any.whl (5.8 kB)\n",
            "Collecting yarl<2.0,>=1.0 (from aiohttp->datasets)\n",
            "  Downloading yarl-1.9.2-cp310-cp310-manylinux_2_17_x86_64.manylinux2014_x86_64.whl (268 kB)\n",
            "\u001b[2K     \u001b[90m━━━━━━━━━━━━━━━━━━━━━━━━━━━━━━━━━━━━━━\u001b[0m \u001b[32m268.8/268.8 kB\u001b[0m \u001b[31m37.7 MB/s\u001b[0m eta \u001b[36m0:00:00\u001b[0m\n",
            "\u001b[?25hCollecting frozenlist>=1.1.1 (from aiohttp->datasets)\n",
            "  Downloading frozenlist-1.3.3-cp310-cp310-manylinux_2_5_x86_64.manylinux1_x86_64.manylinux_2_17_x86_64.manylinux2014_x86_64.whl (149 kB)\n",
            "\u001b[2K     \u001b[90m━━━━━━━━━━━━━━━━━━━━━━━━━━━━━━━━━━━━━━\u001b[0m \u001b[32m149.6/149.6 kB\u001b[0m \u001b[31m22.9 MB/s\u001b[0m eta \u001b[36m0:00:00\u001b[0m\n",
            "\u001b[?25hCollecting aiosignal>=1.1.2 (from aiohttp->datasets)\n",
            "  Downloading aiosignal-1.3.1-py3-none-any.whl (7.6 kB)\n",
            "Requirement already satisfied: filelock in /usr/local/lib/python3.10/dist-packages (from huggingface-hub<1.0.0,>=0.11.0->datasets) (3.12.0)\n",
            "Requirement already satisfied: typing-extensions>=3.7.4.3 in /usr/local/lib/python3.10/dist-packages (from huggingface-hub<1.0.0,>=0.11.0->datasets) (4.5.0)\n",
            "Requirement already satisfied: urllib3<1.27,>=1.21.1 in /usr/local/lib/python3.10/dist-packages (from requests>=2.19.0->datasets) (1.26.15)\n",
            "Requirement already satisfied: certifi>=2017.4.17 in /usr/local/lib/python3.10/dist-packages (from requests>=2.19.0->datasets) (2022.12.7)\n",
            "Requirement already satisfied: idna<4,>=2.5 in /usr/local/lib/python3.10/dist-packages (from requests>=2.19.0->datasets) (3.4)\n",
            "Requirement already satisfied: python-dateutil>=2.8.1 in /usr/local/lib/python3.10/dist-packages (from pandas->datasets) (2.8.2)\n",
            "Requirement already satisfied: pytz>=2020.1 in /usr/local/lib/python3.10/dist-packages (from pandas->datasets) (2022.7.1)\n",
            "Requirement already satisfied: six>=1.5 in /usr/local/lib/python3.10/dist-packages (from python-dateutil>=2.8.1->pandas->datasets) (1.16.0)\n",
            "Installing collected packages: xxhash, multidict, frozenlist, dill, async-timeout, yarl, responses, multiprocess, aiosignal, aiohttp, datasets\n",
            "Successfully installed aiohttp-3.8.4 aiosignal-1.3.1 async-timeout-4.0.2 datasets-2.12.0 dill-0.3.6 frozenlist-1.3.3 multidict-6.0.4 multiprocess-0.70.14 responses-0.18.0 xxhash-3.2.0 yarl-1.9.2\n"
          ]
        }
      ],
      "source": [
        "!pip install datasets"
      ]
    },
    {
      "cell_type": "markdown",
      "metadata": {
        "id": "CwOwS47bR2pa"
      },
      "source": [
        "**transformers**: This package provides an interface pretrained BERT and FINBERT models to perform sentiment analysis.  \n",
        "\n",
        "**numpy**: It is a powerful tool to deal with data preprocessing, handling input arrays, multidimensional data and performs mathematical computations efficiently.\n",
        "\n",
        "**torch**: Also known as PyTorch, is a open-source machine learning library. AS BERT and FINBERT models are built using deep learning architechture, PyTorch is commonly used in these models.\n",
        "\n",
        "**scikit-learn**: provides tools and algorithms in machine learning and helps in tasks like data preprocessing, feature extraction, model evaluation, and classification and also offers convinient APIs.\n",
        "\n",
        "\n",
        "**datsets**: The 'datasets' library is a Python package that provides an efficient way to work with various datasets, including text and image datasets. It provides a standardized interface for loading and processing datasets, making it easier to work with different datasets and models.\n",
        "\n",
        "**Matplotlib**: It is a powerful library in Python used for data visualization. It provides a wide range of tools for creating graphs, plots, charts, and so on.\n",
        "\n",
        "**Pyplot**: It is a collection of functions in the Matplotlib library. It enables the quick and easy creation of a number of plot types, including line plots, scatter plots, bar plots, and histograms.\n",
        "\n",
        "**Seaborn**: It is a Python data visualization library based on Matplotlib. Seaborn provides a high-level interface for creating informative and attractive statistical graphics, and it is used to plot the histograms here.\n",
        "\n",
        "**sklearn.model_selection**: The model_selection module in sklearn library provides several functions for model selection and evaluation.\n",
        "\n",
        "**sklearn.metrics**: The sklearn.metrics module provides a suite of functions and utilities for evaluating the performance of machine learning models such as: accuracy_score, precision_score, recall_score.\n",
        "\n",
        "**wordcloud**: It is a Python library used to generate word clouds, which are graphical representations of the most frequent words in a text corpus.\n",
        "\n",
        "**nltk**: Also known as Natural Language Toolkit. It is a Python library used for working with human language data. It provides a suite of text processing libraries for tokenization, stemming, tagging, parsing, etc.\n"
      ]
    },
    {
      "cell_type": "markdown",
      "metadata": {
        "id": "sJoxZwjKR9rV"
      },
      "source": [
        "## Importing required libraries"
      ]
    },
    {
      "cell_type": "code",
      "execution_count": null,
      "metadata": {
        "id": "HumRzoEgVM1u"
      },
      "outputs": [],
      "source": [
        "import numpy as np\n",
        "import pandas as pd \n",
        "from transformers import BertTokenizer, Trainer, BertForSequenceClassification, TrainingArguments\n",
        "from datasets import Dataset\n",
        "import torch\n",
        "from sklearn.model_selection import train_test_split\n",
        "from sklearn.metrics import accuracy_score\n",
        "import seaborn as sns\n",
        "import matplotlib.pyplot as plt"
      ]
    },
    {
      "cell_type": "code",
      "execution_count": null,
      "metadata": {
        "id": "KONRrNi1VM1y",
        "colab": {
          "base_uri": "https://localhost:8080/"
        },
        "outputId": "c193eeb8-28c1-41fb-8394-b62fd2007825"
      },
      "outputs": [
        {
          "output_type": "execute_result",
          "data": {
            "text/plain": [
              "True"
            ]
          },
          "metadata": {},
          "execution_count": 5
        }
      ],
      "source": [
        "torch.cuda.is_available()      # Check if a CUDA-capable GPU is available"
      ]
    },
    {
      "cell_type": "markdown",
      "metadata": {
        "id": "QKKEF5gcSKHs"
      },
      "source": [
        "## Importing and loading dataset\n",
        "\n",
        "Function drive.mount() from *'drive'* package is used to gain access to google drive. A window pops on the screen which asks for users permission to gain access to drive. One must make sure they have their dataset uploaded on google drive in folder name 'BERT'."
      ]
    },
    {
      "cell_type": "code",
      "execution_count": null,
      "metadata": {
        "id": "0hv4BqNRVTcK",
        "colab": {
          "base_uri": "https://localhost:8080/",
          "height": 70
        },
        "outputId": "1bf81b6c-f5d1-4fc7-b15e-866d386a1b59"
      },
      "outputs": [
        {
          "output_type": "stream",
          "name": "stdout",
          "text": [
            "Mounted at /content/gdrive\n",
            "/content/gdrive/MyDrive\n"
          ]
        },
        {
          "output_type": "execute_result",
          "data": {
            "text/plain": [
              "'/content/gdrive/MyDrive'"
            ],
            "application/vnd.google.colaboratory.intrinsic+json": {
              "type": "string"
            }
          },
          "metadata": {},
          "execution_count": 6
        }
      ],
      "source": [
        "#Importing our dataset from google drive \n",
        "from google.colab import drive\n",
        "drive.mount('/content/gdrive')\n",
        "%cd '/content/gdrive/MyDrive'\n",
        "%pwd"
      ]
    },
    {
      "cell_type": "code",
      "execution_count": null,
      "metadata": {
        "id": "w6Nxos2tSStM",
        "colab": {
          "base_uri": "https://localhost:8080/"
        },
        "outputId": "9ee622e4-2032-4289-a9f2-b04fcfe4b063"
      },
      "outputs": [
        {
          "output_type": "stream",
          "name": "stdout",
          "text": [
            "/content/gdrive/MyDrive/BERT\n"
          ]
        }
      ],
      "source": [
        "%cd BERT"
      ]
    },
    {
      "cell_type": "markdown",
      "metadata": {
        "id": "xCWJ-B7fSU-q"
      },
      "source": [
        " Dataset is imported using pd.read_csv() function."
      ]
    },
    {
      "cell_type": "code",
      "execution_count": null,
      "metadata": {
        "id": "ljpyL45DSVjf",
        "colab": {
          "base_uri": "https://localhost:8080/",
          "height": 354
        },
        "outputId": "78b92b9e-fb2e-40a4-d3b6-1560c5b302e4"
      },
      "outputs": [
        {
          "output_type": "execute_result",
          "data": {
            "text/plain": [
              "                                                                                                                                                                                                                     Sentence  \\\n",
              "0  The GeoSolutions technology will leverage Benefon 's GPS solutions by providing Location Based Search Technology , a Communities Platform , location relevant multimedia content and a new and powerful commercial model .   \n",
              "1                                                                                                                                                                     $ESI on lows, down $1.50 to $2.50 BK a real possibility   \n",
              "2                           For the last quarter of 2010 , Componenta 's net sales doubled to EUR131m from EUR76m for the same period a year earlier , while it moved to a zero pre-tax profit from a pre-tax loss of EUR7m .   \n",
              "3                                                                                            According to the Finnish-Russian Chamber of Commerce , all the major construction companies of Finland are operating in Russia .   \n",
              "4                                                                                     The Swedish buyout firm has sold its remaining 22.4 percent stake , almost eighteen months after taking the company public in Finland .   \n",
              "\n",
              "  Sentiment  \n",
              "0  positive  \n",
              "1  negative  \n",
              "2  positive  \n",
              "3   neutral  \n",
              "4   neutral  "
            ],
            "text/html": [
              "\n",
              "  <div id=\"df-98b9a00e-bcc2-42bf-8a4d-4873385fd5b5\">\n",
              "    <div class=\"colab-df-container\">\n",
              "      <div>\n",
              "<style scoped>\n",
              "    .dataframe tbody tr th:only-of-type {\n",
              "        vertical-align: middle;\n",
              "    }\n",
              "\n",
              "    .dataframe tbody tr th {\n",
              "        vertical-align: top;\n",
              "    }\n",
              "\n",
              "    .dataframe thead th {\n",
              "        text-align: right;\n",
              "    }\n",
              "</style>\n",
              "<table border=\"1\" class=\"dataframe\">\n",
              "  <thead>\n",
              "    <tr style=\"text-align: right;\">\n",
              "      <th></th>\n",
              "      <th>Sentence</th>\n",
              "      <th>Sentiment</th>\n",
              "    </tr>\n",
              "  </thead>\n",
              "  <tbody>\n",
              "    <tr>\n",
              "      <th>0</th>\n",
              "      <td>The GeoSolutions technology will leverage Benefon 's GPS solutions by providing Location Based Search Technology , a Communities Platform , location relevant multimedia content and a new and powerful commercial model .</td>\n",
              "      <td>positive</td>\n",
              "    </tr>\n",
              "    <tr>\n",
              "      <th>1</th>\n",
              "      <td>$ESI on lows, down $1.50 to $2.50 BK a real possibility</td>\n",
              "      <td>negative</td>\n",
              "    </tr>\n",
              "    <tr>\n",
              "      <th>2</th>\n",
              "      <td>For the last quarter of 2010 , Componenta 's net sales doubled to EUR131m from EUR76m for the same period a year earlier , while it moved to a zero pre-tax profit from a pre-tax loss of EUR7m .</td>\n",
              "      <td>positive</td>\n",
              "    </tr>\n",
              "    <tr>\n",
              "      <th>3</th>\n",
              "      <td>According to the Finnish-Russian Chamber of Commerce , all the major construction companies of Finland are operating in Russia .</td>\n",
              "      <td>neutral</td>\n",
              "    </tr>\n",
              "    <tr>\n",
              "      <th>4</th>\n",
              "      <td>The Swedish buyout firm has sold its remaining 22.4 percent stake , almost eighteen months after taking the company public in Finland .</td>\n",
              "      <td>neutral</td>\n",
              "    </tr>\n",
              "  </tbody>\n",
              "</table>\n",
              "</div>\n",
              "      <button class=\"colab-df-convert\" onclick=\"convertToInteractive('df-98b9a00e-bcc2-42bf-8a4d-4873385fd5b5')\"\n",
              "              title=\"Convert this dataframe to an interactive table.\"\n",
              "              style=\"display:none;\">\n",
              "        \n",
              "  <svg xmlns=\"http://www.w3.org/2000/svg\" height=\"24px\"viewBox=\"0 0 24 24\"\n",
              "       width=\"24px\">\n",
              "    <path d=\"M0 0h24v24H0V0z\" fill=\"none\"/>\n",
              "    <path d=\"M18.56 5.44l.94 2.06.94-2.06 2.06-.94-2.06-.94-.94-2.06-.94 2.06-2.06.94zm-11 1L8.5 8.5l.94-2.06 2.06-.94-2.06-.94L8.5 2.5l-.94 2.06-2.06.94zm10 10l.94 2.06.94-2.06 2.06-.94-2.06-.94-.94-2.06-.94 2.06-2.06.94z\"/><path d=\"M17.41 7.96l-1.37-1.37c-.4-.4-.92-.59-1.43-.59-.52 0-1.04.2-1.43.59L10.3 9.45l-7.72 7.72c-.78.78-.78 2.05 0 2.83L4 21.41c.39.39.9.59 1.41.59.51 0 1.02-.2 1.41-.59l7.78-7.78 2.81-2.81c.8-.78.8-2.07 0-2.86zM5.41 20L4 18.59l7.72-7.72 1.47 1.35L5.41 20z\"/>\n",
              "  </svg>\n",
              "      </button>\n",
              "      \n",
              "  <style>\n",
              "    .colab-df-container {\n",
              "      display:flex;\n",
              "      flex-wrap:wrap;\n",
              "      gap: 12px;\n",
              "    }\n",
              "\n",
              "    .colab-df-convert {\n",
              "      background-color: #E8F0FE;\n",
              "      border: none;\n",
              "      border-radius: 50%;\n",
              "      cursor: pointer;\n",
              "      display: none;\n",
              "      fill: #1967D2;\n",
              "      height: 32px;\n",
              "      padding: 0 0 0 0;\n",
              "      width: 32px;\n",
              "    }\n",
              "\n",
              "    .colab-df-convert:hover {\n",
              "      background-color: #E2EBFA;\n",
              "      box-shadow: 0px 1px 2px rgba(60, 64, 67, 0.3), 0px 1px 3px 1px rgba(60, 64, 67, 0.15);\n",
              "      fill: #174EA6;\n",
              "    }\n",
              "\n",
              "    [theme=dark] .colab-df-convert {\n",
              "      background-color: #3B4455;\n",
              "      fill: #D2E3FC;\n",
              "    }\n",
              "\n",
              "    [theme=dark] .colab-df-convert:hover {\n",
              "      background-color: #434B5C;\n",
              "      box-shadow: 0px 1px 3px 1px rgba(0, 0, 0, 0.15);\n",
              "      filter: drop-shadow(0px 1px 2px rgba(0, 0, 0, 0.3));\n",
              "      fill: #FFFFFF;\n",
              "    }\n",
              "  </style>\n",
              "\n",
              "      <script>\n",
              "        const buttonEl =\n",
              "          document.querySelector('#df-98b9a00e-bcc2-42bf-8a4d-4873385fd5b5 button.colab-df-convert');\n",
              "        buttonEl.style.display =\n",
              "          google.colab.kernel.accessAllowed ? 'block' : 'none';\n",
              "\n",
              "        async function convertToInteractive(key) {\n",
              "          const element = document.querySelector('#df-98b9a00e-bcc2-42bf-8a4d-4873385fd5b5');\n",
              "          const dataTable =\n",
              "            await google.colab.kernel.invokeFunction('convertToInteractive',\n",
              "                                                     [key], {});\n",
              "          if (!dataTable) return;\n",
              "\n",
              "          const docLinkHtml = 'Like what you see? Visit the ' +\n",
              "            '<a target=\"_blank\" href=https://colab.research.google.com/notebooks/data_table.ipynb>data table notebook</a>'\n",
              "            + ' to learn more about interactive tables.';\n",
              "          element.innerHTML = '';\n",
              "          dataTable['output_type'] = 'display_data';\n",
              "          await google.colab.output.renderOutput(dataTable, element);\n",
              "          const docLink = document.createElement('div');\n",
              "          docLink.innerHTML = docLinkHtml;\n",
              "          element.appendChild(docLink);\n",
              "        }\n",
              "      </script>\n",
              "    </div>\n",
              "  </div>\n",
              "  "
            ]
          },
          "metadata": {},
          "execution_count": 8
        }
      ],
      "source": [
        "df = pd.read_csv('data.csv')\n",
        "pd.set_option('display.max_colwidth', None) #to enable viewer to read entire text in the column\n",
        "df.head()"
      ]
    },
    {
      "cell_type": "markdown",
      "source": [
        "## Preprocessing: Cleaning, removing stopwords, lemmatization\n",
        "\n",
        "Next step is cleaning the data to make it suitable to load it in our models. This is an essential step as feeding raw data will not give us good results."
      ],
      "metadata": {
        "id": "qy2I2Gew05Hd"
      }
    },
    {
      "cell_type": "markdown",
      "source": [
        "In the snippet below we creating an array 'possible_labels' that contains all unique values in the 'Sentiment' column of the DataFrame 'df"
      ],
      "metadata": {
        "id": "7AI3twWO05He"
      }
    },
    {
      "cell_type": "code",
      "execution_count": null,
      "metadata": {
        "colab": {
          "base_uri": "https://localhost:8080/"
        },
        "id": "BtS2f6m2VTi8",
        "outputId": "099e5aca-35d6-4200-882b-92827db9e83a"
      },
      "outputs": [
        {
          "output_type": "execute_result",
          "data": {
            "text/plain": [
              "array(['positive', 'negative', 'neutral'], dtype=object)"
            ]
          },
          "metadata": {},
          "execution_count": 9
        }
      ],
      "source": [
        "#get unique values    \n",
        "possible_labels = df.Sentiment.unique()  \n",
        "possible_labels"
      ]
    },
    {
      "cell_type": "markdown",
      "source": [
        "It is evident from output that we have three unique values: positive, negative and neutral"
      ],
      "metadata": {
        "id": "BRroN6Yz05Hf"
      }
    },
    {
      "cell_type": "code",
      "execution_count": null,
      "metadata": {
        "id": "RzyJNUhEWGIz"
      },
      "outputs": [],
      "source": [
        "# Creating an empty dictionary 'label_dict' to store the label-index pairs\n",
        "label_dict = {}\n",
        "for index, possible_label in enumerate(possible_labels):                # Iterating over each label in 'possible_labels' \n",
        "    if possible_label == 'neutral':\n",
        "        label_dict[possible_label] = 0                                  # Adding the label-index pair to the 'label_dict' dictionary\n",
        "                                        \n",
        "    elif possible_label == 'negative':\n",
        "        label_dict[possible_label] = 1\n",
        "    elif possible_label == 'positive':\n",
        "        label_dict[possible_label] = 2"
      ]
    },
    {
      "cell_type": "markdown",
      "source": [
        "Creating a new column 'label' in the DataFrame 'df' by replacing the categorical values in the 'Sentiment' column with their corresponding index values from the 'label_dict' dictionary"
      ],
      "metadata": {
        "id": "guqO0CYy05Hg"
      }
    },
    {
      "cell_type": "code",
      "execution_count": null,
      "metadata": {
        "id": "D_CgXvzrWGLQ"
      },
      "outputs": [],
      "source": [
        "#Creating column 'label'\n",
        "df['label'] = df.Sentiment.replace(label_dict)  "
      ]
    },
    {
      "cell_type": "code",
      "execution_count": null,
      "metadata": {
        "colab": {
          "base_uri": "https://localhost:8080/",
          "height": 658
        },
        "id": "veImjdQqWGOs",
        "outputId": "a3714ab6-e8fe-4ab5-aa94-c7b232874007"
      },
      "outputs": [
        {
          "output_type": "execute_result",
          "data": {
            "text/plain": [
              "                                                                                                                                                                                                                        Sentence  \\\n",
              "0     The GeoSolutions technology will leverage Benefon 's GPS solutions by providing Location Based Search Technology , a Communities Platform , location relevant multimedia content and a new and powerful commercial model .   \n",
              "1                                                                                                                                                                        $ESI on lows, down $1.50 to $2.50 BK a real possibility   \n",
              "2                              For the last quarter of 2010 , Componenta 's net sales doubled to EUR131m from EUR76m for the same period a year earlier , while it moved to a zero pre-tax profit from a pre-tax loss of EUR7m .   \n",
              "3                                                                                               According to the Finnish-Russian Chamber of Commerce , all the major construction companies of Finland are operating in Russia .   \n",
              "4                                                                                        The Swedish buyout firm has sold its remaining 22.4 percent stake , almost eighteen months after taking the company public in Finland .   \n",
              "...                                                                                                                                                                                                                          ...   \n",
              "5837                                                                                                                 RISING costs have forced packaging producer Huhtamaki to axe 90 jobs at its Hampshire manufacturing plant .   \n",
              "5838                                                                                                                                         Nordic Walking was first used as a summer training method by cross-country skiers .   \n",
              "5839                                                                                                                         According shipping company Viking Line , the EU decision will have a significant financial impact .   \n",
              "5840                                                                                                                                    In the building and home improvement trade , sales decreased by 22.5 % to EUR 201.4 mn .   \n",
              "5841                                                                           HELSINKI AFX - KCI Konecranes said it has won an order for four hot metal ladle cranes from Indian steel producer Bhushan Steel and Strips Ltd. .   \n",
              "\n",
              "     Sentiment  label  \n",
              "0     positive      2  \n",
              "1     negative      1  \n",
              "2     positive      2  \n",
              "3      neutral      0  \n",
              "4      neutral      0  \n",
              "...        ...    ...  \n",
              "5837  negative      1  \n",
              "5838   neutral      0  \n",
              "5839   neutral      0  \n",
              "5840   neutral      0  \n",
              "5841  positive      2  \n",
              "\n",
              "[5842 rows x 3 columns]"
            ],
            "text/html": [
              "\n",
              "  <div id=\"df-b418e5ba-9de1-449a-8538-3b7d72804de6\">\n",
              "    <div class=\"colab-df-container\">\n",
              "      <div>\n",
              "<style scoped>\n",
              "    .dataframe tbody tr th:only-of-type {\n",
              "        vertical-align: middle;\n",
              "    }\n",
              "\n",
              "    .dataframe tbody tr th {\n",
              "        vertical-align: top;\n",
              "    }\n",
              "\n",
              "    .dataframe thead th {\n",
              "        text-align: right;\n",
              "    }\n",
              "</style>\n",
              "<table border=\"1\" class=\"dataframe\">\n",
              "  <thead>\n",
              "    <tr style=\"text-align: right;\">\n",
              "      <th></th>\n",
              "      <th>Sentence</th>\n",
              "      <th>Sentiment</th>\n",
              "      <th>label</th>\n",
              "    </tr>\n",
              "  </thead>\n",
              "  <tbody>\n",
              "    <tr>\n",
              "      <th>0</th>\n",
              "      <td>The GeoSolutions technology will leverage Benefon 's GPS solutions by providing Location Based Search Technology , a Communities Platform , location relevant multimedia content and a new and powerful commercial model .</td>\n",
              "      <td>positive</td>\n",
              "      <td>2</td>\n",
              "    </tr>\n",
              "    <tr>\n",
              "      <th>1</th>\n",
              "      <td>$ESI on lows, down $1.50 to $2.50 BK a real possibility</td>\n",
              "      <td>negative</td>\n",
              "      <td>1</td>\n",
              "    </tr>\n",
              "    <tr>\n",
              "      <th>2</th>\n",
              "      <td>For the last quarter of 2010 , Componenta 's net sales doubled to EUR131m from EUR76m for the same period a year earlier , while it moved to a zero pre-tax profit from a pre-tax loss of EUR7m .</td>\n",
              "      <td>positive</td>\n",
              "      <td>2</td>\n",
              "    </tr>\n",
              "    <tr>\n",
              "      <th>3</th>\n",
              "      <td>According to the Finnish-Russian Chamber of Commerce , all the major construction companies of Finland are operating in Russia .</td>\n",
              "      <td>neutral</td>\n",
              "      <td>0</td>\n",
              "    </tr>\n",
              "    <tr>\n",
              "      <th>4</th>\n",
              "      <td>The Swedish buyout firm has sold its remaining 22.4 percent stake , almost eighteen months after taking the company public in Finland .</td>\n",
              "      <td>neutral</td>\n",
              "      <td>0</td>\n",
              "    </tr>\n",
              "    <tr>\n",
              "      <th>...</th>\n",
              "      <td>...</td>\n",
              "      <td>...</td>\n",
              "      <td>...</td>\n",
              "    </tr>\n",
              "    <tr>\n",
              "      <th>5837</th>\n",
              "      <td>RISING costs have forced packaging producer Huhtamaki to axe 90 jobs at its Hampshire manufacturing plant .</td>\n",
              "      <td>negative</td>\n",
              "      <td>1</td>\n",
              "    </tr>\n",
              "    <tr>\n",
              "      <th>5838</th>\n",
              "      <td>Nordic Walking was first used as a summer training method by cross-country skiers .</td>\n",
              "      <td>neutral</td>\n",
              "      <td>0</td>\n",
              "    </tr>\n",
              "    <tr>\n",
              "      <th>5839</th>\n",
              "      <td>According shipping company Viking Line , the EU decision will have a significant financial impact .</td>\n",
              "      <td>neutral</td>\n",
              "      <td>0</td>\n",
              "    </tr>\n",
              "    <tr>\n",
              "      <th>5840</th>\n",
              "      <td>In the building and home improvement trade , sales decreased by 22.5 % to EUR 201.4 mn .</td>\n",
              "      <td>neutral</td>\n",
              "      <td>0</td>\n",
              "    </tr>\n",
              "    <tr>\n",
              "      <th>5841</th>\n",
              "      <td>HELSINKI AFX - KCI Konecranes said it has won an order for four hot metal ladle cranes from Indian steel producer Bhushan Steel and Strips Ltd. .</td>\n",
              "      <td>positive</td>\n",
              "      <td>2</td>\n",
              "    </tr>\n",
              "  </tbody>\n",
              "</table>\n",
              "<p>5842 rows × 3 columns</p>\n",
              "</div>\n",
              "      <button class=\"colab-df-convert\" onclick=\"convertToInteractive('df-b418e5ba-9de1-449a-8538-3b7d72804de6')\"\n",
              "              title=\"Convert this dataframe to an interactive table.\"\n",
              "              style=\"display:none;\">\n",
              "        \n",
              "  <svg xmlns=\"http://www.w3.org/2000/svg\" height=\"24px\"viewBox=\"0 0 24 24\"\n",
              "       width=\"24px\">\n",
              "    <path d=\"M0 0h24v24H0V0z\" fill=\"none\"/>\n",
              "    <path d=\"M18.56 5.44l.94 2.06.94-2.06 2.06-.94-2.06-.94-.94-2.06-.94 2.06-2.06.94zm-11 1L8.5 8.5l.94-2.06 2.06-.94-2.06-.94L8.5 2.5l-.94 2.06-2.06.94zm10 10l.94 2.06.94-2.06 2.06-.94-2.06-.94-.94-2.06-.94 2.06-2.06.94z\"/><path d=\"M17.41 7.96l-1.37-1.37c-.4-.4-.92-.59-1.43-.59-.52 0-1.04.2-1.43.59L10.3 9.45l-7.72 7.72c-.78.78-.78 2.05 0 2.83L4 21.41c.39.39.9.59 1.41.59.51 0 1.02-.2 1.41-.59l7.78-7.78 2.81-2.81c.8-.78.8-2.07 0-2.86zM5.41 20L4 18.59l7.72-7.72 1.47 1.35L5.41 20z\"/>\n",
              "  </svg>\n",
              "      </button>\n",
              "      \n",
              "  <style>\n",
              "    .colab-df-container {\n",
              "      display:flex;\n",
              "      flex-wrap:wrap;\n",
              "      gap: 12px;\n",
              "    }\n",
              "\n",
              "    .colab-df-convert {\n",
              "      background-color: #E8F0FE;\n",
              "      border: none;\n",
              "      border-radius: 50%;\n",
              "      cursor: pointer;\n",
              "      display: none;\n",
              "      fill: #1967D2;\n",
              "      height: 32px;\n",
              "      padding: 0 0 0 0;\n",
              "      width: 32px;\n",
              "    }\n",
              "\n",
              "    .colab-df-convert:hover {\n",
              "      background-color: #E2EBFA;\n",
              "      box-shadow: 0px 1px 2px rgba(60, 64, 67, 0.3), 0px 1px 3px 1px rgba(60, 64, 67, 0.15);\n",
              "      fill: #174EA6;\n",
              "    }\n",
              "\n",
              "    [theme=dark] .colab-df-convert {\n",
              "      background-color: #3B4455;\n",
              "      fill: #D2E3FC;\n",
              "    }\n",
              "\n",
              "    [theme=dark] .colab-df-convert:hover {\n",
              "      background-color: #434B5C;\n",
              "      box-shadow: 0px 1px 3px 1px rgba(0, 0, 0, 0.15);\n",
              "      filter: drop-shadow(0px 1px 2px rgba(0, 0, 0, 0.3));\n",
              "      fill: #FFFFFF;\n",
              "    }\n",
              "  </style>\n",
              "\n",
              "      <script>\n",
              "        const buttonEl =\n",
              "          document.querySelector('#df-b418e5ba-9de1-449a-8538-3b7d72804de6 button.colab-df-convert');\n",
              "        buttonEl.style.display =\n",
              "          google.colab.kernel.accessAllowed ? 'block' : 'none';\n",
              "\n",
              "        async function convertToInteractive(key) {\n",
              "          const element = document.querySelector('#df-b418e5ba-9de1-449a-8538-3b7d72804de6');\n",
              "          const dataTable =\n",
              "            await google.colab.kernel.invokeFunction('convertToInteractive',\n",
              "                                                     [key], {});\n",
              "          if (!dataTable) return;\n",
              "\n",
              "          const docLinkHtml = 'Like what you see? Visit the ' +\n",
              "            '<a target=\"_blank\" href=https://colab.research.google.com/notebooks/data_table.ipynb>data table notebook</a>'\n",
              "            + ' to learn more about interactive tables.';\n",
              "          element.innerHTML = '';\n",
              "          dataTable['output_type'] = 'display_data';\n",
              "          await google.colab.output.renderOutput(dataTable, element);\n",
              "          const docLink = document.createElement('div');\n",
              "          docLink.innerHTML = docLinkHtml;\n",
              "          element.appendChild(docLink);\n",
              "        }\n",
              "      </script>\n",
              "    </div>\n",
              "  </div>\n",
              "  "
            ]
          },
          "metadata": {},
          "execution_count": 12
        }
      ],
      "source": [
        "df      # labels for neutral is 0 , for negative is 1 , for positive is 2"
      ]
    },
    {
      "cell_type": "markdown",
      "source": [
        "In the above three cells first we assign an interger value to each label to make it readable for the model. \n",
        "The label values are defined as follows: \n",
        "**neutral = 0 , negative = 1 , positive = 2**\n",
        "A new column 'label' is added to dataset 'df' to assign label corresponding to the value in category column. 'label_dict' takes care of this pairing. "
      ],
      "metadata": {
        "id": "-RWttorx05Hh"
      }
    },
    {
      "cell_type": "code",
      "execution_count": null,
      "metadata": {
        "ExecuteTime": {
          "end_time": "2022-06-02T02:54:06.895445Z",
          "start_time": "2022-06-02T02:54:06.880863Z"
        },
        "id": "yl-q5A9_05Hh"
      },
      "outputs": [],
      "source": [
        "df = df.dropna(subset=['Sentence', 'label']) ## drop missing values"
      ]
    },
    {
      "cell_type": "code",
      "source": [
        "# Converting % into percent\n",
        "df['Sentence'] = df['Sentence'].str.replace('%', 'percent')"
      ],
      "metadata": {
        "id": "zsVINzY4TOCV"
      },
      "execution_count": null,
      "outputs": []
    },
    {
      "cell_type": "markdown",
      "source": [
        "All the '%' symbols are now converted into text 'percent' using str.replace() function."
      ],
      "metadata": {
        "id": "iXhIU6FyfSuT"
      }
    },
    {
      "cell_type": "code",
      "source": [
        "import re\n",
        "# Define a function to perform the conversion\n",
        "def convert_usd(sentence):\n",
        "    return re.sub(r'\\$', 'usd ', sentence)\n",
        "\n",
        "# Apply the function to the 'Sentence' column\n",
        "df['Sentence'] = df['Sentence'].apply(convert_usd)"
      ],
      "metadata": {
        "id": "rt-bjs1ZTRnl"
      },
      "execution_count": null,
      "outputs": []
    },
    {
      "cell_type": "markdown",
      "source": [
        "Since '$' represents currency US dollars we can convert it to 'usd' which is widely used. A function 'convert_usd' is defined to identify pattern using regular expression *r'\\$'* and converted to 'usd' using 'apply()' function"
      ],
      "metadata": {
        "id": "zQh32WQvgVc4"
      }
    },
    {
      "cell_type": "code",
      "source": [
        "#identifying any html tags in the data\n",
        "def has_html_tags(text):\n",
        "    pattern = r\"<[^>]+>\"\n",
        "    if re.search(pattern, text):\n",
        "        return True\n",
        "    else:\n",
        "        return False\n",
        "\n",
        "# Apply the function to the 'Sentence' column\n",
        "html_tags = df['Sentence'].apply(has_html_tags)\n",
        "rows_with_html_tags = df[html_tags == True]\n",
        "print(rows_with_html_tags)\n"
      ],
      "metadata": {
        "colab": {
          "base_uri": "https://localhost:8080/"
        },
        "id": "EpoR3kPlA1IN",
        "outputId": "9c1e5852-e3ad-4955-d46b-2aa5797601be"
      },
      "execution_count": null,
      "outputs": [
        {
          "output_type": "stream",
          "name": "stdout",
          "text": [
            "                                                               Sentence  \\\n",
            "4053  usd TSLA <STUDY the CHARTS> Pullback_Time https://t.co/ZMDG0fb3I7   \n",
            "\n",
            "     Sentiment  label  \n",
            "4053  negative      1  \n"
          ]
        }
      ]
    },
    {
      "cell_type": "markdown",
      "source": [
        "Any html tags <> in the dataset are identified by defining has_html_tags function. re.search() function will search for pattern * r\"<[^>]+>\" * and then return True is pattern is identified else False. \n",
        "\n",
        "apply() function is used to check in 'sentence' column in dataset 'df' and these values are stored in rows_with_html_tags variable. \n",
        "\n",
        "Using print() we see that the dataframe to see rows having html tags\n"
      ],
      "metadata": {
        "id": "AU0wsEXDidB0"
      }
    },
    {
      "cell_type": "code",
      "source": [
        "#removing html tags from data\n",
        "from bs4 import BeautifulSoup\n",
        "def strip_html(text):\n",
        "    soup = BeautifulSoup(text, \"html.parser\")\n",
        "    return soup.get_text()\n",
        "\n",
        "df['Sentence'] = df['Sentence'].apply(strip_html)"
      ],
      "metadata": {
        "colab": {
          "base_uri": "https://localhost:8080/"
        },
        "outputId": "b2d56b54-bbfe-49b0-a62e-f2c489d02ea2",
        "id": "DnJ5kUrt05Hi"
      },
      "execution_count": null,
      "outputs": [
        {
          "output_type": "stream",
          "name": "stderr",
          "text": [
            "<ipython-input-17-1c1500e2c156>:4: MarkupResemblesLocatorWarning: The input looks more like a filename than markup. You may want to open this file and pass the filehandle into Beautiful Soup.\n",
            "  soup = BeautifulSoup(text, \"html.parser\")\n"
          ]
        }
      ]
    },
    {
      "cell_type": "markdown",
      "source": [
        "To identify any URL's or web addresses (starting with \"http://\", \"https://\", or \"www.\")  in the dataframe we define function has_urls such that if re.search () function identifies pattern = r\"\\b(https?://|www\\.)\\S+\\b\" in the text it will return value True or False otherwise. \n",
        "\n",
        "apply() function is used to check any URL's in 'sentence' column in dataset 'df' and these values are stored in urls_present variable. \n",
        "\n",
        "print() function shows rows having URL's."
      ],
      "metadata": {
        "id": "NtTuG2EAkRxh"
      }
    },
    {
      "cell_type": "code",
      "source": [
        "# Define a function to check for URLs in a text\n",
        "def has_urls(text):\n",
        "    pattern = r\"\\b(https?://|www\\.)\\S+\\b\"\n",
        "    if re.search(pattern, text):\n",
        "        return True\n",
        "    else:\n",
        "        return False\n",
        "\n",
        "# Apply the function to the 'Sentence' column\n",
        "urls_present = df['Sentence'].apply(has_urls)\n",
        "\n",
        "# Print the rows that contain URLs\n",
        "print(df[urls_present])\n"
      ],
      "metadata": {
        "colab": {
          "base_uri": "https://localhost:8080/"
        },
        "id": "gb3HhUa1A9ch",
        "outputId": "32fd3e5d-8ab1-422c-ad1a-e3230ce41014"
      },
      "execution_count": null,
      "outputs": [
        {
          "output_type": "stream",
          "name": "stdout",
          "text": [
            "                                                                                                                                                                                                                                                                       Sentence  \\\n",
            "11                                                                                                                    usd SAP Q1 disappoints as #software licenses down. Real problem? #Cloud growth trails usd MSFT usd ORCL usd GOOG usd CRM usd ADBE https://t.co/jNDphllzq5   \n",
            "16                                                                                                                                                     usd MSFT SQL Server revenue grew double-digit with SQL Server Premium revenue growing over 30percent http://stks.co/ir2F   \n",
            "26                                                                                                                                                                                                      Costco: A Premier Retail Dividend Play https://t.co/Fa5cnh2t0t usd COST   \n",
            "64                                                                                                                                              RT @andrewnyquist Chartology: Yahoo: http://stks.co/1itr usd YHOO  Crazy looking chart, but nearing breakout resistance line...   \n",
            "65                                                                                                           Most bullish stocks on Twitter during this dip. usd YHOO usd GDX usd GOOGL usd STZ usd GOLD usd EW usd VZ usd CELG usd SBUX usd SCTY more: https://t.co/iuZJelfwt3   \n",
            "...                                                                                                                                                                                                                                                                         ...   \n",
            "5796  H1 '08 H1 '07 Q2 '08 Q2 '07 in mln euro , unless otherwise stated Net sales 386 328.6 201 160.7 Operating profit 46.3 35.8 23.2 9.5 Pre-tax profit 33.6 26.9 18.7 5.1 Net profit 25.1 25.4 14 4.0 EPS in euro 2.20 2.36 1.24 0.38 1.0 euro = usd  1.60 www.componenta.com   \n",
            "5798                                                                                                                                                                                                               usd SPY usd MITK fast 56pc dive http://stks.co/3ffN usd usd    \n",
            "5802                                                                                                                            Reuters: Green Mountain revenue misses, shares plunge http://stks.co/13mW > usd GMCR prints 43.80, market in a foul mood, bad day to disappoint   \n",
            "5808                                                                                                                                                       usd QCOM The indicator RSI is over 50, which stands at 56.1, an upward movement is expected. https://t.co/yfa9jcUsQa   \n",
            "5836                                                                                                                                   Daily Mail parent company in talks with potential partners about joint bid for Yahoo's internet assets: https://t.co/mK7MEMtADT usd YHOO   \n",
            "\n",
            "     Sentiment  label  \n",
            "11    negative      1  \n",
            "16    positive      2  \n",
            "26    positive      2  \n",
            "64    positive      2  \n",
            "65    positive      2  \n",
            "...        ...    ...  \n",
            "5796   neutral      0  \n",
            "5798  negative      1  \n",
            "5802  negative      1  \n",
            "5808  positive      2  \n",
            "5836  positive      2  \n",
            "\n",
            "[279 rows x 3 columns]\n"
          ]
        }
      ]
    },
    {
      "cell_type": "markdown",
      "source": [
        "Now that URL's are identified in the data, we remove them by defining a function remove_between_square_brackets to identify the pattern and replacing it with empty string. URL's are effectively removed from 'sentence' column of 'df'  dataframe."
      ],
      "metadata": {
        "id": "qTa6umG8lnfk"
      }
    },
    {
      "cell_type": "code",
      "source": [
        "# Removing URL's\n",
        "def remove_between_square_brackets(text):\n",
        "    return re.sub(r\"\\b(https?://|www\\.)\\S+\\b\", '', text)\n",
        "\n",
        "# Remove URLs using the pattern\n",
        "df['Sentence'] = df['Sentence'].apply(remove_between_square_brackets)"
      ],
      "metadata": {
        "id": "m7YxkTY5BK1_"
      },
      "execution_count": null,
      "outputs": []
    },
    {
      "cell_type": "code",
      "source": [
        "# printed row 4140 to verify the removal of URL's and similar patterns\n",
        "df.loc[4140]"
      ],
      "metadata": {
        "colab": {
          "base_uri": "https://localhost:8080/"
        },
        "id": "O4_H47NyIgcz",
        "outputId": "b978f297-2020-492c-fab6-bbde1a7bc865"
      },
      "execution_count": null,
      "outputs": [
        {
          "output_type": "execute_result",
          "data": {
            "text/plain": [
              "Sentence     The development of the technological park , which will specialize in telecommunications and information technologies , is part of the state program for the formation of technoparks for hi-tech sectors in Russia .\n",
              "Sentiment                                                                                                                                                                                                                 neutral\n",
              "label                                                                                                                                                                                                                           0\n",
              "Name: 4140, dtype: object"
            ]
          },
          "metadata": {},
          "execution_count": 20
        }
      ]
    },
    {
      "cell_type": "code",
      "source": [
        "#importing phonenumbers package to identify any phone numbers in the dataframe\n",
        "!pip install phonenumbers\n"
      ],
      "metadata": {
        "colab": {
          "base_uri": "https://localhost:8080/"
        },
        "id": "PUe5q_f8BbDD",
        "outputId": "d5a07be1-d152-407f-fc1a-9da4dd494c90"
      },
      "execution_count": null,
      "outputs": [
        {
          "output_type": "stream",
          "name": "stdout",
          "text": [
            "Looking in indexes: https://pypi.org/simple, https://us-python.pkg.dev/colab-wheels/public/simple/\n",
            "Collecting phonenumbers\n",
            "  Downloading phonenumbers-8.13.11-py2.py3-none-any.whl (2.6 MB)\n",
            "\u001b[2K     \u001b[90m━━━━━━━━━━━━━━━━━━━━━━━━━━━━━━━━━━━━━━━━\u001b[0m \u001b[32m2.6/2.6 MB\u001b[0m \u001b[31m90.5 MB/s\u001b[0m eta \u001b[36m0:00:00\u001b[0m\n",
            "\u001b[?25hInstalling collected packages: phonenumbers\n",
            "Successfully installed phonenumbers-8.13.11\n"
          ]
        }
      ]
    },
    {
      "cell_type": "markdown",
      "source": [
        "we define a function has_phone_number and in this using the PhoneNumberMatcher() function in 'phonenumbers' package we identify any phone numbers in the text and return True if phone number is identified or False otherwise.\n",
        "\n",
        "In dataframe df phone numbers are identified in 'sentence' column using apply() function and then assigned to phone_numbers varible. \n",
        "\n",
        "Output is printed using print() function and we see that there are phone numbers in the dataframe."
      ],
      "metadata": {
        "id": "U1Rc6xThnFMV"
      }
    },
    {
      "cell_type": "code",
      "source": [
        "#Importing phonenumbers package\n",
        "\n",
        "import phonenumbers\n",
        "\n",
        "# Function to check if a text contains a phone number\n",
        "def has_phone_number(text):\n",
        "    for match in phonenumbers.PhoneNumberMatcher(text, \"ZZ\"):\n",
        "        return True\n",
        "    return False\n",
        "\n",
        "# Apply the function to the 'Sentence' column\n",
        "phone_numbers = df['Sentence'].apply(has_phone_number)\n",
        "\n",
        "# Filter the DataFrame to show only rows with phone numbers\n",
        "rows_with_phone_numbers = df[phone_numbers]\n",
        "print(rows_with_phone_numbers)"
      ],
      "metadata": {
        "colab": {
          "base_uri": "https://localhost:8080/"
        },
        "id": "gcKVrjRiBfn0",
        "outputId": "ceef7b32-baa3-4475-ae2e-a49377ce89dc"
      },
      "execution_count": null,
      "outputs": [
        {
          "output_type": "stream",
          "name": "stdout",
          "text": [
            "                                                                                                                                                                                                                                                                                                               Sentence  \\\n",
            "254                                SAMPO PLC Jarmo Salonen Head of Investor Relations and Group Communications tel. +358 10 516 0030 Distribution : NASDAQ OMX Helsinki The principal media Financial Supervisory Authority  This announcement is distributed by Thomson Reuters on behalf of Thomson Reuters clients .   \n",
            "288                                                                                                                                                 POYRY PLC Additional information by : Heikki Malinen , President and CEO , Poyry PLC tel. +358 10 33 21307 Poyry is a global expert in consulting and engineering .   \n",
            "1160                                                                                                                                                                   schwalm ( at ) outotec.com Eila Paatela , Vice President - Corporate Communications tel. +358 20 529 2004 , mobile +358 400 817198 e-mail eila .   \n",
            "1551                                                                                                                                                             Complete name of shareholder : Otto Henrik Bernhard Nyberg For further information , please contact Maija-Liisa Friman , CEO , tel. +358 9 7597 0711 .   \n",
            "1708  POYRY PLC Additional information by : Martin Kuzaj , President , Industry Business Group , Finland Tel. +358 10 33 21179 Sanna Paivaniemi , Director , Investor Relations , Poyry PLC , Finland Tel. +358 10 33 23002 Poyry is a global consulting and engineering company dedicated to balanced sustainability .   \n",
            "2269                                                                                                                                         A replay will be available until 27 October 2006 in the following numbers : US callers : +1 617-á801-á6888 , non-US callers : +44 20 7365 8427 , access code : 2659 5401 .   \n",
            "3020                                                                                          Helsinki on October 22 , 2008 SSH COMMUNICATIONS SECURITY CORP Board of Directors For further information , please contact : Tomi Laamanen , Chairman , tel. +358 0 400 609 544 Distribution : NASDAQ OMX Helsinki Ltd. .   \n",
            "3156                                                                                                                                                                             rosendal at outotec.com Eila Paatela , Vice President - Corporate Communications tel. +358 20 529 2004 , +358 400 817198 e-mail eila .   \n",
            "3307               Aldata Solution Oyj Bertrand Sciard President and CEO Further information : Aldata Solution Oyj , Bertrand Sciard , President and CEO , tel. +33 1 46 48 28 00 Aldata 100 percent Retail-Wholesale At Aldata 100 percent of our business is dedicated to retail and wholesale business improvement .   \n",
            "3596                                                    Aldata Solution Oyj Thomas Hoyer CFO More information : Aldata Solution Oyj , Thomas Hoyer , CFO , tel. +358 45 670 0491 Aldata in brief Aldata Solution is one of the global leaders in supply chain software for retail , wholesale and logistics companies .   \n",
            "4285                                                                                                                                        Conference Call To participate via a conference call , please dial in 5-10 minutes before the beginning of the event : +44 0 20 7162 0025 Europe or +1 334-á323-á6201 USA .   \n",
            "4907                                                                                                                                                         Shareholder 's full name and ID code : - Petri Ailus , born 15.9.1966 For further information , please contact Isto Hantila , CEO , tel. +358 9 591 8342 .   \n",
            "\n",
            "     Sentiment  label  \n",
            "254    neutral      0  \n",
            "288    neutral      0  \n",
            "1160   neutral      0  \n",
            "1551   neutral      0  \n",
            "1708   neutral      0  \n",
            "2269   neutral      0  \n",
            "3020   neutral      0  \n",
            "3156   neutral      0  \n",
            "3307   neutral      0  \n",
            "3596   neutral      0  \n",
            "4285   neutral      0  \n",
            "4907   neutral      0  \n"
          ]
        }
      ]
    },
    {
      "cell_type": "code",
      "source": [
        "# Define the regular expression pattern for phone numbers\n",
        "phone_number_pattern = r'\\+\\d+(?: \\d+)+'\n",
        "\n",
        "# Function to extract phone numbers from text\n",
        "def extract_phone_numbers(text):\n",
        "    phone_numbers = []\n",
        "    for match in phonenumbers.PhoneNumberMatcher(text, \"ZZ\"):\n",
        "        phone_number = phonenumbers.format_number(match.number, phonenumbers.PhoneNumberFormat.E164)\n",
        "        phone_numbers.append(phone_number)\n",
        "    return phone_numbers\n",
        "\n",
        "# Apply the function to the 'sentence' column\n",
        "phone_numbers = df['Sentence'].apply(has_phone_number)\n",
        "\n",
        "# Filter the DataFrame to show only rows with phone numbers\n",
        "rows_with_phone_numbers = df[phone_numbers]\n",
        "\n",
        "# Apply the function to extract phone numbers and store in a new column\n",
        "df['ExtractedPhoneNumbers'] = df['Sentence'].apply(extract_phone_numbers)\n",
        "\n",
        "# Remove the extracted phone numbers from the 'sentence' column\n",
        "df['Sentence'] = df['Sentence'].replace(phone_number_pattern, '', regex=True)\n"
      ],
      "metadata": {
        "id": "ssmgOVHDBrF5"
      },
      "execution_count": null,
      "outputs": []
    },
    {
      "cell_type": "code",
      "source": [
        "#drop ExtractedPhoneNumbers column from dataset because it is redundant\n",
        "\n",
        "df = df.drop('ExtractedPhoneNumbers', axis=1)\n",
        "df"
      ],
      "metadata": {
        "colab": {
          "base_uri": "https://localhost:8080/",
          "height": 658
        },
        "id": "XTS85MUk0L0N",
        "outputId": "a35a7326-fb2c-4a5c-dc4f-cf1323e599d4"
      },
      "execution_count": null,
      "outputs": [
        {
          "output_type": "execute_result",
          "data": {
            "text/plain": [
              "                                                                                                                                                                                                                        Sentence  \\\n",
              "0     The GeoSolutions technology will leverage Benefon 's GPS solutions by providing Location Based Search Technology , a Communities Platform , location relevant multimedia content and a new and powerful commercial model .   \n",
              "1                                                                                                                                                               usd ESI on lows, down usd 1.50 to usd 2.50 BK a real possibility   \n",
              "2                              For the last quarter of 2010 , Componenta 's net sales doubled to EUR131m from EUR76m for the same period a year earlier , while it moved to a zero pre-tax profit from a pre-tax loss of EUR7m .   \n",
              "3                                                                                               According to the Finnish-Russian Chamber of Commerce , all the major construction companies of Finland are operating in Russia .   \n",
              "4                                                                                        The Swedish buyout firm has sold its remaining 22.4 percent stake , almost eighteen months after taking the company public in Finland .   \n",
              "...                                                                                                                                                                                                                          ...   \n",
              "5837                                                                                                                 RISING costs have forced packaging producer Huhtamaki to axe 90 jobs at its Hampshire manufacturing plant .   \n",
              "5838                                                                                                                                         Nordic Walking was first used as a summer training method by cross-country skiers .   \n",
              "5839                                                                                                                         According shipping company Viking Line , the EU decision will have a significant financial impact .   \n",
              "5840                                                                                                                              In the building and home improvement trade , sales decreased by 22.5 percent to EUR 201.4 mn .   \n",
              "5841                                                                           HELSINKI AFX - KCI Konecranes said it has won an order for four hot metal ladle cranes from Indian steel producer Bhushan Steel and Strips Ltd. .   \n",
              "\n",
              "     Sentiment  label  \n",
              "0     positive      2  \n",
              "1     negative      1  \n",
              "2     positive      2  \n",
              "3      neutral      0  \n",
              "4      neutral      0  \n",
              "...        ...    ...  \n",
              "5837  negative      1  \n",
              "5838   neutral      0  \n",
              "5839   neutral      0  \n",
              "5840   neutral      0  \n",
              "5841  positive      2  \n",
              "\n",
              "[5842 rows x 3 columns]"
            ],
            "text/html": [
              "\n",
              "  <div id=\"df-cfb9d521-5458-4be0-86ac-cda316bb6389\">\n",
              "    <div class=\"colab-df-container\">\n",
              "      <div>\n",
              "<style scoped>\n",
              "    .dataframe tbody tr th:only-of-type {\n",
              "        vertical-align: middle;\n",
              "    }\n",
              "\n",
              "    .dataframe tbody tr th {\n",
              "        vertical-align: top;\n",
              "    }\n",
              "\n",
              "    .dataframe thead th {\n",
              "        text-align: right;\n",
              "    }\n",
              "</style>\n",
              "<table border=\"1\" class=\"dataframe\">\n",
              "  <thead>\n",
              "    <tr style=\"text-align: right;\">\n",
              "      <th></th>\n",
              "      <th>Sentence</th>\n",
              "      <th>Sentiment</th>\n",
              "      <th>label</th>\n",
              "    </tr>\n",
              "  </thead>\n",
              "  <tbody>\n",
              "    <tr>\n",
              "      <th>0</th>\n",
              "      <td>The GeoSolutions technology will leverage Benefon 's GPS solutions by providing Location Based Search Technology , a Communities Platform , location relevant multimedia content and a new and powerful commercial model .</td>\n",
              "      <td>positive</td>\n",
              "      <td>2</td>\n",
              "    </tr>\n",
              "    <tr>\n",
              "      <th>1</th>\n",
              "      <td>usd ESI on lows, down usd 1.50 to usd 2.50 BK a real possibility</td>\n",
              "      <td>negative</td>\n",
              "      <td>1</td>\n",
              "    </tr>\n",
              "    <tr>\n",
              "      <th>2</th>\n",
              "      <td>For the last quarter of 2010 , Componenta 's net sales doubled to EUR131m from EUR76m for the same period a year earlier , while it moved to a zero pre-tax profit from a pre-tax loss of EUR7m .</td>\n",
              "      <td>positive</td>\n",
              "      <td>2</td>\n",
              "    </tr>\n",
              "    <tr>\n",
              "      <th>3</th>\n",
              "      <td>According to the Finnish-Russian Chamber of Commerce , all the major construction companies of Finland are operating in Russia .</td>\n",
              "      <td>neutral</td>\n",
              "      <td>0</td>\n",
              "    </tr>\n",
              "    <tr>\n",
              "      <th>4</th>\n",
              "      <td>The Swedish buyout firm has sold its remaining 22.4 percent stake , almost eighteen months after taking the company public in Finland .</td>\n",
              "      <td>neutral</td>\n",
              "      <td>0</td>\n",
              "    </tr>\n",
              "    <tr>\n",
              "      <th>...</th>\n",
              "      <td>...</td>\n",
              "      <td>...</td>\n",
              "      <td>...</td>\n",
              "    </tr>\n",
              "    <tr>\n",
              "      <th>5837</th>\n",
              "      <td>RISING costs have forced packaging producer Huhtamaki to axe 90 jobs at its Hampshire manufacturing plant .</td>\n",
              "      <td>negative</td>\n",
              "      <td>1</td>\n",
              "    </tr>\n",
              "    <tr>\n",
              "      <th>5838</th>\n",
              "      <td>Nordic Walking was first used as a summer training method by cross-country skiers .</td>\n",
              "      <td>neutral</td>\n",
              "      <td>0</td>\n",
              "    </tr>\n",
              "    <tr>\n",
              "      <th>5839</th>\n",
              "      <td>According shipping company Viking Line , the EU decision will have a significant financial impact .</td>\n",
              "      <td>neutral</td>\n",
              "      <td>0</td>\n",
              "    </tr>\n",
              "    <tr>\n",
              "      <th>5840</th>\n",
              "      <td>In the building and home improvement trade , sales decreased by 22.5 percent to EUR 201.4 mn .</td>\n",
              "      <td>neutral</td>\n",
              "      <td>0</td>\n",
              "    </tr>\n",
              "    <tr>\n",
              "      <th>5841</th>\n",
              "      <td>HELSINKI AFX - KCI Konecranes said it has won an order for four hot metal ladle cranes from Indian steel producer Bhushan Steel and Strips Ltd. .</td>\n",
              "      <td>positive</td>\n",
              "      <td>2</td>\n",
              "    </tr>\n",
              "  </tbody>\n",
              "</table>\n",
              "<p>5842 rows × 3 columns</p>\n",
              "</div>\n",
              "      <button class=\"colab-df-convert\" onclick=\"convertToInteractive('df-cfb9d521-5458-4be0-86ac-cda316bb6389')\"\n",
              "              title=\"Convert this dataframe to an interactive table.\"\n",
              "              style=\"display:none;\">\n",
              "        \n",
              "  <svg xmlns=\"http://www.w3.org/2000/svg\" height=\"24px\"viewBox=\"0 0 24 24\"\n",
              "       width=\"24px\">\n",
              "    <path d=\"M0 0h24v24H0V0z\" fill=\"none\"/>\n",
              "    <path d=\"M18.56 5.44l.94 2.06.94-2.06 2.06-.94-2.06-.94-.94-2.06-.94 2.06-2.06.94zm-11 1L8.5 8.5l.94-2.06 2.06-.94-2.06-.94L8.5 2.5l-.94 2.06-2.06.94zm10 10l.94 2.06.94-2.06 2.06-.94-2.06-.94-.94-2.06-.94 2.06-2.06.94z\"/><path d=\"M17.41 7.96l-1.37-1.37c-.4-.4-.92-.59-1.43-.59-.52 0-1.04.2-1.43.59L10.3 9.45l-7.72 7.72c-.78.78-.78 2.05 0 2.83L4 21.41c.39.39.9.59 1.41.59.51 0 1.02-.2 1.41-.59l7.78-7.78 2.81-2.81c.8-.78.8-2.07 0-2.86zM5.41 20L4 18.59l7.72-7.72 1.47 1.35L5.41 20z\"/>\n",
              "  </svg>\n",
              "      </button>\n",
              "      \n",
              "  <style>\n",
              "    .colab-df-container {\n",
              "      display:flex;\n",
              "      flex-wrap:wrap;\n",
              "      gap: 12px;\n",
              "    }\n",
              "\n",
              "    .colab-df-convert {\n",
              "      background-color: #E8F0FE;\n",
              "      border: none;\n",
              "      border-radius: 50%;\n",
              "      cursor: pointer;\n",
              "      display: none;\n",
              "      fill: #1967D2;\n",
              "      height: 32px;\n",
              "      padding: 0 0 0 0;\n",
              "      width: 32px;\n",
              "    }\n",
              "\n",
              "    .colab-df-convert:hover {\n",
              "      background-color: #E2EBFA;\n",
              "      box-shadow: 0px 1px 2px rgba(60, 64, 67, 0.3), 0px 1px 3px 1px rgba(60, 64, 67, 0.15);\n",
              "      fill: #174EA6;\n",
              "    }\n",
              "\n",
              "    [theme=dark] .colab-df-convert {\n",
              "      background-color: #3B4455;\n",
              "      fill: #D2E3FC;\n",
              "    }\n",
              "\n",
              "    [theme=dark] .colab-df-convert:hover {\n",
              "      background-color: #434B5C;\n",
              "      box-shadow: 0px 1px 3px 1px rgba(0, 0, 0, 0.15);\n",
              "      filter: drop-shadow(0px 1px 2px rgba(0, 0, 0, 0.3));\n",
              "      fill: #FFFFFF;\n",
              "    }\n",
              "  </style>\n",
              "\n",
              "      <script>\n",
              "        const buttonEl =\n",
              "          document.querySelector('#df-cfb9d521-5458-4be0-86ac-cda316bb6389 button.colab-df-convert');\n",
              "        buttonEl.style.display =\n",
              "          google.colab.kernel.accessAllowed ? 'block' : 'none';\n",
              "\n",
              "        async function convertToInteractive(key) {\n",
              "          const element = document.querySelector('#df-cfb9d521-5458-4be0-86ac-cda316bb6389');\n",
              "          const dataTable =\n",
              "            await google.colab.kernel.invokeFunction('convertToInteractive',\n",
              "                                                     [key], {});\n",
              "          if (!dataTable) return;\n",
              "\n",
              "          const docLinkHtml = 'Like what you see? Visit the ' +\n",
              "            '<a target=\"_blank\" href=https://colab.research.google.com/notebooks/data_table.ipynb>data table notebook</a>'\n",
              "            + ' to learn more about interactive tables.';\n",
              "          element.innerHTML = '';\n",
              "          dataTable['output_type'] = 'display_data';\n",
              "          await google.colab.output.renderOutput(dataTable, element);\n",
              "          const docLink = document.createElement('div');\n",
              "          docLink.innerHTML = docLinkHtml;\n",
              "          element.appendChild(docLink);\n",
              "        }\n",
              "      </script>\n",
              "    </div>\n",
              "  </div>\n",
              "  "
            ]
          },
          "metadata": {},
          "execution_count": 24
        }
      ]
    },
    {
      "cell_type": "code",
      "source": [
        "# remove 'Telephone  495 7773477 ext. 3932  3931' & '.02.2011' which is unsual date format from the datapoint\n",
        "\n",
        "df.loc[854, 'Sentence'] = df.loc[854, 'Sentence'].replace('Telephone : 495 777-34-77 ext. 39 32 , 39 31', '')\n",
        "\n",
        "text = df.loc[854, 'Sentence']\n",
        "text = re.sub(r'(\\d{2})(\\d{2})', r'\\1 \\2', text)\n",
        "df.loc[854, 'Sentence'] = text\n",
        "df['Sentence'].iloc[854]\n",
        "\n"
      ],
      "metadata": {
        "colab": {
          "base_uri": "https://localhost:8080/",
          "height": 70
        },
        "outputId": "a9f3c9b7-5627-4807-cf0c-cd0d9422e227",
        "id": "3EcrR4Lm05Hl"
      },
      "execution_count": null,
      "outputs": [
        {
          "output_type": "execute_result",
          "data": {
            "text/plain": [
              "'1 p.m. Central office of Nordea Bank 19 3-ya ulitsa Yamskogo Polya , Building 1 Telephone : 495 777-34-77 ext. 39 32 , 39 31 03.02.20 11 Unimilk - EGM 03-04 .02.20 11 XVI international business-summit Food Business Russia 20 11 will take place .'"
            ],
            "application/vnd.google.colaboratory.intrinsic+json": {
              "type": "string"
            }
          },
          "metadata": {},
          "execution_count": 25
        }
      ]
    },
    {
      "cell_type": "code",
      "source": [
        "# Define the regular expression pattern to match punctuation excluding decimal point and hyphen\n",
        "pattern = r\"[^\\w\\s\\.-]\"\n",
        "\n",
        "# Remove punctuation using the pattern\n",
        "df['Sentence'] = df['Sentence'].str.replace(pattern, \"\")\n"
      ],
      "metadata": {
        "colab": {
          "base_uri": "https://localhost:8080/"
        },
        "outputId": "a4c37c9f-1367-4c3d-ab4e-712a270d7d83",
        "id": "als_BbxX05Hl"
      },
      "execution_count": null,
      "outputs": [
        {
          "output_type": "stream",
          "name": "stderr",
          "text": [
            "<ipython-input-26-43d6bb4d93a8>:5: FutureWarning: The default value of regex will change from True to False in a future version.\n",
            "  df['Sentence'] = df['Sentence'].str.replace(pattern, \"\")\n"
          ]
        }
      ]
    },
    {
      "cell_type": "code",
      "source": [
        "!pip install num2words"
      ],
      "metadata": {
        "colab": {
          "base_uri": "https://localhost:8080/"
        },
        "outputId": "7fa845bb-f889-4e2b-a754-20efe9e46090",
        "id": "6wHGSHcP05Hm"
      },
      "execution_count": null,
      "outputs": [
        {
          "output_type": "stream",
          "name": "stdout",
          "text": [
            "Looking in indexes: https://pypi.org/simple, https://us-python.pkg.dev/colab-wheels/public/simple/\n",
            "Collecting num2words\n",
            "  Downloading num2words-0.5.12-py3-none-any.whl (125 kB)\n",
            "\u001b[2K     \u001b[90m━━━━━━━━━━━━━━━━━━━━━━━━━━━━━━━━━━━━━━\u001b[0m \u001b[32m125.2/125.2 kB\u001b[0m \u001b[31m15.7 MB/s\u001b[0m eta \u001b[36m0:00:00\u001b[0m\n",
            "\u001b[?25hCollecting docopt>=0.6.2 (from num2words)\n",
            "  Downloading docopt-0.6.2.tar.gz (25 kB)\n",
            "  Preparing metadata (setup.py) ... \u001b[?25l\u001b[?25hdone\n",
            "Building wheels for collected packages: docopt\n",
            "  Building wheel for docopt (setup.py) ... \u001b[?25l\u001b[?25hdone\n",
            "  Created wheel for docopt: filename=docopt-0.6.2-py2.py3-none-any.whl size=13707 sha256=d52df63e6e4144783c19dbbcf5db427a816c817402116e533f4c6baf8825689d\n",
            "  Stored in directory: /root/.cache/pip/wheels/fc/ab/d4/5da2067ac95b36618c629a5f93f809425700506f72c9732fac\n",
            "Successfully built docopt\n",
            "Installing collected packages: docopt, num2words\n",
            "Successfully installed docopt-0.6.2 num2words-0.5.12\n"
          ]
        }
      ]
    },
    {
      "cell_type": "code",
      "source": [
        "#Converting all number to text form\n",
        "from decimal import Decimal\n",
        "from num2words import num2words\n",
        "\n",
        "def convert_numbers_to_words(text):\n",
        "    words = []\n",
        "    for word in text.split():\n",
        "        if word.replace('.', '', 1).replace(',', '').isdigit():\n",
        "            words.append(num2words(Decimal(word)))\n",
        "        else:\n",
        "            words.append(word)\n",
        "    return ' '.join(words)\n",
        "\n",
        "df['Sentence'] = df['Sentence'].apply(convert_numbers_to_words)\n",
        "\n"
      ],
      "metadata": {
        "id": "0RfDLFTk05Hm"
      },
      "execution_count": null,
      "outputs": []
    },
    {
      "cell_type": "code",
      "source": [
        "# identify 'EUR76m' this kind of pattern and split it to 'EUR 76 m'  \n",
        "pattern = r'(EUR\\s*\\d+\\s*\\w+)'\n",
        "pattern_matches = df['Sentence'].apply(lambda x: re.search(pattern, x))\n",
        "\n",
        "# Filter the dataset to show only rows with pattern matches\n",
        "matched_rows = df[pattern_matches.notnull()]\n",
        "\n",
        "# Print the matched rows\n",
        "print(matched_rows['Sentence'])"
      ],
      "metadata": {
        "colab": {
          "base_uri": "https://localhost:8080/"
        },
        "outputId": "ae0b5ad1-8eaf-41de-f588-68f6caa33218",
        "id": "t10KNius05Hm"
      },
      "execution_count": null,
      "outputs": [
        {
          "output_type": "stream",
          "name": "stdout",
          "text": [
            "2                                                                                   For the last quarter of two thousand and ten Componenta s net sales doubled to EUR131m from EUR76m for the same period a year earlier while it moved to a zero pre-tax profit from a pre-tax loss of EUR7m .\n",
            "37                                                                              The item included restructuring costs of EUR1 zero point six m while a year earlier they were EUR13 zero point one m. Diluted EPS stood at EUR0 zero point three versus a loss per share of EUR zero point one .\n",
            "71                                                                                                                                                 Operating profit for the quarter April-June two thousand and six amounted to EUR182 zero point two m on sales of EUR3 zero point six two bn .\n",
            "89                                                                                                                      In September two thousand and ten the Finnish group agreed to buy Danish company Rose Poultry A-S for up to EUR23 zero point nine m in a combination of cash and stock .\n",
            "97                                                      - Moody s said it gave P A1 long-term senior unsecured and P P-1 short-term debt ratings to Finnish lender Aktia Bank s EUR1bn USD1 zero point four bn euro medium-term note EMTN program of twenty-five March two thousand and eleven .\n",
            "                                                                                                                                                  ...                                                                                                                                           \n",
            "5758                                                                                                                                                                                                                                      This will bring cost savings of about EUR 3mn a year .\n",
            "5771                                            twenty-seven January two thousand and eleven - Finnish IT solutions provider Affecto Oyj HEL AFE1V said today it has won a EUR1 zero point two m USD1 zero point six m contract from state-owned Lithuanian Social Insurance Institution SODRA .\n",
            "5777                                                                                          Net sales rose by twenty-five point five percent year-on-year to EUR59 zero point six m as the number of chargers delivered went up by forty-one percent to sixty-five point nine million pieces .\n",
            "5795                                                                                                                                                                                                                   In two thousand and nine it reported net sales of approximately EUR 6mn .\n",
            "5816    twenty-eight October two thousand and ten - Finnish wood products technology supplier Raute Oyj HEL RUTAV said today it swung to a net profit of EUR3m for the first nine months of two thousand and ten versus a net loss of EUR5 zero point two m for the same period a year earlier .\n",
            "Name: Sentence, Length: 342, dtype: object\n"
          ]
        }
      ]
    },
    {
      "cell_type": "code",
      "source": [
        "#we can see there are patterns similar to 'EUR76m'in the text and need to be addressed\n",
        "pattern = r'(EUR\\s*\\d+\\s*\\w+)'\n",
        "df['Sentence'] = df['Sentence'].apply(lambda x: re.sub(pattern, lambda m: re.sub(r'(\\d+)', r' \\1 ', m.group(0).strip()), x))\n"
      ],
      "metadata": {
        "id": "FLRzkaik05Hn"
      },
      "execution_count": null,
      "outputs": []
    },
    {
      "cell_type": "code",
      "source": [
        "# replace 'm', 'mn' as 'million'\n",
        "df['Sentence'] = df['Sentence'].str.replace(r'\\bm\\b', 'million')\n",
        "df['Sentence'] = df['Sentence'].str.replace(r'\\bmn\\b', 'million')\n",
        "df['Sentence'] = df['Sentence'].str.replace(r'\\bbn\\b', 'billion')\n",
        "df['Sentence'] = df['Sentence'].str.replace(r'\\bb\\b', 'billion')"
      ],
      "metadata": {
        "colab": {
          "base_uri": "https://localhost:8080/"
        },
        "outputId": "9b9caa69-cfc3-487e-e228-eb1500ae0c86",
        "id": "G_RW9Sg705Hn"
      },
      "execution_count": null,
      "outputs": [
        {
          "output_type": "stream",
          "name": "stderr",
          "text": [
            "<ipython-input-31-03fb482cefb9>:2: FutureWarning: The default value of regex will change from True to False in a future version.\n",
            "  df['Sentence'] = df['Sentence'].str.replace(r'\\bm\\b', 'million')\n",
            "<ipython-input-31-03fb482cefb9>:3: FutureWarning: The default value of regex will change from True to False in a future version.\n",
            "  df['Sentence'] = df['Sentence'].str.replace(r'\\bmn\\b', 'million')\n",
            "<ipython-input-31-03fb482cefb9>:4: FutureWarning: The default value of regex will change from True to False in a future version.\n",
            "  df['Sentence'] = df['Sentence'].str.replace(r'\\bbn\\b', 'billion')\n",
            "<ipython-input-31-03fb482cefb9>:5: FutureWarning: The default value of regex will change from True to False in a future version.\n",
            "  df['Sentence'] = df['Sentence'].str.replace(r'\\bb\\b', 'billion')\n"
          ]
        }
      ]
    },
    {
      "cell_type": "code",
      "source": [
        "#again convert all number to words\n",
        "def convert_numbers_to_words(text):\n",
        "    words = []\n",
        "    for word in text.split():\n",
        "        if word.replace('.', '', 1).replace(',', '').isdigit():\n",
        "            words.append(num2words(Decimal(word)))\n",
        "        else:\n",
        "            words.append(word)\n",
        "    return ' '.join(words)\n",
        "\n",
        "df['Sentence'] = df['Sentence'].apply(convert_numbers_to_words)\n"
      ],
      "metadata": {
        "id": "740SzsP305Hn"
      },
      "execution_count": null,
      "outputs": []
    },
    {
      "cell_type": "code",
      "source": [
        "#converting data to lower case\n",
        "df['Sentence'] = df['Sentence'].str.lower()"
      ],
      "metadata": {
        "id": "6s08Y3RO05Hn"
      },
      "execution_count": null,
      "outputs": []
    },
    {
      "cell_type": "markdown",
      "metadata": {
        "id": "XnBjAT3KWgk6"
      },
      "source": [
        "**\"punkt\"**: This dataset is downloaded from the Natural Language Toolkit (nltk) library. This dataset contains pre-trained tokenizers for various languages. Once downloaded, these tokenizers can be used to tokenize text into words, sentences, etc.\n",
        "\n",
        "**stopwords**: Downloading 'stopwords' allows removal of redundant words i.e. commonly occuring words (e.g., \"the,\" \"is,\" \"and\") from the sentences in dataset. Also we can create or include other words, symbols, special characters that are not meaningful in this corpus. They can be included in the corpus using 'set(stopwords).union(set())' code snippet.\n",
        "\n",
        "**WordNet**: WordNet corpus from the Natural Language Toolkit (NLTK) library, is a lexical database that organizes words into groups based on their meanings and relationships with other words in the English language."
      ]
    },
    {
      "cell_type": "code",
      "execution_count": null,
      "metadata": {
        "colab": {
          "base_uri": "https://localhost:8080/"
        },
        "outputId": "7099c218-488e-4e8f-d6f4-abfd531a7dda",
        "id": "YRhEjxnW05Ho"
      },
      "outputs": [
        {
          "output_type": "stream",
          "name": "stderr",
          "text": [
            "[nltk_data] Downloading package punkt to /root/nltk_data...\n",
            "[nltk_data]   Unzipping tokenizers/punkt.zip.\n",
            "[nltk_data] Downloading package stopwords to /root/nltk_data...\n",
            "[nltk_data]   Unzipping corpora/stopwords.zip.\n",
            "[nltk_data] Downloading package wordnet to /root/nltk_data...\n"
          ]
        }
      ],
      "source": [
        "import nltk  \n",
        "#Downloading 'punkt'  \n",
        "nltk.download('punkt')     \n",
        " # Downloading the 'stopwords' corpus       \n",
        "nltk.download('stopwords') \n",
        "#Downloading 'WordNet' corpus\n",
        "nltk.download('wordnet')   \n",
        "# Importing the 'stopwords' corpus from nltk\n",
        "from nltk.corpus import stopwords \n",
        "\n",
        "# Creating a variable 'stop_words' containing the default English stopwords\n",
        "stop_words = stopwords.words('english')   \n",
        "\n",
        "#Applying a lambda function to the 'sentence' column of the DataFrame 'df' to remove stopwords from each sentence\n",
        "df['Sentence'] = df['Sentence'].apply(lambda x: ' '.join([word for word in x.split() if word not in (stop_words)]))  "
      ]
    },
    {
      "cell_type": "code",
      "execution_count": null,
      "metadata": {
        "ExecuteTime": {
          "end_time": "2022-06-02T02:54:06.895445Z",
          "start_time": "2022-06-02T02:54:06.880863Z"
        },
        "id": "P9zGxfWIVM1z"
      },
      "outputs": [],
      "source": [
        "df = df.dropna(subset=['Sentence', 'label']) ## drop missing values"
      ]
    },
    {
      "cell_type": "markdown",
      "source": [
        "**Lemmatization** is the process of reducing a word to its base or dictionary form, which helps in reducing the number of unique words in the text data thereby reducing the dimensionality of the problem.This code uses the 'WordNetLemmatizer' from the 'NLTK' package to lemmatize words in each sentence in the 'sentence' column of the dataframe 'df'. \n",
        "Lemmatization is performed on each word in the sentence by first tokenizing the sentence using the 'nltk.word_tokenize()' function and then applying lemmatization on each token using the lemmatize function from the 'WordNetLemmatizer'. The result of lemmatization is then joined back into a sentence by performing a join using 'join()' function."
      ],
      "metadata": {
        "id": "_bvOrNe2S92S"
      }
    },
    {
      "cell_type": "code",
      "execution_count": null,
      "metadata": {
        "id": "mnMvwNhkNCpd"
      },
      "outputs": [],
      "source": [
        "#This code uses the WordNetLemmatizer from the NLTK package to lemmatize words in each sentence in the 'sentence' column of the dataframe 'df'.\n",
        "from nltk.stem import WordNetLemmatizer  \n",
        "\n",
        "lemmatizer = WordNetLemmatizer()\n",
        "df['Sentence']=df['Sentence'].apply(lambda x: \" \".join([lemmatizer.lemmatize(w) for w in nltk.word_tokenize(x)]))"
      ]
    },
    {
      "cell_type": "markdown",
      "source": [
        "Lemmatization has been performed on 'sentence' column of dataframe 'df' "
      ],
      "metadata": {
        "id": "x8YxXdvifFdO"
      }
    },
    {
      "cell_type": "code",
      "source": [
        "df"
      ],
      "metadata": {
        "colab": {
          "base_uri": "https://localhost:8080/",
          "height": 623
        },
        "outputId": "e36abb9d-9138-4844-df9b-413d9e7c5518",
        "id": "GvshgFQt05Hp"
      },
      "execution_count": null,
      "outputs": [
        {
          "output_type": "execute_result",
          "data": {
            "text/plain": [
              "                                                                                                                                                                                                 Sentence  \\\n",
              "0                geosolutions technology leverage benefon gps solution providing location based search technology community platform location relevant multimedia content new powerful commercial model .   \n",
              "1                                                                                                                                   usd esi low usd one point five usd two point five bk real possibility   \n",
              "2     last quarter two thousand ten componenta net sale doubled eur one hundred thirty-one million eur seventy-six million period year earlier moved zero pre-tax profit pre-tax loss eur seven million .   \n",
              "3                                                                                                        according finnish-russian chamber commerce major construction company finland operating russia .   \n",
              "4                                                                            swedish buyout firm sold remaining twenty-two point four percent stake almost eighteen month taking company public finland .   \n",
              "...                                                                                                                                                                                                   ...   \n",
              "5837                                                                                                       rising cost forced packaging producer huhtamaki axe ninety job hampshire manufacturing plant .   \n",
              "5838                                                                                                                               nordic walking first used summer training method cross-country skier .   \n",
              "5839                                                                                                                    according shipping company viking line eu decision significant financial impact .   \n",
              "5840                                                                                building home improvement trade sale decreased twenty-two point five percent eur two hundred one point four million .   \n",
              "5841                                                                                 helsinki afx - kci konecranes said order four hot metal ladle crane indian steel producer bhushan steel strip ltd. .   \n",
              "\n",
              "     Sentiment  label  \n",
              "0     positive      2  \n",
              "1     negative      1  \n",
              "2     positive      2  \n",
              "3      neutral      0  \n",
              "4      neutral      0  \n",
              "...        ...    ...  \n",
              "5837  negative      1  \n",
              "5838   neutral      0  \n",
              "5839   neutral      0  \n",
              "5840   neutral      0  \n",
              "5841  positive      2  \n",
              "\n",
              "[5842 rows x 3 columns]"
            ],
            "text/html": [
              "\n",
              "  <div id=\"df-317897a5-22b9-4386-a35e-2025df921e29\">\n",
              "    <div class=\"colab-df-container\">\n",
              "      <div>\n",
              "<style scoped>\n",
              "    .dataframe tbody tr th:only-of-type {\n",
              "        vertical-align: middle;\n",
              "    }\n",
              "\n",
              "    .dataframe tbody tr th {\n",
              "        vertical-align: top;\n",
              "    }\n",
              "\n",
              "    .dataframe thead th {\n",
              "        text-align: right;\n",
              "    }\n",
              "</style>\n",
              "<table border=\"1\" class=\"dataframe\">\n",
              "  <thead>\n",
              "    <tr style=\"text-align: right;\">\n",
              "      <th></th>\n",
              "      <th>Sentence</th>\n",
              "      <th>Sentiment</th>\n",
              "      <th>label</th>\n",
              "    </tr>\n",
              "  </thead>\n",
              "  <tbody>\n",
              "    <tr>\n",
              "      <th>0</th>\n",
              "      <td>geosolutions technology leverage benefon gps solution providing location based search technology community platform location relevant multimedia content new powerful commercial model .</td>\n",
              "      <td>positive</td>\n",
              "      <td>2</td>\n",
              "    </tr>\n",
              "    <tr>\n",
              "      <th>1</th>\n",
              "      <td>usd esi low usd one point five usd two point five bk real possibility</td>\n",
              "      <td>negative</td>\n",
              "      <td>1</td>\n",
              "    </tr>\n",
              "    <tr>\n",
              "      <th>2</th>\n",
              "      <td>last quarter two thousand ten componenta net sale doubled eur one hundred thirty-one million eur seventy-six million period year earlier moved zero pre-tax profit pre-tax loss eur seven million .</td>\n",
              "      <td>positive</td>\n",
              "      <td>2</td>\n",
              "    </tr>\n",
              "    <tr>\n",
              "      <th>3</th>\n",
              "      <td>according finnish-russian chamber commerce major construction company finland operating russia .</td>\n",
              "      <td>neutral</td>\n",
              "      <td>0</td>\n",
              "    </tr>\n",
              "    <tr>\n",
              "      <th>4</th>\n",
              "      <td>swedish buyout firm sold remaining twenty-two point four percent stake almost eighteen month taking company public finland .</td>\n",
              "      <td>neutral</td>\n",
              "      <td>0</td>\n",
              "    </tr>\n",
              "    <tr>\n",
              "      <th>...</th>\n",
              "      <td>...</td>\n",
              "      <td>...</td>\n",
              "      <td>...</td>\n",
              "    </tr>\n",
              "    <tr>\n",
              "      <th>5837</th>\n",
              "      <td>rising cost forced packaging producer huhtamaki axe ninety job hampshire manufacturing plant .</td>\n",
              "      <td>negative</td>\n",
              "      <td>1</td>\n",
              "    </tr>\n",
              "    <tr>\n",
              "      <th>5838</th>\n",
              "      <td>nordic walking first used summer training method cross-country skier .</td>\n",
              "      <td>neutral</td>\n",
              "      <td>0</td>\n",
              "    </tr>\n",
              "    <tr>\n",
              "      <th>5839</th>\n",
              "      <td>according shipping company viking line eu decision significant financial impact .</td>\n",
              "      <td>neutral</td>\n",
              "      <td>0</td>\n",
              "    </tr>\n",
              "    <tr>\n",
              "      <th>5840</th>\n",
              "      <td>building home improvement trade sale decreased twenty-two point five percent eur two hundred one point four million .</td>\n",
              "      <td>neutral</td>\n",
              "      <td>0</td>\n",
              "    </tr>\n",
              "    <tr>\n",
              "      <th>5841</th>\n",
              "      <td>helsinki afx - kci konecranes said order four hot metal ladle crane indian steel producer bhushan steel strip ltd. .</td>\n",
              "      <td>positive</td>\n",
              "      <td>2</td>\n",
              "    </tr>\n",
              "  </tbody>\n",
              "</table>\n",
              "<p>5842 rows × 3 columns</p>\n",
              "</div>\n",
              "      <button class=\"colab-df-convert\" onclick=\"convertToInteractive('df-317897a5-22b9-4386-a35e-2025df921e29')\"\n",
              "              title=\"Convert this dataframe to an interactive table.\"\n",
              "              style=\"display:none;\">\n",
              "        \n",
              "  <svg xmlns=\"http://www.w3.org/2000/svg\" height=\"24px\"viewBox=\"0 0 24 24\"\n",
              "       width=\"24px\">\n",
              "    <path d=\"M0 0h24v24H0V0z\" fill=\"none\"/>\n",
              "    <path d=\"M18.56 5.44l.94 2.06.94-2.06 2.06-.94-2.06-.94-.94-2.06-.94 2.06-2.06.94zm-11 1L8.5 8.5l.94-2.06 2.06-.94-2.06-.94L8.5 2.5l-.94 2.06-2.06.94zm10 10l.94 2.06.94-2.06 2.06-.94-2.06-.94-.94-2.06-.94 2.06-2.06.94z\"/><path d=\"M17.41 7.96l-1.37-1.37c-.4-.4-.92-.59-1.43-.59-.52 0-1.04.2-1.43.59L10.3 9.45l-7.72 7.72c-.78.78-.78 2.05 0 2.83L4 21.41c.39.39.9.59 1.41.59.51 0 1.02-.2 1.41-.59l7.78-7.78 2.81-2.81c.8-.78.8-2.07 0-2.86zM5.41 20L4 18.59l7.72-7.72 1.47 1.35L5.41 20z\"/>\n",
              "  </svg>\n",
              "      </button>\n",
              "      \n",
              "  <style>\n",
              "    .colab-df-container {\n",
              "      display:flex;\n",
              "      flex-wrap:wrap;\n",
              "      gap: 12px;\n",
              "    }\n",
              "\n",
              "    .colab-df-convert {\n",
              "      background-color: #E8F0FE;\n",
              "      border: none;\n",
              "      border-radius: 50%;\n",
              "      cursor: pointer;\n",
              "      display: none;\n",
              "      fill: #1967D2;\n",
              "      height: 32px;\n",
              "      padding: 0 0 0 0;\n",
              "      width: 32px;\n",
              "    }\n",
              "\n",
              "    .colab-df-convert:hover {\n",
              "      background-color: #E2EBFA;\n",
              "      box-shadow: 0px 1px 2px rgba(60, 64, 67, 0.3), 0px 1px 3px 1px rgba(60, 64, 67, 0.15);\n",
              "      fill: #174EA6;\n",
              "    }\n",
              "\n",
              "    [theme=dark] .colab-df-convert {\n",
              "      background-color: #3B4455;\n",
              "      fill: #D2E3FC;\n",
              "    }\n",
              "\n",
              "    [theme=dark] .colab-df-convert:hover {\n",
              "      background-color: #434B5C;\n",
              "      box-shadow: 0px 1px 3px 1px rgba(0, 0, 0, 0.15);\n",
              "      filter: drop-shadow(0px 1px 2px rgba(0, 0, 0, 0.3));\n",
              "      fill: #FFFFFF;\n",
              "    }\n",
              "  </style>\n",
              "\n",
              "      <script>\n",
              "        const buttonEl =\n",
              "          document.querySelector('#df-317897a5-22b9-4386-a35e-2025df921e29 button.colab-df-convert');\n",
              "        buttonEl.style.display =\n",
              "          google.colab.kernel.accessAllowed ? 'block' : 'none';\n",
              "\n",
              "        async function convertToInteractive(key) {\n",
              "          const element = document.querySelector('#df-317897a5-22b9-4386-a35e-2025df921e29');\n",
              "          const dataTable =\n",
              "            await google.colab.kernel.invokeFunction('convertToInteractive',\n",
              "                                                     [key], {});\n",
              "          if (!dataTable) return;\n",
              "\n",
              "          const docLinkHtml = 'Like what you see? Visit the ' +\n",
              "            '<a target=\"_blank\" href=https://colab.research.google.com/notebooks/data_table.ipynb>data table notebook</a>'\n",
              "            + ' to learn more about interactive tables.';\n",
              "          element.innerHTML = '';\n",
              "          dataTable['output_type'] = 'display_data';\n",
              "          await google.colab.output.renderOutput(dataTable, element);\n",
              "          const docLink = document.createElement('div');\n",
              "          docLink.innerHTML = docLinkHtml;\n",
              "          element.appendChild(docLink);\n",
              "        }\n",
              "      </script>\n",
              "    </div>\n",
              "  </div>\n",
              "  "
            ]
          },
          "metadata": {},
          "execution_count": 37
        }
      ]
    },
    {
      "cell_type": "code",
      "execution_count": null,
      "metadata": {
        "id": "auhs22rZs2i9"
      },
      "outputs": [],
      "source": [
        "df = df.dropna(how='any')"
      ]
    },
    {
      "cell_type": "markdown",
      "metadata": {
        "id": "UT6ceXNbWwY9"
      },
      "source": [
        "After removing stopwords and other patterns we drop rows with missing values. These rows do not contribute to our analysis and are considered noise. This operation is performed using 'dropna()' function.The how='any' parameter specifies that a row should be dropped if any of its values are empty.\n",
        "\n",
        "After carrying out all cleaning dataset looks fairly clean and ready to use for further analysis. "
      ]
    },
    {
      "cell_type": "markdown",
      "metadata": {
        "id": "2FfFQcNpVM10"
      },
      "source": [
        "## Prepare training/validation/testing datasets\n",
        "\n",
        "\n",
        "Splitting the dataset into training, testing and validation sets is done using the train_test_split function from the scikit-learn library.\n",
        "\n",
        "The 'stratify' parameter ensures that the proportion of target labels in each split is the same as that in the original dataset.\n",
        "\n",
        "The 'test_size' parameter specifies the percentage of data to be allocated to the testing set.\n",
        "\n",
        "The 'random_state' parameter ensures that the same splits are obtained every time the code is run.\n",
        "\n",
        "\n",
        "These lines split the dataset df into training, validation, and testing sets using train_test_split() function from the sklearn library.The 'stratify' parameter is used to ensure that the proportion of the target classes is the same in the training, validation, and testing sets. The split ratio is 90% for training and 10% for testing and validation each. \n",
        "\n",
        "The shape of the resulting df_train, df_test, and df_val dataframes is printed to check that the split has been performed correctly."
      ]
    },
    {
      "cell_type": "code",
      "execution_count": null,
      "metadata": {
        "id": "9doBxKVhVM10",
        "colab": {
          "base_uri": "https://localhost:8080/"
        },
        "outputId": "ad88ac17-e9d5-4b65-d1f5-426b3a0225c4"
      },
      "outputs": [
        {
          "output_type": "stream",
          "name": "stdout",
          "text": [
            "(4731, 3) (585, 3) (526, 3)\n"
          ]
        }
      ],
      "source": [
        "#Split data into test, test, validation sets\n",
        "df_train, df_test, = train_test_split(df, stratify=df['label'], test_size=0.1, random_state=42)\n",
        "df_train, df_val = train_test_split(df_train, stratify=df_train['label'],test_size=0.1, random_state=42)\n",
        "print(df_train.shape, df_test.shape, df_val.shape)"
      ]
    },
    {
      "cell_type": "markdown",
      "metadata": {
        "id": "jMdj7tRc05Hr"
      },
      "source": [
        "# **FINBERT MODEL**"
      ]
    },
    {
      "cell_type": "markdown",
      "metadata": {
        "id": "IiEKpEsx05Hr"
      },
      "source": [
        "### load FinBERT pretrained model\n",
        "The pretrained FinBERT model path on Huggingface is https://huggingface.co/yiyanghkust/finbert-pretrain"
      ]
    },
    {
      "cell_type": "code",
      "source": [
        "#The pretrained FinBERT model path on Huggingface is https://huggingface.co/yiyanghkust/finbert-pretrain\n",
        "\n",
        " ## Loading the pre-trained 'BertForSequenceClassification' model from the 'yiyanghkust/finbert-pretrain' checkpoint\n",
        "model2= BertForSequenceClassification.from_pretrained('yiyanghkust/finbert-pretrain',num_labels=3) \n",
        "\n",
        "# Loading the tokenizer from the 'yiyanghkust/finbert-pretrain' checkpoint\n",
        "tokenizer2= BertTokenizer.from_pretrained('yiyanghkust/finbert-pretrain') "
      ],
      "metadata": {
        "colab": {
          "base_uri": "https://localhost:8080/",
          "height": 304,
          "referenced_widgets": [
            "b6e772a88a814a21836e24874f647bb2",
            "e659a67f21034f6aa7f3fac17595d615",
            "9ff8454a9a0048ff92ac37d635381748",
            "5820eaf927da48ffa72906b208469895",
            "61606925b8f94fb1806b2370f8009dd4",
            "ef457e5fca0e46e7bbda4e88a26b83b4",
            "baf16e2bbc3d451a96b2d6ee536c970e",
            "2180ee5fc8c04034beba64be5ff18ba7",
            "789d95ed68fa48598e411bd796159761",
            "b04f8c85037e4afd95e5be39cb26022e",
            "14543df47ad842538a9a14c9106f186b",
            "da2670fe5b4b41eeba6be8603edffa0e",
            "8ef7659b7bb44386ae57f8b237d9a94e",
            "9f6487faf33e42be8633f1a450b64831",
            "b38edf6ff12c4793950daaffcc6dd1b6",
            "267ec5e6c8da4c2bb11f05109c1c99eb",
            "8f6ca4f186dd4beb9505e1a7383a8c1e",
            "384037967265429fb8ba187a0a31bd61",
            "ee0d15115b444202a433849dfefab67c",
            "fe46f2806a874956a7239f8a8dcf2ebf",
            "7ee6379de63042f7a2b4af35ade3298c",
            "f2f74c7e7b1d480e8362abfe43923585",
            "3f660e9460fc43efb7c6e28b0ae33cf5",
            "47d1cda42745487588f05ca959953c17",
            "89d39dc64f014a79a87366b74b52e8a8",
            "a68121c1f44a4c9a99401312093f0ce5",
            "5d147e97fd4443cdb79ec8cbc641f0aa",
            "578f9451cfe447e68b932c3b202b80bb",
            "f622c4d861e1484bb33d63a58903c5ce",
            "471b34e6da2d497bbfc5bf4a22f93044",
            "655f73b9073644f0bb85ebf84da52224",
            "847f178a21a44aadae92cbc86f9bf394",
            "fc2bd452c2ad408e8ac40800e303ffa2"
          ]
        },
        "id": "9Vn3EIUGLAgP",
        "outputId": "99e7a888-e1ca-4254-b8f6-bb48720aa954"
      },
      "execution_count": null,
      "outputs": [
        {
          "output_type": "display_data",
          "data": {
            "text/plain": [
              "Downloading (…)lve/main/config.json:   0%|          | 0.00/359 [00:00<?, ?B/s]"
            ],
            "application/vnd.jupyter.widget-view+json": {
              "version_major": 2,
              "version_minor": 0,
              "model_id": "b6e772a88a814a21836e24874f647bb2"
            }
          },
          "metadata": {}
        },
        {
          "output_type": "display_data",
          "data": {
            "text/plain": [
              "Downloading pytorch_model.bin:   0%|          | 0.00/442M [00:00<?, ?B/s]"
            ],
            "application/vnd.jupyter.widget-view+json": {
              "version_major": 2,
              "version_minor": 0,
              "model_id": "da2670fe5b4b41eeba6be8603edffa0e"
            }
          },
          "metadata": {}
        },
        {
          "output_type": "stream",
          "name": "stderr",
          "text": [
            "Some weights of the model checkpoint at yiyanghkust/finbert-pretrain were not used when initializing BertForSequenceClassification: ['cls.predictions.transform.LayerNorm.bias', 'cls.predictions.transform.dense.bias', 'cls.predictions.bias', 'cls.seq_relationship.bias', 'cls.predictions.transform.LayerNorm.weight', 'cls.predictions.transform.dense.weight', 'cls.seq_relationship.weight', 'cls.predictions.decoder.weight']\n",
            "- This IS expected if you are initializing BertForSequenceClassification from the checkpoint of a model trained on another task or with another architecture (e.g. initializing a BertForSequenceClassification model from a BertForPreTraining model).\n",
            "- This IS NOT expected if you are initializing BertForSequenceClassification from the checkpoint of a model that you expect to be exactly identical (initializing a BertForSequenceClassification model from a BertForSequenceClassification model).\n",
            "Some weights of BertForSequenceClassification were not initialized from the model checkpoint at yiyanghkust/finbert-pretrain and are newly initialized: ['classifier.bias', 'classifier.weight']\n",
            "You should probably TRAIN this model on a down-stream task to be able to use it for predictions and inference.\n"
          ]
        },
        {
          "output_type": "display_data",
          "data": {
            "text/plain": [
              "Downloading (…)solve/main/vocab.txt:   0%|          | 0.00/226k [00:00<?, ?B/s]"
            ],
            "application/vnd.jupyter.widget-view+json": {
              "version_major": 2,
              "version_minor": 0,
              "model_id": "3f660e9460fc43efb7c6e28b0ae33cf5"
            }
          },
          "metadata": {}
        }
      ]
    },
    {
      "cell_type": "markdown",
      "metadata": {
        "id": "yLHtAUT-05Hs"
      },
      "source": [
        "This block of code creates 'Dataset' objects from the training, validation, and test sets, which are originally stored in pandas DataFrames\n",
        "\n",
        "Each DataFrame is converted to a 'Dataset' using the 'from_pandas' method of the 'Dataset' class\n",
        "\n",
        "Then, each 'Dataset' is tokenized using the 'tokenizer' object, with padding and truncation applied to ensure that each input has a fixed length of 128\n",
        "\n",
        "Finally, the 'set_format' method is called on each 'Dataset' to specify the format and columns to be used when the data is fed into the model"
      ]
    },
    {
      "cell_type": "code",
      "source": [
        "# Prepare dataset for fine-tuning finBERT\n",
        "dataset_train2 = Dataset.from_pandas(df_train) ## Creating a 'Dataset' object from the training set DataFrame 'df_train'\n",
        "dataset_val2 = Dataset.from_pandas(df_val)  ## Creating a 'Dataset' object from the validation set DataFrame 'df_val'\n",
        "dataset_test2 = Dataset.from_pandas(df_test)  # # Creating a 'Dataset' object from the test set DataFrame 'df_test'"
      ],
      "metadata": {
        "id": "pri8fjfALCoy"
      },
      "execution_count": null,
      "outputs": []
    },
    {
      "cell_type": "code",
      "source": [
        "#Tokenizing each 'Dataset' using the 'tokenizer' object with padding and truncation applied\n",
        "dataset_train2 = dataset_train2.map(lambda e: tokenizer2(e['Sentence'], truncation=True, padding='max_length', max_length=128), batched=True)\n",
        "dataset_val2 = dataset_val2.map(lambda e: tokenizer2(e['Sentence'], truncation=True, padding='max_length', max_length=128), batched=True)\n",
        "dataset_test2 = dataset_test2.map(lambda e: tokenizer2(e['Sentence'], truncation=True, padding='max_length' , max_length=128), batched=True)\n",
        "#Setting the format and columns of each 'Dataset' to be used when the data is fed into the model\n",
        "dataset_train2.set_format(type='torch', columns=['input_ids', 'token_type_ids', 'attention_mask', 'label'])\n",
        "dataset_val2.set_format(type='torch', columns=['input_ids', 'token_type_ids', 'attention_mask', 'label'])\n",
        "dataset_test2.set_format(type='torch', columns=['input_ids', 'token_type_ids', 'attention_mask', 'label'])"
      ],
      "metadata": {
        "colab": {
          "base_uri": "https://localhost:8080/",
          "height": 17,
          "referenced_widgets": [
            "8bb55e6797d34aceaf8eab6c3af593d6",
            "5b74e27552774a158407d56c9fdf2e44",
            "5af1875c40714c27bbe56fd2f1063134",
            "8845841219684e1cb894806295805a12",
            "993ba2d13fd24380b0cbb03f515aeb91",
            "b5142f57b8f34d67a46262b8d10bfe7b",
            "e7d7a62714114db6a183c93e3347b6e1",
            "43d4644e27e0498f82ac5a4e50db517a",
            "827afbd9fbe54f7db1e1b25fe66a2392",
            "4445d683f857468f945b43088d8fb838",
            "7b4c68554db4426a879b7ceda16f6668",
            "81f1c5d97edb4eeeb446aca7b915448f",
            "c1059ac70ee94dfe975f920042aa3046",
            "841eba0dca8c4ba5a5f521d2aa056396",
            "c9dc1c28fda646daaa84bc9af9cf5d43",
            "fa0184174b8c4ef78555873483e0b8a9",
            "6014b8a9c90c4ccfa22a20a5c99a52c3",
            "45185a7241d440dba33772601528b472",
            "7c14cca0255d4ec58d8bb8b50004060b",
            "c2a323e561e848899cc9a72281894f51",
            "285fe6fb31b042e4acf847a50b3e9297",
            "8522250a12374a0a9b7f078b02862e29",
            "4a13519d3d88433fafba608296265fd3",
            "0e2c84419a6045bba4ccb4a7f33b445c",
            "5ce0957f7b884755bda9d62549136264",
            "eb1b2a3ca50246fdb062e42f8081ad7f",
            "0b62ee91f6d74bfaba267f7af915baf7",
            "f10e7ac3c11f405f9ebc5c2ad7d73fcc",
            "6843830dddf7420397ccdfd05322cdc2",
            "4c19173a1b714baa8288b8dae70fc44f",
            "5ed6d76478fe4357967171b3ac6227cd",
            "5820818dd71b404ea4863118bc94533d",
            "2becec10a69d4fd6bc63418ed49a424b"
          ]
        },
        "id": "A5HdE4g0LEiK",
        "outputId": "0c0a2081-d736-4e61-8c43-29c25d7a64aa"
      },
      "execution_count": null,
      "outputs": [
        {
          "output_type": "display_data",
          "data": {
            "text/plain": [
              "Map:   0%|          | 0/4731 [00:00<?, ? examples/s]"
            ],
            "application/vnd.jupyter.widget-view+json": {
              "version_major": 2,
              "version_minor": 0,
              "model_id": "8bb55e6797d34aceaf8eab6c3af593d6"
            }
          },
          "metadata": {}
        },
        {
          "output_type": "display_data",
          "data": {
            "text/plain": [
              "Map:   0%|          | 0/526 [00:00<?, ? examples/s]"
            ],
            "application/vnd.jupyter.widget-view+json": {
              "version_major": 2,
              "version_minor": 0,
              "model_id": "81f1c5d97edb4eeeb446aca7b915448f"
            }
          },
          "metadata": {}
        },
        {
          "output_type": "display_data",
          "data": {
            "text/plain": [
              "Map:   0%|          | 0/585 [00:00<?, ? examples/s]"
            ],
            "application/vnd.jupyter.widget-view+json": {
              "version_major": 2,
              "version_minor": 0,
              "model_id": "4a13519d3d88433fafba608296265fd3"
            }
          },
          "metadata": {}
        }
      ]
    },
    {
      "cell_type": "markdown",
      "metadata": {
        "id": "9B11O9ln05Hy"
      },
      "source": [
        "The cell defines a function compute_metrics that takes eval_pred as input and returns a dictionary containing the accuracy score computed using sklearn's accuracy_score function.\n",
        "\n",
        "Then, the code sets up the training arguments using TrainingArguments from the transformers library. The arguments include the output directory for storing the trained model, the evaluation strategy, the learning rate, the batch sizes, the number of training epochs, the weight decay, and other parameters.\n",
        "\n",
        "The Trainer object is then instantiated using the defined model, the training and evaluation datasets, the compute_metrics function, and the TrainingArguments. Finally, the train() method is called on the Trainer object to train the model."
      ]
    },
    {
      "cell_type": "code",
      "source": [
        "\n",
        "# Define a function to compute the evaluation metrics\n",
        "def compute_metrics2(eval_pred):\n",
        "    predictions, labels = eval_pred\n",
        "    predictions = np.argmax(predictions, axis=1)\n",
        "    return {'accuracy' : accuracy_score(predictions, labels)}\n",
        "# Set up the training arguments\n",
        "\n",
        "args2 = TrainingArguments(\n",
        "        output_dir = '/content/temp2/',   ## Directory to save the trained model\n",
        "        evaluation_strategy = 'epoch',   ## Evaluate the model after every epoch\n",
        "        save_strategy = 'epoch',   ## Save the model after every epoch\n",
        "        learning_rate=1e-5,         ## Learning rate for the optimizer\n",
        "        per_device_train_batch_size=64,  ## Batch size for training\n",
        "        per_device_eval_batch_size=64,   ## Batch size for evaluation\n",
        "        num_train_epochs=5,             # Number of training epochs\n",
        "        weight_decay=0.01,              # Weight decay for regularization\n",
        "        load_best_model_at_end=True,      # Load the best model at the end of training\n",
        "        metric_for_best_model='accuracy',   # Metric to use for determining the best model\n",
        ")\n",
        "\n",
        "trainer2 = Trainer(\n",
        "        model=model2,                          # The pre-trained model to be trained\n",
        "        args=args2,                  # # Training arguments\n",
        "        train_dataset=dataset_train2,         # training dataset\n",
        "        eval_dataset=dataset_val2,            # evaluation dataset\n",
        "        compute_metrics=compute_metrics2   # Function to compute evaluation metrics\n",
        ")\n",
        "# Train the model\n",
        "trainer2.train()  "
      ],
      "metadata": {
        "colab": {
          "base_uri": "https://localhost:8080/",
          "height": 339
        },
        "id": "luDujlZ5LI0f",
        "outputId": "a547c91c-3e33-42a7-e32e-1f19fa1e4d1b"
      },
      "execution_count": null,
      "outputs": [
        {
          "output_type": "stream",
          "name": "stderr",
          "text": [
            "/usr/local/lib/python3.10/dist-packages/transformers/optimization.py:391: FutureWarning: This implementation of AdamW is deprecated and will be removed in a future version. Use the PyTorch implementation torch.optim.AdamW instead, or set `no_deprecation_warning=True` to disable this warning\n",
            "  warnings.warn(\n"
          ]
        },
        {
          "output_type": "display_data",
          "data": {
            "text/plain": [
              "<IPython.core.display.HTML object>"
            ],
            "text/html": [
              "\n",
              "    <div>\n",
              "      \n",
              "      <progress value='370' max='370' style='width:300px; height:20px; vertical-align: middle;'></progress>\n",
              "      [370/370 02:08, Epoch 5/5]\n",
              "    </div>\n",
              "    <table border=\"1\" class=\"dataframe\">\n",
              "  <thead>\n",
              " <tr style=\"text-align: left;\">\n",
              "      <th>Epoch</th>\n",
              "      <th>Training Loss</th>\n",
              "      <th>Validation Loss</th>\n",
              "      <th>Accuracy</th>\n",
              "    </tr>\n",
              "  </thead>\n",
              "  <tbody>\n",
              "    <tr>\n",
              "      <td>1</td>\n",
              "      <td>No log</td>\n",
              "      <td>0.694881</td>\n",
              "      <td>0.699620</td>\n",
              "    </tr>\n",
              "    <tr>\n",
              "      <td>2</td>\n",
              "      <td>No log</td>\n",
              "      <td>0.560139</td>\n",
              "      <td>0.754753</td>\n",
              "    </tr>\n",
              "    <tr>\n",
              "      <td>3</td>\n",
              "      <td>No log</td>\n",
              "      <td>0.541392</td>\n",
              "      <td>0.760456</td>\n",
              "    </tr>\n",
              "    <tr>\n",
              "      <td>4</td>\n",
              "      <td>No log</td>\n",
              "      <td>0.528045</td>\n",
              "      <td>0.758555</td>\n",
              "    </tr>\n",
              "    <tr>\n",
              "      <td>5</td>\n",
              "      <td>No log</td>\n",
              "      <td>0.529566</td>\n",
              "      <td>0.766160</td>\n",
              "    </tr>\n",
              "  </tbody>\n",
              "</table><p>"
            ]
          },
          "metadata": {}
        },
        {
          "output_type": "execute_result",
          "data": {
            "text/plain": [
              "TrainOutput(global_step=370, training_loss=0.5323284252269848, metrics={'train_runtime': 131.6298, 'train_samples_per_second': 179.709, 'train_steps_per_second': 2.811, 'total_flos': 1555986974088960.0, 'train_loss': 0.5323284252269848, 'epoch': 5.0})"
            ]
          },
          "metadata": {},
          "execution_count": 43
        }
      ]
    },
    {
      "cell_type": "markdown",
      "source": [
        "The training of the model was carried out over 5 epochs, taking about 131.63 seconds. The model achieved a training loss of 0.532, which shows that the model was able to learn from the training dataset. Furthermore, the model demonstrated its ability to generalize to new data, as shown by a validation accuracy of 76.616% at the end of the training. These outcomes indicate a successful learning process and a model that's capable of making reliable predictions."
      ],
      "metadata": {
        "id": "fTrAzH7cUkbw"
      }
    },
    {
      "cell_type": "markdown",
      "source": [
        "The Hugging Face Trainer does not compute metrics like accuracy and loss on the training set by default because it can be expensive to compute and usually it's not as informative as the validation metrics.  So the accuracy reported in this is of the validation dataset"
      ],
      "metadata": {
        "id": "VFuoY-Qw05Hz"
      }
    },
    {
      "cell_type": "markdown",
      "metadata": {
        "id": "gvIIHo_m05Hz"
      },
      "source": [
        "## Model evaluation\n",
        "\n",
        "In this part of the code we will evaluate the fine-tuned model using the test dataset."
      ]
    },
    {
      "cell_type": "markdown",
      "metadata": {
        "id": "FbSsCkvz05Hz"
      },
      "source": [
        "The code snipprt in the cell imports the functions confusion_matrix, f1_score, and classification_report from the sklearn.metrics module, which are used to evaluate the performance of a classifier."
      ]
    },
    {
      "cell_type": "code",
      "execution_count": null,
      "metadata": {
        "id": "cYZwhDG605H0"
      },
      "outputs": [],
      "source": [
        "#Importing necessary functions\n",
        "from sklearn.metrics import confusion_matrix, f1_score,classification_report\n"
      ]
    },
    {
      "cell_type": "markdown",
      "metadata": {
        "id": "gLtasaLC05H0"
      },
      "source": [
        "This line sets the model to evaluation mode, which turns off features like dropout and batch normalization that are used during training to prevent overfitting."
      ]
    },
    {
      "cell_type": "code",
      "source": [
        "#These two lines evaluate the trained model on the test dataset.\n",
        "model2.eval()                     \n",
        "\n",
        "# Generate predictions on the test dataset\n",
        "trainer2.predict(dataset_test2).metrics     "
      ],
      "metadata": {
        "colab": {
          "base_uri": "https://localhost:8080/",
          "height": 104
        },
        "id": "W5Az2K0eLI7D",
        "outputId": "a346f7c2-77e5-47e2-e44e-6d4e11064558"
      },
      "execution_count": null,
      "outputs": [
        {
          "output_type": "display_data",
          "data": {
            "text/plain": [
              "<IPython.core.display.HTML object>"
            ],
            "text/html": []
          },
          "metadata": {}
        },
        {
          "output_type": "execute_result",
          "data": {
            "text/plain": [
              "{'test_loss': 0.4780706465244293,\n",
              " 'test_accuracy': 0.7931623931623931,\n",
              " 'test_runtime': 0.972,\n",
              " 'test_samples_per_second': 601.824,\n",
              " 'test_steps_per_second': 10.288}"
            ]
          },
          "metadata": {},
          "execution_count": 45
        }
      ]
    },
    {
      "cell_type": "markdown",
      "source": [
        "The model evaluation on the test dataset resulted in an accuracy of 79.316%, signifying a strong predictive performance. The test loss of 0.478 indicates a relatively low error rate in the model's predictions."
      ],
      "metadata": {
        "id": "HIr1VlivUwjG"
      }
    },
    {
      "cell_type": "markdown",
      "source": [
        "First cell generates predictions on the test dataset using the predict method of the Trainer class, and stores the predictions in the pred variable.\n",
        "\n",
        "\n",
        "Next cell extracts the predicted labels from the pred variable by taking the argmax along the last axis of the predictions array, and stores the predicted labels in the pred_labels variable. The argmax function returns the index of the maximum value along a given axis, which corresponds to the predicted label for each input."
      ],
      "metadata": {
        "id": "LpFC4Ro505H0"
      }
    },
    {
      "cell_type": "code",
      "source": [
        " #Generates predictions on the test dataset using the predict method of the Trainer class\n",
        "pred2=trainer2.predict(dataset_test2)            \n",
        "\n",
        "#Extracts the predicted labels from the pred variable by taking the argmax \n",
        "pred_labels2=pred2.predictions.argmax(axis=-1)              \n"
      ],
      "metadata": {
        "colab": {
          "base_uri": "https://localhost:8080/",
          "height": 17
        },
        "id": "d3115SoPLXVG",
        "outputId": "7f208347-3865-4261-d4a2-b5cbb2d5c8eb"
      },
      "execution_count": null,
      "outputs": [
        {
          "output_type": "display_data",
          "data": {
            "text/plain": [
              "<IPython.core.display.HTML object>"
            ],
            "text/html": []
          },
          "metadata": {}
        }
      ]
    },
    {
      "cell_type": "markdown",
      "source": [
        "The code in the cell below computes the confusion matrix for the predictions made by the model on the test dataset. It first extracts the true labels of the test dataset from the label column of the dataset_test object, and stores them in the true_labels variable.\n",
        "\n",
        "\n",
        "Then it uses the confusion_matrix function from sklearn.metrics to compute the confusion matrix of the predicted labels (pred_labels) and true labels (true_labels), and stores the result in the conf_matrix variable. The confusion matrix is a table that summarizes the number of correct and incorrect predictions made by a classifier, organized by true and predicted label."
      ],
      "metadata": {
        "id": "zaWYs0sj05H1"
      }
    },
    {
      "cell_type": "code",
      "execution_count": null,
      "metadata": {
        "colab": {
          "base_uri": "https://localhost:8080/",
          "height": 845
        },
        "outputId": "3bb00f34-6484-4ca4-b703-0fd034e3aeec",
        "id": "fdpZJPQJ05H1"
      },
      "outputs": [
        {
          "output_type": "display_data",
          "data": {
            "text/plain": [
              "<Figure size 800x600 with 2 Axes>"
            ],
            "image/png": "[encoded data removed]"
          },
          "metadata": {}
        },
        {
          "output_type": "stream",
          "name": "stdout",
          "text": [
            "Confusion Matrix:\n",
            "[[274  24  15]\n",
            " [ 38  37  11]\n",
            " [ 21  12 153]]\n",
            "F1 Score: 0.717354061012433\n",
            "\n",
            "Classification Report:\n",
            "              precision    recall  f1-score   support\n",
            "\n",
            "     neutral       0.82      0.88      0.85       313\n",
            "    negative       0.51      0.43      0.47        86\n",
            "    positive       0.85      0.82      0.84       186\n",
            "\n",
            "    accuracy                           0.79       585\n",
            "   macro avg       0.73      0.71      0.72       585\n",
            "weighted avg       0.79      0.79      0.79       585\n",
            "\n"
          ]
        }
      ],
      "source": [
        "# Calculate the confusion matrix\n",
        "true_labels2= dataset_test2['label']    \n",
        "conf_matrix2 = confusion_matrix(true_labels2, pred_labels2)\n",
        "\n",
        "import seaborn as sns\n",
        "import matplotlib.pyplot as plt\n",
        "sns.set()\n",
        "plt.figure(figsize=(8, 6))\n",
        "category_names = ['Neutral', 'Negative', 'Positive']\n",
        "sns.heatmap(conf_matrix2, annot=True, cmap='Blues', fmt='g', xticklabels=category_names, yticklabels=category_names)\n",
        "plt.xlabel('Predicted Labels')\n",
        "\n",
        "plt.ylabel('True Labels')\n",
        "plt.show()\n",
        "\n",
        "\n",
        "# Calculate the F1 score\n",
        "f1 = f1_score(true_labels2, pred_labels2, average='macro')\n",
        "\n",
        "# Print the results\n",
        "print('Confusion Matrix:')\n",
        "print(conf_matrix2)\n",
        "print('F1 Score:', f1)\n",
        "\n",
        "\n",
        "class_report = classification_report(true_labels2, pred_labels2, target_names=['neutral', 'negative', 'positive'])\n",
        "\n",
        "print('\\nClassification Report:')\n",
        "print(class_report)"
      ]
    },
    {
      "cell_type": "markdown",
      "source": [
        "The model achieved an overall accuracy of 79% and a macro F1 score of 0.72, suggesting a balanced performance across different classes. However, the precision and recall varied significantly across the classes, with 'negative' class showing lower values, indicating potential areas for model improvement. The overall strong performance in 'neutral' and 'positive' classes suggests the model's proficiency in sentiment detection."
      ],
      "metadata": {
        "id": "RkMg43G6VvVU"
      }
    },
    {
      "cell_type": "markdown",
      "source": [
        "The code below illustrates the creation of a dual-axis line graph using Python's Matplotlib library. It plots validation loss (in red) and validation accuracy (in blue) against the number of training epochs. The 'eval_loss' and 'eval_accuracy' values are extracted from the 'log_history' of a trainer object, presumably from a machine learning model. This visualization is useful for observing the performance and convergence of the model over time."
      ],
      "metadata": {
        "id": "eJgyK7Vylcik"
      }
    },
    {
      "cell_type": "code",
      "source": [
        "#Plotting accuracy and loss\n",
        "val_loss = []\n",
        "val_accuracy = []\n",
        "for elem in trainer2.state.log_history:\n",
        "    if 'eval_loss' in elem.keys():\n",
        "        val_loss.append(elem['eval_loss'])\n",
        "        val_accuracy.append(elem['eval_accuracy'])\n",
        "\n",
        "fig, ax1 = plt.subplots()\n",
        "\n",
        "color = 'tab:red'\n",
        "ax1.set_xlabel('Epoch')\n",
        "ax1.set_ylabel('Validation Loss', color=color)\n",
        "ax1.plot(val_loss, color=color)\n",
        "ax1.tick_params(axis='y', labelcolor=color)\n",
        "\n",
        "ax2 = ax1.twinx()  # instantiate a second axes that shares the same x-axis\n",
        "\n",
        "color = 'tab:blue'\n",
        "ax2.set_ylabel('Validation Accuracy', color=color)\n",
        "ax2.plot(val_accuracy, color=color)\n",
        "ax2.tick_params(axis='y', labelcolor=color)\n",
        "\n",
        "plt.title('Validation Loss and Accuracy per Epoch')\n",
        "fig.tight_layout()  # otherwise the right y-label is slightly clipped\n",
        "plt.show()"
      ],
      "metadata": {
        "colab": {
          "base_uri": "https://localhost:8080/",
          "height": 481
        },
        "outputId": "0e5df810-2527-404a-ad40-64deaf15b2f6",
        "id": "xLErBUUT05H2"
      },
      "execution_count": null,
      "outputs": [
        {
          "output_type": "display_data",
          "data": {
            "text/plain": [
              "<Figure size 640x480 with 2 Axes>"
            ],
            "image/png": "[encoded data removed]"
          },
          "metadata": {}
        }
      ]
    },
    {
      "cell_type": "markdown",
      "source": [
        "The graph with validation loss and accuracy is indication that model has been trained well."
      ],
      "metadata": {
        "id": "w1DArCE_VxmE"
      }
    },
    {
      "cell_type": "markdown",
      "metadata": {
        "id": "O-v4FoRE05H2"
      },
      "source": [
        "### save the fine-tuned model."
      ]
    },
    {
      "cell_type": "markdown",
      "source": [
        "This line of code saves the trained model as *'data2_finbert-sentiment'* to the directory \"finbert-sentiment\". This saved model can be later loaded and used for inference or further training."
      ],
      "metadata": {
        "id": "WWWenTao05H2"
      }
    },
    {
      "cell_type": "code",
      "source": [
        "#Save the fine-tuned model.\n",
        "trainer2.save_model('data2_finbert-sentiment')  \n"
      ],
      "metadata": {
        "id": "5YssUedOLgYL"
      },
      "execution_count": null,
      "outputs": []
    }
  ]
}