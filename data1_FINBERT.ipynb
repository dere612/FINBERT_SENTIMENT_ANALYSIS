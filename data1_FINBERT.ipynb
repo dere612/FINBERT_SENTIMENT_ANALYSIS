{
  "nbformat": 4,
  "nbformat_minor": 0,
  "metadata": {
    "colab": {
      "provenance": [],
      "machine_shape": "hm",
      "gpuType": "A100"
    },
    "kernelspec": {
      "name": "python3",
      "display_name": "Python 3"
    },
    "language_info": {
      "name": "python"
    },
    "accelerator": "GPU",
    "gpuClass": "standard",
    "widgets": {
      "application/vnd.jupyter.widget-state+json": {
        "f8d1d518a51f4200933cc358ea56e740": {
          "model_module": "@jupyter-widgets/controls",
          "model_name": "HBoxModel",
          "model_module_version": "1.5.0",
          "state": {
            "_dom_classes": [],
            "_model_module": "@jupyter-widgets/controls",
            "_model_module_version": "1.5.0",
            "_model_name": "HBoxModel",
            "_view_count": null,
            "_view_module": "@jupyter-widgets/controls",
            "_view_module_version": "1.5.0",
            "_view_name": "HBoxView",
            "box_style": "",
            "children": [
              "IPY_MODEL_22d79f805a964b88852b85e8f7a35146",
              "IPY_MODEL_c2a1e68e9d6b4adcb085c56c3409a457",
              "IPY_MODEL_15194339134e4f3c8103e7add7547038"
            ],
            "layout": "IPY_MODEL_afd7df490d5945889a584f4cfe6bfb03"
          }
        },
        "22d79f805a964b88852b85e8f7a35146": {
          "model_module": "@jupyter-widgets/controls",
          "model_name": "HTMLModel",
          "model_module_version": "1.5.0",
          "state": {
            "_dom_classes": [],
            "_model_module": "@jupyter-widgets/controls",
            "_model_module_version": "1.5.0",
            "_model_name": "HTMLModel",
            "_view_count": null,
            "_view_module": "@jupyter-widgets/controls",
            "_view_module_version": "1.5.0",
            "_view_name": "HTMLView",
            "description": "",
            "description_tooltip": null,
            "layout": "IPY_MODEL_280a24c0400a47e5a668e0071fc133c7",
            "placeholder": "​",
            "style": "IPY_MODEL_ce9cc9accc3d46bc9a7219e548f70c03",
            "value": "Map: 100%"
          }
        },
        "c2a1e68e9d6b4adcb085c56c3409a457": {
          "model_module": "@jupyter-widgets/controls",
          "model_name": "FloatProgressModel",
          "model_module_version": "1.5.0",
          "state": {
            "_dom_classes": [],
            "_model_module": "@jupyter-widgets/controls",
            "_model_module_version": "1.5.0",
            "_model_name": "FloatProgressModel",
            "_view_count": null,
            "_view_module": "@jupyter-widgets/controls",
            "_view_module_version": "1.5.0",
            "_view_name": "ProgressView",
            "bar_style": "",
            "description": "",
            "description_tooltip": null,
            "layout": "IPY_MODEL_7a77b83489984f488488a29adaeaa25f",
            "max": 3924,
            "min": 0,
            "orientation": "horizontal",
            "style": "IPY_MODEL_c5a739db8dc04ad6ad2883ab194e8a2a",
            "value": 3924
          }
        },
        "15194339134e4f3c8103e7add7547038": {
          "model_module": "@jupyter-widgets/controls",
          "model_name": "HTMLModel",
          "model_module_version": "1.5.0",
          "state": {
            "_dom_classes": [],
            "_model_module": "@jupyter-widgets/controls",
            "_model_module_version": "1.5.0",
            "_model_name": "HTMLModel",
            "_view_count": null,
            "_view_module": "@jupyter-widgets/controls",
            "_view_module_version": "1.5.0",
            "_view_name": "HTMLView",
            "description": "",
            "description_tooltip": null,
            "layout": "IPY_MODEL_ed15c29f9e1d4d9b9f69b61405cffba8",
            "placeholder": "​",
            "style": "IPY_MODEL_dba1315d7190459f96db2b567ef4ef02",
            "value": " 3924/3924 [00:01&lt;00:00, 2167.09 examples/s]"
          }
        },
        "afd7df490d5945889a584f4cfe6bfb03": {
          "model_module": "@jupyter-widgets/base",
          "model_name": "LayoutModel",
          "model_module_version": "1.2.0",
          "state": {
            "_model_module": "@jupyter-widgets/base",
            "_model_module_version": "1.2.0",
            "_model_name": "LayoutModel",
            "_view_count": null,
            "_view_module": "@jupyter-widgets/base",
            "_view_module_version": "1.2.0",
            "_view_name": "LayoutView",
            "align_content": null,
            "align_items": null,
            "align_self": null,
            "border": null,
            "bottom": null,
            "display": null,
            "flex": null,
            "flex_flow": null,
            "grid_area": null,
            "grid_auto_columns": null,
            "grid_auto_flow": null,
            "grid_auto_rows": null,
            "grid_column": null,
            "grid_gap": null,
            "grid_row": null,
            "grid_template_areas": null,
            "grid_template_columns": null,
            "grid_template_rows": null,
            "height": null,
            "justify_content": null,
            "justify_items": null,
            "left": null,
            "margin": null,
            "max_height": null,
            "max_width": null,
            "min_height": null,
            "min_width": null,
            "object_fit": null,
            "object_position": null,
            "order": null,
            "overflow": null,
            "overflow_x": null,
            "overflow_y": null,
            "padding": null,
            "right": null,
            "top": null,
            "visibility": "hidden",
            "width": null
          }
        },
        "280a24c0400a47e5a668e0071fc133c7": {
          "model_module": "@jupyter-widgets/base",
          "model_name": "LayoutModel",
          "model_module_version": "1.2.0",
          "state": {
            "_model_module": "@jupyter-widgets/base",
            "_model_module_version": "1.2.0",
            "_model_name": "LayoutModel",
            "_view_count": null,
            "_view_module": "@jupyter-widgets/base",
            "_view_module_version": "1.2.0",
            "_view_name": "LayoutView",
            "align_content": null,
            "align_items": null,
            "align_self": null,
            "border": null,
            "bottom": null,
            "display": null,
            "flex": null,
            "flex_flow": null,
            "grid_area": null,
            "grid_auto_columns": null,
            "grid_auto_flow": null,
            "grid_auto_rows": null,
            "grid_column": null,
            "grid_gap": null,
            "grid_row": null,
            "grid_template_areas": null,
            "grid_template_columns": null,
            "grid_template_rows": null,
            "height": null,
            "justify_content": null,
            "justify_items": null,
            "left": null,
            "margin": null,
            "max_height": null,
            "max_width": null,
            "min_height": null,
            "min_width": null,
            "object_fit": null,
            "object_position": null,
            "order": null,
            "overflow": null,
            "overflow_x": null,
            "overflow_y": null,
            "padding": null,
            "right": null,
            "top": null,
            "visibility": null,
            "width": null
          }
        },
        "ce9cc9accc3d46bc9a7219e548f70c03": {
          "model_module": "@jupyter-widgets/controls",
          "model_name": "DescriptionStyleModel",
          "model_module_version": "1.5.0",
          "state": {
            "_model_module": "@jupyter-widgets/controls",
            "_model_module_version": "1.5.0",
            "_model_name": "DescriptionStyleModel",
            "_view_count": null,
            "_view_module": "@jupyter-widgets/base",
            "_view_module_version": "1.2.0",
            "_view_name": "StyleView",
            "description_width": ""
          }
        },
        "7a77b83489984f488488a29adaeaa25f": {
          "model_module": "@jupyter-widgets/base",
          "model_name": "LayoutModel",
          "model_module_version": "1.2.0",
          "state": {
            "_model_module": "@jupyter-widgets/base",
            "_model_module_version": "1.2.0",
            "_model_name": "LayoutModel",
            "_view_count": null,
            "_view_module": "@jupyter-widgets/base",
            "_view_module_version": "1.2.0",
            "_view_name": "LayoutView",
            "align_content": null,
            "align_items": null,
            "align_self": null,
            "border": null,
            "bottom": null,
            "display": null,
            "flex": null,
            "flex_flow": null,
            "grid_area": null,
            "grid_auto_columns": null,
            "grid_auto_flow": null,
            "grid_auto_rows": null,
            "grid_column": null,
            "grid_gap": null,
            "grid_row": null,
            "grid_template_areas": null,
            "grid_template_columns": null,
            "grid_template_rows": null,
            "height": null,
            "justify_content": null,
            "justify_items": null,
            "left": null,
            "margin": null,
            "max_height": null,
            "max_width": null,
            "min_height": null,
            "min_width": null,
            "object_fit": null,
            "object_position": null,
            "order": null,
            "overflow": null,
            "overflow_x": null,
            "overflow_y": null,
            "padding": null,
            "right": null,
            "top": null,
            "visibility": null,
            "width": null
          }
        },
        "c5a739db8dc04ad6ad2883ab194e8a2a": {
          "model_module": "@jupyter-widgets/controls",
          "model_name": "ProgressStyleModel",
          "model_module_version": "1.5.0",
          "state": {
            "_model_module": "@jupyter-widgets/controls",
            "_model_module_version": "1.5.0",
            "_model_name": "ProgressStyleModel",
            "_view_count": null,
            "_view_module": "@jupyter-widgets/base",
            "_view_module_version": "1.2.0",
            "_view_name": "StyleView",
            "bar_color": null,
            "description_width": ""
          }
        },
        "ed15c29f9e1d4d9b9f69b61405cffba8": {
          "model_module": "@jupyter-widgets/base",
          "model_name": "LayoutModel",
          "model_module_version": "1.2.0",
          "state": {
            "_model_module": "@jupyter-widgets/base",
            "_model_module_version": "1.2.0",
            "_model_name": "LayoutModel",
            "_view_count": null,
            "_view_module": "@jupyter-widgets/base",
            "_view_module_version": "1.2.0",
            "_view_name": "LayoutView",
            "align_content": null,
            "align_items": null,
            "align_self": null,
            "border": null,
            "bottom": null,
            "display": null,
            "flex": null,
            "flex_flow": null,
            "grid_area": null,
            "grid_auto_columns": null,
            "grid_auto_flow": null,
            "grid_auto_rows": null,
            "grid_column": null,
            "grid_gap": null,
            "grid_row": null,
            "grid_template_areas": null,
            "grid_template_columns": null,
            "grid_template_rows": null,
            "height": null,
            "justify_content": null,
            "justify_items": null,
            "left": null,
            "margin": null,
            "max_height": null,
            "max_width": null,
            "min_height": null,
            "min_width": null,
            "object_fit": null,
            "object_position": null,
            "order": null,
            "overflow": null,
            "overflow_x": null,
            "overflow_y": null,
            "padding": null,
            "right": null,
            "top": null,
            "visibility": null,
            "width": null
          }
        },
        "dba1315d7190459f96db2b567ef4ef02": {
          "model_module": "@jupyter-widgets/controls",
          "model_name": "DescriptionStyleModel",
          "model_module_version": "1.5.0",
          "state": {
            "_model_module": "@jupyter-widgets/controls",
            "_model_module_version": "1.5.0",
            "_model_name": "DescriptionStyleModel",
            "_view_count": null,
            "_view_module": "@jupyter-widgets/base",
            "_view_module_version": "1.2.0",
            "_view_name": "StyleView",
            "description_width": ""
          }
        },
        "470f367d297b450480bec78f05f06386": {
          "model_module": "@jupyter-widgets/controls",
          "model_name": "HBoxModel",
          "model_module_version": "1.5.0",
          "state": {
            "_dom_classes": [],
            "_model_module": "@jupyter-widgets/controls",
            "_model_module_version": "1.5.0",
            "_model_name": "HBoxModel",
            "_view_count": null,
            "_view_module": "@jupyter-widgets/controls",
            "_view_module_version": "1.5.0",
            "_view_name": "HBoxView",
            "box_style": "",
            "children": [
              "IPY_MODEL_270669be327048458da854c58c985830",
              "IPY_MODEL_7a7ecefece594a7dba36dd864f8005f8",
              "IPY_MODEL_d6e31f38f2404bcbbd82cad13480d6cb"
            ],
            "layout": "IPY_MODEL_296256230141440aa9cd8e2571757035"
          }
        },
        "270669be327048458da854c58c985830": {
          "model_module": "@jupyter-widgets/controls",
          "model_name": "HTMLModel",
          "model_module_version": "1.5.0",
          "state": {
            "_dom_classes": [],
            "_model_module": "@jupyter-widgets/controls",
            "_model_module_version": "1.5.0",
            "_model_name": "HTMLModel",
            "_view_count": null,
            "_view_module": "@jupyter-widgets/controls",
            "_view_module_version": "1.5.0",
            "_view_name": "HTMLView",
            "description": "",
            "description_tooltip": null,
            "layout": "IPY_MODEL_bfe7580ce22c4a198074b7e860f3e3d0",
            "placeholder": "​",
            "style": "IPY_MODEL_266f7220e993443a8d907be748b6a2c0",
            "value": "Map: 100%"
          }
        },
        "7a7ecefece594a7dba36dd864f8005f8": {
          "model_module": "@jupyter-widgets/controls",
          "model_name": "FloatProgressModel",
          "model_module_version": "1.5.0",
          "state": {
            "_dom_classes": [],
            "_model_module": "@jupyter-widgets/controls",
            "_model_module_version": "1.5.0",
            "_model_name": "FloatProgressModel",
            "_view_count": null,
            "_view_module": "@jupyter-widgets/controls",
            "_view_module_version": "1.5.0",
            "_view_name": "ProgressView",
            "bar_style": "",
            "description": "",
            "description_tooltip": null,
            "layout": "IPY_MODEL_918ec9571ae44adc93a2e075ea357243",
            "max": 437,
            "min": 0,
            "orientation": "horizontal",
            "style": "IPY_MODEL_d9af181d57ea46cc867295598fcde4b2",
            "value": 437
          }
        },
        "d6e31f38f2404bcbbd82cad13480d6cb": {
          "model_module": "@jupyter-widgets/controls",
          "model_name": "HTMLModel",
          "model_module_version": "1.5.0",
          "state": {
            "_dom_classes": [],
            "_model_module": "@jupyter-widgets/controls",
            "_model_module_version": "1.5.0",
            "_model_name": "HTMLModel",
            "_view_count": null,
            "_view_module": "@jupyter-widgets/controls",
            "_view_module_version": "1.5.0",
            "_view_name": "HTMLView",
            "description": "",
            "description_tooltip": null,
            "layout": "IPY_MODEL_af709f2fe82f4c36947ee35264799628",
            "placeholder": "​",
            "style": "IPY_MODEL_a8a9eb9a95904cf3a75776ef0be2aaff",
            "value": " 437/437 [00:00&lt;00:00, 2052.51 examples/s]"
          }
        },
        "296256230141440aa9cd8e2571757035": {
          "model_module": "@jupyter-widgets/base",
          "model_name": "LayoutModel",
          "model_module_version": "1.2.0",
          "state": {
            "_model_module": "@jupyter-widgets/base",
            "_model_module_version": "1.2.0",
            "_model_name": "LayoutModel",
            "_view_count": null,
            "_view_module": "@jupyter-widgets/base",
            "_view_module_version": "1.2.0",
            "_view_name": "LayoutView",
            "align_content": null,
            "align_items": null,
            "align_self": null,
            "border": null,
            "bottom": null,
            "display": null,
            "flex": null,
            "flex_flow": null,
            "grid_area": null,
            "grid_auto_columns": null,
            "grid_auto_flow": null,
            "grid_auto_rows": null,
            "grid_column": null,
            "grid_gap": null,
            "grid_row": null,
            "grid_template_areas": null,
            "grid_template_columns": null,
            "grid_template_rows": null,
            "height": null,
            "justify_content": null,
            "justify_items": null,
            "left": null,
            "margin": null,
            "max_height": null,
            "max_width": null,
            "min_height": null,
            "min_width": null,
            "object_fit": null,
            "object_position": null,
            "order": null,
            "overflow": null,
            "overflow_x": null,
            "overflow_y": null,
            "padding": null,
            "right": null,
            "top": null,
            "visibility": "hidden",
            "width": null
          }
        },
        "bfe7580ce22c4a198074b7e860f3e3d0": {
          "model_module": "@jupyter-widgets/base",
          "model_name": "LayoutModel",
          "model_module_version": "1.2.0",
          "state": {
            "_model_module": "@jupyter-widgets/base",
            "_model_module_version": "1.2.0",
            "_model_name": "LayoutModel",
            "_view_count": null,
            "_view_module": "@jupyter-widgets/base",
            "_view_module_version": "1.2.0",
            "_view_name": "LayoutView",
            "align_content": null,
            "align_items": null,
            "align_self": null,
            "border": null,
            "bottom": null,
            "display": null,
            "flex": null,
            "flex_flow": null,
            "grid_area": null,
            "grid_auto_columns": null,
            "grid_auto_flow": null,
            "grid_auto_rows": null,
            "grid_column": null,
            "grid_gap": null,
            "grid_row": null,
            "grid_template_areas": null,
            "grid_template_columns": null,
            "grid_template_rows": null,
            "height": null,
            "justify_content": null,
            "justify_items": null,
            "left": null,
            "margin": null,
            "max_height": null,
            "max_width": null,
            "min_height": null,
            "min_width": null,
            "object_fit": null,
            "object_position": null,
            "order": null,
            "overflow": null,
            "overflow_x": null,
            "overflow_y": null,
            "padding": null,
            "right": null,
            "top": null,
            "visibility": null,
            "width": null
          }
        },
        "266f7220e993443a8d907be748b6a2c0": {
          "model_module": "@jupyter-widgets/controls",
          "model_name": "DescriptionStyleModel",
          "model_module_version": "1.5.0",
          "state": {
            "_model_module": "@jupyter-widgets/controls",
            "_model_module_version": "1.5.0",
            "_model_name": "DescriptionStyleModel",
            "_view_count": null,
            "_view_module": "@jupyter-widgets/base",
            "_view_module_version": "1.2.0",
            "_view_name": "StyleView",
            "description_width": ""
          }
        },
        "918ec9571ae44adc93a2e075ea357243": {
          "model_module": "@jupyter-widgets/base",
          "model_name": "LayoutModel",
          "model_module_version": "1.2.0",
          "state": {
            "_model_module": "@jupyter-widgets/base",
            "_model_module_version": "1.2.0",
            "_model_name": "LayoutModel",
            "_view_count": null,
            "_view_module": "@jupyter-widgets/base",
            "_view_module_version": "1.2.0",
            "_view_name": "LayoutView",
            "align_content": null,
            "align_items": null,
            "align_self": null,
            "border": null,
            "bottom": null,
            "display": null,
            "flex": null,
            "flex_flow": null,
            "grid_area": null,
            "grid_auto_columns": null,
            "grid_auto_flow": null,
            "grid_auto_rows": null,
            "grid_column": null,
            "grid_gap": null,
            "grid_row": null,
            "grid_template_areas": null,
            "grid_template_columns": null,
            "grid_template_rows": null,
            "height": null,
            "justify_content": null,
            "justify_items": null,
            "left": null,
            "margin": null,
            "max_height": null,
            "max_width": null,
            "min_height": null,
            "min_width": null,
            "object_fit": null,
            "object_position": null,
            "order": null,
            "overflow": null,
            "overflow_x": null,
            "overflow_y": null,
            "padding": null,
            "right": null,
            "top": null,
            "visibility": null,
            "width": null
          }
        },
        "d9af181d57ea46cc867295598fcde4b2": {
          "model_module": "@jupyter-widgets/controls",
          "model_name": "ProgressStyleModel",
          "model_module_version": "1.5.0",
          "state": {
            "_model_module": "@jupyter-widgets/controls",
            "_model_module_version": "1.5.0",
            "_model_name": "ProgressStyleModel",
            "_view_count": null,
            "_view_module": "@jupyter-widgets/base",
            "_view_module_version": "1.2.0",
            "_view_name": "StyleView",
            "bar_color": null,
            "description_width": ""
          }
        },
        "af709f2fe82f4c36947ee35264799628": {
          "model_module": "@jupyter-widgets/base",
          "model_name": "LayoutModel",
          "model_module_version": "1.2.0",
          "state": {
            "_model_module": "@jupyter-widgets/base",
            "_model_module_version": "1.2.0",
            "_model_name": "LayoutModel",
            "_view_count": null,
            "_view_module": "@jupyter-widgets/base",
            "_view_module_version": "1.2.0",
            "_view_name": "LayoutView",
            "align_content": null,
            "align_items": null,
            "align_self": null,
            "border": null,
            "bottom": null,
            "display": null,
            "flex": null,
            "flex_flow": null,
            "grid_area": null,
            "grid_auto_columns": null,
            "grid_auto_flow": null,
            "grid_auto_rows": null,
            "grid_column": null,
            "grid_gap": null,
            "grid_row": null,
            "grid_template_areas": null,
            "grid_template_columns": null,
            "grid_template_rows": null,
            "height": null,
            "justify_content": null,
            "justify_items": null,
            "left": null,
            "margin": null,
            "max_height": null,
            "max_width": null,
            "min_height": null,
            "min_width": null,
            "object_fit": null,
            "object_position": null,
            "order": null,
            "overflow": null,
            "overflow_x": null,
            "overflow_y": null,
            "padding": null,
            "right": null,
            "top": null,
            "visibility": null,
            "width": null
          }
        },
        "a8a9eb9a95904cf3a75776ef0be2aaff": {
          "model_module": "@jupyter-widgets/controls",
          "model_name": "DescriptionStyleModel",
          "model_module_version": "1.5.0",
          "state": {
            "_model_module": "@jupyter-widgets/controls",
            "_model_module_version": "1.5.0",
            "_model_name": "DescriptionStyleModel",
            "_view_count": null,
            "_view_module": "@jupyter-widgets/base",
            "_view_module_version": "1.2.0",
            "_view_name": "StyleView",
            "description_width": ""
          }
        },
        "3e48f2788f764d9a88f1d77cabf91e4c": {
          "model_module": "@jupyter-widgets/controls",
          "model_name": "HBoxModel",
          "model_module_version": "1.5.0",
          "state": {
            "_dom_classes": [],
            "_model_module": "@jupyter-widgets/controls",
            "_model_module_version": "1.5.0",
            "_model_name": "HBoxModel",
            "_view_count": null,
            "_view_module": "@jupyter-widgets/controls",
            "_view_module_version": "1.5.0",
            "_view_name": "HBoxView",
            "box_style": "",
            "children": [
              "IPY_MODEL_c3ebd0a7f0c54d109e83f6591dad3f9d",
              "IPY_MODEL_b1955776a3bd418eb0dec3b39aa024d1",
              "IPY_MODEL_bc92772d5ed94e7c8cb6b03bf3ec3cb8"
            ],
            "layout": "IPY_MODEL_8870f96818ab4e33b8b5d22f79669ede"
          }
        },
        "c3ebd0a7f0c54d109e83f6591dad3f9d": {
          "model_module": "@jupyter-widgets/controls",
          "model_name": "HTMLModel",
          "model_module_version": "1.5.0",
          "state": {
            "_dom_classes": [],
            "_model_module": "@jupyter-widgets/controls",
            "_model_module_version": "1.5.0",
            "_model_name": "HTMLModel",
            "_view_count": null,
            "_view_module": "@jupyter-widgets/controls",
            "_view_module_version": "1.5.0",
            "_view_name": "HTMLView",
            "description": "",
            "description_tooltip": null,
            "layout": "IPY_MODEL_fb565903014f4aba8b15cacd24fad700",
            "placeholder": "​",
            "style": "IPY_MODEL_ff7184a68ece4ae6b286d3b1bd97c998",
            "value": "Map: 100%"
          }
        },
        "b1955776a3bd418eb0dec3b39aa024d1": {
          "model_module": "@jupyter-widgets/controls",
          "model_name": "FloatProgressModel",
          "model_module_version": "1.5.0",
          "state": {
            "_dom_classes": [],
            "_model_module": "@jupyter-widgets/controls",
            "_model_module_version": "1.5.0",
            "_model_name": "FloatProgressModel",
            "_view_count": null,
            "_view_module": "@jupyter-widgets/controls",
            "_view_module_version": "1.5.0",
            "_view_name": "ProgressView",
            "bar_style": "",
            "description": "",
            "description_tooltip": null,
            "layout": "IPY_MODEL_8f1a78f47e66445dafe4356a470f24be",
            "max": 485,
            "min": 0,
            "orientation": "horizontal",
            "style": "IPY_MODEL_602b5b764a8449efb6b3e7eab5a3ac76",
            "value": 485
          }
        },
        "bc92772d5ed94e7c8cb6b03bf3ec3cb8": {
          "model_module": "@jupyter-widgets/controls",
          "model_name": "HTMLModel",
          "model_module_version": "1.5.0",
          "state": {
            "_dom_classes": [],
            "_model_module": "@jupyter-widgets/controls",
            "_model_module_version": "1.5.0",
            "_model_name": "HTMLModel",
            "_view_count": null,
            "_view_module": "@jupyter-widgets/controls",
            "_view_module_version": "1.5.0",
            "_view_name": "HTMLView",
            "description": "",
            "description_tooltip": null,
            "layout": "IPY_MODEL_4979b36088e448b9acf36f4d2957332b",
            "placeholder": "​",
            "style": "IPY_MODEL_d57cde7df51347c28e80150abbdc18ec",
            "value": " 485/485 [00:00&lt;00:00, 2023.86 examples/s]"
          }
        },
        "8870f96818ab4e33b8b5d22f79669ede": {
          "model_module": "@jupyter-widgets/base",
          "model_name": "LayoutModel",
          "model_module_version": "1.2.0",
          "state": {
            "_model_module": "@jupyter-widgets/base",
            "_model_module_version": "1.2.0",
            "_model_name": "LayoutModel",
            "_view_count": null,
            "_view_module": "@jupyter-widgets/base",
            "_view_module_version": "1.2.0",
            "_view_name": "LayoutView",
            "align_content": null,
            "align_items": null,
            "align_self": null,
            "border": null,
            "bottom": null,
            "display": null,
            "flex": null,
            "flex_flow": null,
            "grid_area": null,
            "grid_auto_columns": null,
            "grid_auto_flow": null,
            "grid_auto_rows": null,
            "grid_column": null,
            "grid_gap": null,
            "grid_row": null,
            "grid_template_areas": null,
            "grid_template_columns": null,
            "grid_template_rows": null,
            "height": null,
            "justify_content": null,
            "justify_items": null,
            "left": null,
            "margin": null,
            "max_height": null,
            "max_width": null,
            "min_height": null,
            "min_width": null,
            "object_fit": null,
            "object_position": null,
            "order": null,
            "overflow": null,
            "overflow_x": null,
            "overflow_y": null,
            "padding": null,
            "right": null,
            "top": null,
            "visibility": "hidden",
            "width": null
          }
        },
        "fb565903014f4aba8b15cacd24fad700": {
          "model_module": "@jupyter-widgets/base",
          "model_name": "LayoutModel",
          "model_module_version": "1.2.0",
          "state": {
            "_model_module": "@jupyter-widgets/base",
            "_model_module_version": "1.2.0",
            "_model_name": "LayoutModel",
            "_view_count": null,
            "_view_module": "@jupyter-widgets/base",
            "_view_module_version": "1.2.0",
            "_view_name": "LayoutView",
            "align_content": null,
            "align_items": null,
            "align_self": null,
            "border": null,
            "bottom": null,
            "display": null,
            "flex": null,
            "flex_flow": null,
            "grid_area": null,
            "grid_auto_columns": null,
            "grid_auto_flow": null,
            "grid_auto_rows": null,
            "grid_column": null,
            "grid_gap": null,
            "grid_row": null,
            "grid_template_areas": null,
            "grid_template_columns": null,
            "grid_template_rows": null,
            "height": null,
            "justify_content": null,
            "justify_items": null,
            "left": null,
            "margin": null,
            "max_height": null,
            "max_width": null,
            "min_height": null,
            "min_width": null,
            "object_fit": null,
            "object_position": null,
            "order": null,
            "overflow": null,
            "overflow_x": null,
            "overflow_y": null,
            "padding": null,
            "right": null,
            "top": null,
            "visibility": null,
            "width": null
          }
        },
        "ff7184a68ece4ae6b286d3b1bd97c998": {
          "model_module": "@jupyter-widgets/controls",
          "model_name": "DescriptionStyleModel",
          "model_module_version": "1.5.0",
          "state": {
            "_model_module": "@jupyter-widgets/controls",
            "_model_module_version": "1.5.0",
            "_model_name": "DescriptionStyleModel",
            "_view_count": null,
            "_view_module": "@jupyter-widgets/base",
            "_view_module_version": "1.2.0",
            "_view_name": "StyleView",
            "description_width": ""
          }
        },
        "8f1a78f47e66445dafe4356a470f24be": {
          "model_module": "@jupyter-widgets/base",
          "model_name": "LayoutModel",
          "model_module_version": "1.2.0",
          "state": {
            "_model_module": "@jupyter-widgets/base",
            "_model_module_version": "1.2.0",
            "_model_name": "LayoutModel",
            "_view_count": null,
            "_view_module": "@jupyter-widgets/base",
            "_view_module_version": "1.2.0",
            "_view_name": "LayoutView",
            "align_content": null,
            "align_items": null,
            "align_self": null,
            "border": null,
            "bottom": null,
            "display": null,
            "flex": null,
            "flex_flow": null,
            "grid_area": null,
            "grid_auto_columns": null,
            "grid_auto_flow": null,
            "grid_auto_rows": null,
            "grid_column": null,
            "grid_gap": null,
            "grid_row": null,
            "grid_template_areas": null,
            "grid_template_columns": null,
            "grid_template_rows": null,
            "height": null,
            "justify_content": null,
            "justify_items": null,
            "left": null,
            "margin": null,
            "max_height": null,
            "max_width": null,
            "min_height": null,
            "min_width": null,
            "object_fit": null,
            "object_position": null,
            "order": null,
            "overflow": null,
            "overflow_x": null,
            "overflow_y": null,
            "padding": null,
            "right": null,
            "top": null,
            "visibility": null,
            "width": null
          }
        },
        "602b5b764a8449efb6b3e7eab5a3ac76": {
          "model_module": "@jupyter-widgets/controls",
          "model_name": "ProgressStyleModel",
          "model_module_version": "1.5.0",
          "state": {
            "_model_module": "@jupyter-widgets/controls",
            "_model_module_version": "1.5.0",
            "_model_name": "ProgressStyleModel",
            "_view_count": null,
            "_view_module": "@jupyter-widgets/base",
            "_view_module_version": "1.2.0",
            "_view_name": "StyleView",
            "bar_color": null,
            "description_width": ""
          }
        },
        "4979b36088e448b9acf36f4d2957332b": {
          "model_module": "@jupyter-widgets/base",
          "model_name": "LayoutModel",
          "model_module_version": "1.2.0",
          "state": {
            "_model_module": "@jupyter-widgets/base",
            "_model_module_version": "1.2.0",
            "_model_name": "LayoutModel",
            "_view_count": null,
            "_view_module": "@jupyter-widgets/base",
            "_view_module_version": "1.2.0",
            "_view_name": "LayoutView",
            "align_content": null,
            "align_items": null,
            "align_self": null,
            "border": null,
            "bottom": null,
            "display": null,
            "flex": null,
            "flex_flow": null,
            "grid_area": null,
            "grid_auto_columns": null,
            "grid_auto_flow": null,
            "grid_auto_rows": null,
            "grid_column": null,
            "grid_gap": null,
            "grid_row": null,
            "grid_template_areas": null,
            "grid_template_columns": null,
            "grid_template_rows": null,
            "height": null,
            "justify_content": null,
            "justify_items": null,
            "left": null,
            "margin": null,
            "max_height": null,
            "max_width": null,
            "min_height": null,
            "min_width": null,
            "object_fit": null,
            "object_position": null,
            "order": null,
            "overflow": null,
            "overflow_x": null,
            "overflow_y": null,
            "padding": null,
            "right": null,
            "top": null,
            "visibility": null,
            "width": null
          }
        },
        "d57cde7df51347c28e80150abbdc18ec": {
          "model_module": "@jupyter-widgets/controls",
          "model_name": "DescriptionStyleModel",
          "model_module_version": "1.5.0",
          "state": {
            "_model_module": "@jupyter-widgets/controls",
            "_model_module_version": "1.5.0",
            "_model_name": "DescriptionStyleModel",
            "_view_count": null,
            "_view_module": "@jupyter-widgets/base",
            "_view_module_version": "1.2.0",
            "_view_name": "StyleView",
            "description_width": ""
          }
        }
      }
    }
  },
  "cells": [
    {
      "cell_type": "markdown",
      "source": [
        "# **Comparative analysis of FINBERT, BERT and traditional models of classification**"
      ],
      "metadata": {
        "id": "2VKu92t3Uy_d"
      }
    },
    {
      "cell_type": "markdown",
      "metadata": {
        "id": "_oEirHsWRy0_"
      },
      "source": [
        "We are conducting a comaparative analysis of pretrained FINBERT, pretrained BERT and traditional models viz., logistic regression and support vector classification to find the best model for identifying and predicting the sentiment of text. \n",
        "\n",
        "We will start by looking at the Sentences_50Agree.csv file (renamed as data1.csv) , which is a sentiment dataset of sentences from financial news consisting of 4840 sentences from English language financial news categorised by sentiment (positive, negative, and neutral). It is divided by agreement rate of 5-8 annotators. We are performing sentiment analysis to aid the stock investment decision making by identifying the sentiment of the financial phrase. \n",
        "\n",
        "If the sentiment of the phrase is positive it means that an invester can consider investing in stock market, if negative then invester must refrain investing and if sentiment is neutral then further investigation is suggested.\n",
        "\n",
        "In this notebook, we are training the FINBERT model. We have split the dataset into train, test and validation using stratified sampling. This can allows us to take representative of the sample in three datasets and compare results of this model with other models. "
      ]
    },
    {
      "cell_type": "code",
      "execution_count": null,
      "metadata": {
        "colab": {
          "base_uri": "https://localhost:8080/"
        },
        "id": "LASvktIZVseB",
        "outputId": "ab0e0edd-5426-4fdc-a754-14e26444001d"
      },
      "outputs": [
        {
          "output_type": "stream",
          "name": "stdout",
          "text": [
            "\u001b[33mWARNING: Skipping transformers as it is not installed.\u001b[0m\u001b[33m\n",
            "\u001b[0mLooking in indexes: https://pypi.org/simple, https://us-python.pkg.dev/colab-wheels/public/simple/\n",
            "Collecting transformers==4.28.0\n",
            "  Downloading transformers-4.28.0-py3-none-any.whl (7.0 MB)\n",
            "\u001b[2K     \u001b[90m━━━━━━━━━━━━━━━━━━━━━━━━━━━━━━━━━━━━━━━━\u001b[0m \u001b[32m7.0/7.0 MB\u001b[0m \u001b[31m63.9 MB/s\u001b[0m eta \u001b[36m0:00:00\u001b[0m\n",
            "\u001b[?25hRequirement already satisfied: filelock in /usr/local/lib/python3.10/dist-packages (from transformers==4.28.0) (3.12.0)\n",
            "Collecting huggingface-hub<1.0,>=0.11.0 (from transformers==4.28.0)\n",
            "  Downloading huggingface_hub-0.14.1-py3-none-any.whl (224 kB)\n",
            "\u001b[2K     \u001b[90m━━━━━━━━━━━━━━━━━━━━━━━━━━━━━━━━━━━━━━\u001b[0m \u001b[32m224.5/224.5 kB\u001b[0m \u001b[31m14.0 MB/s\u001b[0m eta \u001b[36m0:00:00\u001b[0m\n",
            "\u001b[?25hRequirement already satisfied: numpy>=1.17 in /usr/local/lib/python3.10/dist-packages (from transformers==4.28.0) (1.22.4)\n",
            "Requirement already satisfied: packaging>=20.0 in /usr/local/lib/python3.10/dist-packages (from transformers==4.28.0) (23.1)\n",
            "Requirement already satisfied: pyyaml>=5.1 in /usr/local/lib/python3.10/dist-packages (from transformers==4.28.0) (6.0)\n",
            "Requirement already satisfied: regex!=2019.12.17 in /usr/local/lib/python3.10/dist-packages (from transformers==4.28.0) (2022.10.31)\n",
            "Requirement already satisfied: requests in /usr/local/lib/python3.10/dist-packages (from transformers==4.28.0) (2.27.1)\n",
            "Collecting tokenizers!=0.11.3,<0.14,>=0.11.1 (from transformers==4.28.0)\n",
            "  Downloading tokenizers-0.13.3-cp310-cp310-manylinux_2_17_x86_64.manylinux2014_x86_64.whl (7.8 MB)\n",
            "\u001b[2K     \u001b[90m━━━━━━━━━━━━━━━━━━━━━━━━━━━━━━━━━━━━━━━━\u001b[0m \u001b[32m7.8/7.8 MB\u001b[0m \u001b[31m88.9 MB/s\u001b[0m eta \u001b[36m0:00:00\u001b[0m\n",
            "\u001b[?25hRequirement already satisfied: tqdm>=4.27 in /usr/local/lib/python3.10/dist-packages (from transformers==4.28.0) (4.65.0)\n",
            "Requirement already satisfied: fsspec in /usr/local/lib/python3.10/dist-packages (from huggingface-hub<1.0,>=0.11.0->transformers==4.28.0) (2023.4.0)\n",
            "Requirement already satisfied: typing-extensions>=3.7.4.3 in /usr/local/lib/python3.10/dist-packages (from huggingface-hub<1.0,>=0.11.0->transformers==4.28.0) (4.5.0)\n",
            "Requirement already satisfied: urllib3<1.27,>=1.21.1 in /usr/local/lib/python3.10/dist-packages (from requests->transformers==4.28.0) (1.26.15)\n",
            "Requirement already satisfied: certifi>=2017.4.17 in /usr/local/lib/python3.10/dist-packages (from requests->transformers==4.28.0) (2022.12.7)\n",
            "Requirement already satisfied: charset-normalizer~=2.0.0 in /usr/local/lib/python3.10/dist-packages (from requests->transformers==4.28.0) (2.0.12)\n",
            "Requirement already satisfied: idna<4,>=2.5 in /usr/local/lib/python3.10/dist-packages (from requests->transformers==4.28.0) (3.4)\n",
            "Installing collected packages: tokenizers, huggingface-hub, transformers\n",
            "Successfully installed huggingface-hub-0.14.1 tokenizers-0.13.3 transformers-4.28.0\n"
          ]
        }
      ],
      "source": [
        "!pip uninstall transformers                       # installing libraries (TRANSFORMERS for BERT) \n",
        "!pip install --upgrade transformers==4.28.0\n",
        "#note: when uninstalling existing transformers it may ask to answer y/n. Input response y to proceed"
      ]
    },
    {
      "cell_type": "code",
      "execution_count": null,
      "metadata": {
        "id": "f-OFXsKuZbqi",
        "colab": {
          "base_uri": "https://localhost:8080/"
        },
        "outputId": "7fa6d95b-462b-40b1-f5bc-b82490a35c62"
      },
      "outputs": [
        {
          "output_type": "stream",
          "name": "stdout",
          "text": [
            "Looking in indexes: https://pypi.org/simple, https://us-python.pkg.dev/colab-wheels/public/simple/\n",
            "Collecting numpy==1.19.5\n",
            "  Downloading numpy-1.19.5.zip (7.3 MB)\n",
            "\u001b[2K     \u001b[90m━━━━━━━━━━━━━━━━━━━━━━━━━━━━━━━━━━━━━━━━\u001b[0m \u001b[32m7.3/7.3 MB\u001b[0m \u001b[31m87.0 MB/s\u001b[0m eta \u001b[36m0:00:00\u001b[0m\n",
            "\u001b[?25h  Installing build dependencies ... \u001b[?25l\u001b[?25hdone\n",
            "  Getting requirements to build wheel ... \u001b[?25l\u001b[?25hdone\n",
            "  Preparing metadata (pyproject.toml) ... \u001b[?25l\u001b[?25hdone\n",
            "Building wheels for collected packages: numpy\n",
            "  \u001b[1;31merror\u001b[0m: \u001b[1msubprocess-exited-with-error\u001b[0m\n",
            "  \n",
            "  \u001b[31m×\u001b[0m \u001b[32mBuilding wheel for numpy \u001b[0m\u001b[1;32m(\u001b[0m\u001b[32mpyproject.toml\u001b[0m\u001b[1;32m)\u001b[0m did not run successfully.\n",
            "  \u001b[31m│\u001b[0m exit code: \u001b[1;36m1\u001b[0m\n",
            "  \u001b[31m╰─>\u001b[0m See above for output.\n",
            "  \n",
            "  \u001b[1;35mnote\u001b[0m: This error originates from a subprocess, and is likely not a problem with pip.\n",
            "  Building wheel for numpy (pyproject.toml) ... \u001b[?25l\u001b[?25herror\n",
            "\u001b[31m  ERROR: Failed building wheel for numpy\u001b[0m\u001b[31m\n",
            "\u001b[0mFailed to build numpy\n",
            "\u001b[31mERROR: Could not build wheels for numpy, which is required to install pyproject.toml-based projects\u001b[0m\u001b[31m\n",
            "\u001b[0mLooking in indexes: https://pypi.org/simple, https://us-python.pkg.dev/colab-wheels/public/simple/\n",
            "\u001b[31mERROR: Could not find a version that satisfies the requirement torch==1.7.1 (from versions: 1.11.0, 1.12.0, 1.12.1, 1.13.0, 1.13.1, 2.0.0, 2.0.1)\u001b[0m\u001b[31m\n",
            "\u001b[0m\u001b[31mERROR: No matching distribution found for torch==1.7.1\u001b[0m\u001b[31m\n",
            "\u001b[0mLooking in indexes: https://pypi.org/simple, https://us-python.pkg.dev/colab-wheels/public/simple/\n",
            "Requirement already satisfied: scikit-learn in /usr/local/lib/python3.10/dist-packages (1.2.2)\n",
            "Requirement already satisfied: numpy>=1.17.3 in /usr/local/lib/python3.10/dist-packages (from scikit-learn) (1.22.4)\n",
            "Requirement already satisfied: scipy>=1.3.2 in /usr/local/lib/python3.10/dist-packages (from scikit-learn) (1.10.1)\n",
            "Requirement already satisfied: joblib>=1.1.1 in /usr/local/lib/python3.10/dist-packages (from scikit-learn) (1.2.0)\n",
            "Requirement already satisfied: threadpoolctl>=2.0.0 in /usr/local/lib/python3.10/dist-packages (from scikit-learn) (3.1.0)\n"
          ]
        }
      ],
      "source": [
        "\n",
        "!pip install numpy==1.19.5\n",
        "!pip install torch==1.7.1\n",
        "!pip install scikit-learn"
      ]
    },
    {
      "cell_type": "code",
      "execution_count": null,
      "metadata": {
        "id": "3nkBQhU6YRL_",
        "colab": {
          "base_uri": "https://localhost:8080/"
        },
        "outputId": "dfa20895-93a6-4bd7-bff7-5e6f073032a9"
      },
      "outputs": [
        {
          "output_type": "stream",
          "name": "stdout",
          "text": [
            "Looking in indexes: https://pypi.org/simple, https://us-python.pkg.dev/colab-wheels/public/simple/\n",
            "Collecting datasets\n",
            "  Downloading datasets-2.12.0-py3-none-any.whl (474 kB)\n",
            "\u001b[2K     \u001b[90m━━━━━━━━━━━━━━━━━━━━━━━━━━━━━━━━━━━━━━\u001b[0m \u001b[32m474.6/474.6 kB\u001b[0m \u001b[31m25.7 MB/s\u001b[0m eta \u001b[36m0:00:00\u001b[0m\n",
            "\u001b[?25hRequirement already satisfied: numpy>=1.17 in /usr/local/lib/python3.10/dist-packages (from datasets) (1.22.4)\n",
            "Requirement already satisfied: pyarrow>=8.0.0 in /usr/local/lib/python3.10/dist-packages (from datasets) (9.0.0)\n",
            "Collecting dill<0.3.7,>=0.3.0 (from datasets)\n",
            "  Downloading dill-0.3.6-py3-none-any.whl (110 kB)\n",
            "\u001b[2K     \u001b[90m━━━━━━━━━━━━━━━━━━━━━━━━━━━━━━━━━━━━━━\u001b[0m \u001b[32m110.5/110.5 kB\u001b[0m \u001b[31m14.0 MB/s\u001b[0m eta \u001b[36m0:00:00\u001b[0m\n",
            "\u001b[?25hRequirement already satisfied: pandas in /usr/local/lib/python3.10/dist-packages (from datasets) (1.5.3)\n",
            "Requirement already satisfied: requests>=2.19.0 in /usr/local/lib/python3.10/dist-packages (from datasets) (2.27.1)\n",
            "Requirement already satisfied: tqdm>=4.62.1 in /usr/local/lib/python3.10/dist-packages (from datasets) (4.65.0)\n",
            "Collecting xxhash (from datasets)\n",
            "  Downloading xxhash-3.2.0-cp310-cp310-manylinux_2_17_x86_64.manylinux2014_x86_64.whl (212 kB)\n",
            "\u001b[2K     \u001b[90m━━━━━━━━━━━━━━━━━━━━━━━━━━━━━━━━━━━━━━\u001b[0m \u001b[32m212.5/212.5 kB\u001b[0m \u001b[31m23.3 MB/s\u001b[0m eta \u001b[36m0:00:00\u001b[0m\n",
            "\u001b[?25hCollecting multiprocess (from datasets)\n",
            "  Downloading multiprocess-0.70.14-py310-none-any.whl (134 kB)\n",
            "\u001b[2K     \u001b[90m━━━━━━━━━━━━━━━━━━━━━━━━━━━━━━━━━━━━━━\u001b[0m \u001b[32m134.3/134.3 kB\u001b[0m \u001b[31m15.5 MB/s\u001b[0m eta \u001b[36m0:00:00\u001b[0m\n",
            "\u001b[?25hRequirement already satisfied: fsspec[http]>=2021.11.1 in /usr/local/lib/python3.10/dist-packages (from datasets) (2023.4.0)\n",
            "Collecting aiohttp (from datasets)\n",
            "  Downloading aiohttp-3.8.4-cp310-cp310-manylinux_2_17_x86_64.manylinux2014_x86_64.whl (1.0 MB)\n",
            "\u001b[2K     \u001b[90m━━━━━━━━━━━━━━━━━━━━━━━━━━━━━━━━━━━━━━━━\u001b[0m \u001b[32m1.0/1.0 MB\u001b[0m \u001b[31m56.0 MB/s\u001b[0m eta \u001b[36m0:00:00\u001b[0m\n",
            "\u001b[?25hRequirement already satisfied: huggingface-hub<1.0.0,>=0.11.0 in /usr/local/lib/python3.10/dist-packages (from datasets) (0.14.1)\n",
            "Requirement already satisfied: packaging in /usr/local/lib/python3.10/dist-packages (from datasets) (23.1)\n",
            "Collecting responses<0.19 (from datasets)\n",
            "  Downloading responses-0.18.0-py3-none-any.whl (38 kB)\n",
            "Requirement already satisfied: pyyaml>=5.1 in /usr/local/lib/python3.10/dist-packages (from datasets) (6.0)\n",
            "Requirement already satisfied: attrs>=17.3.0 in /usr/local/lib/python3.10/dist-packages (from aiohttp->datasets) (23.1.0)\n",
            "Requirement already satisfied: charset-normalizer<4.0,>=2.0 in /usr/local/lib/python3.10/dist-packages (from aiohttp->datasets) (2.0.12)\n",
            "Collecting multidict<7.0,>=4.5 (from aiohttp->datasets)\n",
            "  Downloading multidict-6.0.4-cp310-cp310-manylinux_2_17_x86_64.manylinux2014_x86_64.whl (114 kB)\n",
            "\u001b[2K     \u001b[90m━━━━━━━━━━━━━━━━━━━━━━━━━━━━━━━━━━━━━━\u001b[0m \u001b[32m114.5/114.5 kB\u001b[0m \u001b[31m12.9 MB/s\u001b[0m eta \u001b[36m0:00:00\u001b[0m\n",
            "\u001b[?25hCollecting async-timeout<5.0,>=4.0.0a3 (from aiohttp->datasets)\n",
            "  Downloading async_timeout-4.0.2-py3-none-any.whl (5.8 kB)\n",
            "Collecting yarl<2.0,>=1.0 (from aiohttp->datasets)\n",
            "  Downloading yarl-1.9.2-cp310-cp310-manylinux_2_17_x86_64.manylinux2014_x86_64.whl (268 kB)\n",
            "\u001b[2K     \u001b[90m━━━━━━━━━━━━━━━━━━━━━━━━━━━━━━━━━━━━━━\u001b[0m \u001b[32m268.8/268.8 kB\u001b[0m \u001b[31m29.8 MB/s\u001b[0m eta \u001b[36m0:00:00\u001b[0m\n",
            "\u001b[?25hCollecting frozenlist>=1.1.1 (from aiohttp->datasets)\n",
            "  Downloading frozenlist-1.3.3-cp310-cp310-manylinux_2_5_x86_64.manylinux1_x86_64.manylinux_2_17_x86_64.manylinux2014_x86_64.whl (149 kB)\n",
            "\u001b[2K     \u001b[90m━━━━━━━━━━━━━━━━━━━━━━━━━━━━━━━━━━━━━━\u001b[0m \u001b[32m149.6/149.6 kB\u001b[0m \u001b[31m16.7 MB/s\u001b[0m eta \u001b[36m0:00:00\u001b[0m\n",
            "\u001b[?25hCollecting aiosignal>=1.1.2 (from aiohttp->datasets)\n",
            "  Downloading aiosignal-1.3.1-py3-none-any.whl (7.6 kB)\n",
            "Requirement already satisfied: filelock in /usr/local/lib/python3.10/dist-packages (from huggingface-hub<1.0.0,>=0.11.0->datasets) (3.12.0)\n",
            "Requirement already satisfied: typing-extensions>=3.7.4.3 in /usr/local/lib/python3.10/dist-packages (from huggingface-hub<1.0.0,>=0.11.0->datasets) (4.5.0)\n",
            "Requirement already satisfied: urllib3<1.27,>=1.21.1 in /usr/local/lib/python3.10/dist-packages (from requests>=2.19.0->datasets) (1.26.15)\n",
            "Requirement already satisfied: certifi>=2017.4.17 in /usr/local/lib/python3.10/dist-packages (from requests>=2.19.0->datasets) (2022.12.7)\n",
            "Requirement already satisfied: idna<4,>=2.5 in /usr/local/lib/python3.10/dist-packages (from requests>=2.19.0->datasets) (3.4)\n",
            "Requirement already satisfied: python-dateutil>=2.8.1 in /usr/local/lib/python3.10/dist-packages (from pandas->datasets) (2.8.2)\n",
            "Requirement already satisfied: pytz>=2020.1 in /usr/local/lib/python3.10/dist-packages (from pandas->datasets) (2022.7.1)\n",
            "Requirement already satisfied: six>=1.5 in /usr/local/lib/python3.10/dist-packages (from python-dateutil>=2.8.1->pandas->datasets) (1.16.0)\n",
            "Installing collected packages: xxhash, multidict, frozenlist, dill, async-timeout, yarl, responses, multiprocess, aiosignal, aiohttp, datasets\n",
            "Successfully installed aiohttp-3.8.4 aiosignal-1.3.1 async-timeout-4.0.2 datasets-2.12.0 dill-0.3.6 frozenlist-1.3.3 multidict-6.0.4 multiprocess-0.70.14 responses-0.18.0 xxhash-3.2.0 yarl-1.9.2\n"
          ]
        }
      ],
      "source": [
        "!pip install datasets"
      ]
    },
    {
      "cell_type": "markdown",
      "metadata": {
        "id": "CwOwS47bR2pa"
      },
      "source": [
        "**transformers**: This package provides an interface pretrained BERT and FINBERT models to perform sentiment analysis.  \n",
        "\n",
        "**numpy**: It is a powerful tool to deal with data preprocessing, handling input arrays, multidimensional data and performs mathematical computations efficiently.\n",
        "\n",
        "**torch**: Also known as PyTorch, is a open-source machine learning library. AS BERT and FINBERT models are built using deep learning architechture, PyTorch is commonly used in these models.\n",
        "\n",
        "**scikit-learn**: provides tools and algorithms in machine learning and helps in tasks like data preprocessing, feature extraction, model evaluation, and classification and also offers convinient APIs.\n",
        "\n",
        "\n",
        "**datsets**: The 'datasets' library is a Python package that provides an efficient way to work with various datasets, including text and image datasets. It provides a standardized interface for loading and processing datasets, making it easier to work with different datasets and models.\n",
        "\n",
        "**Matplotlib**: It is a powerful library in Python used for data visualization. It provides a wide range of tools for creating graphs, plots, charts, and so on.\n",
        "\n",
        "**Pyplot**: It is a collection of functions in the Matplotlib library. It enables the quick and easy creation of a number of plot types, including line plots, scatter plots, bar plots, and histograms.\n",
        "\n",
        "**Seaborn**: It is a Python data visualization library based on Matplotlib. Seaborn provides a high-level interface for creating informative and attractive statistical graphics, and it is used to plot the histograms here.\n",
        "\n",
        "**sklearn.model_selection**: The model_selection module in sklearn library provides several functions for model selection and evaluation.\n",
        "\n",
        "**sklearn.metrics**: The sklearn.metrics module provides a suite of functions and utilities for evaluating the performance of machine learning models such as: accuracy_score, precision_score, recall_score.\n",
        "\n",
        "**wordcloud**: It is a Python library used to generate word clouds, which are graphical representations of the most frequent words in a text corpus.\n",
        "\n",
        "**nltk**: Also known as Natural Language Toolkit. It is a Python library used for working with human language data. It provides a suite of text processing libraries for tokenization, stemming, tagging, parsing, etc.\n"
      ]
    },
    {
      "cell_type": "markdown",
      "metadata": {
        "id": "sJoxZwjKR9rV"
      },
      "source": [
        "## Importing required libraries"
      ]
    },
    {
      "cell_type": "code",
      "execution_count": null,
      "metadata": {
        "id": "HumRzoEgVM1u"
      },
      "outputs": [],
      "source": [
        "import numpy as np\n",
        "import pandas as pd \n",
        "from transformers import BertTokenizer, Trainer, BertForSequenceClassification, TrainingArguments\n",
        "from datasets import Dataset\n",
        "import torch\n",
        "from sklearn.model_selection import train_test_split\n",
        "from sklearn.metrics import accuracy_score\n",
        "import seaborn as sns\n",
        "import matplotlib.pyplot as plt"
      ]
    },
    {
      "cell_type": "code",
      "execution_count": null,
      "metadata": {
        "id": "KONRrNi1VM1y",
        "colab": {
          "base_uri": "https://localhost:8080/"
        },
        "outputId": "01052372-cf91-45f5-8aa5-f15220ad39fe"
      },
      "outputs": [
        {
          "output_type": "execute_result",
          "data": {
            "text/plain": [
              "True"
            ]
          },
          "metadata": {},
          "execution_count": 5
        }
      ],
      "source": [
        "torch.cuda.is_available()      # Check if a CUDA-capable GPU is available"
      ]
    },
    {
      "cell_type": "markdown",
      "metadata": {
        "id": "QKKEF5gcSKHs"
      },
      "source": [
        "## Importing and loading dataset\n",
        "\n",
        "Function drive.mount() from *'drive'* package is used to gain access to google drive. A window pops on the screen which asks for users permission to gain access to drive. One must make sure they have their dataset uploaded on google drive in folder name 'BERT'."
      ]
    },
    {
      "cell_type": "code",
      "execution_count": null,
      "metadata": {
        "id": "0hv4BqNRVTcK",
        "colab": {
          "base_uri": "https://localhost:8080/",
          "height": 70
        },
        "outputId": "94741947-4456-4f5e-e82d-583160ba21d8"
      },
      "outputs": [
        {
          "output_type": "stream",
          "name": "stdout",
          "text": [
            "Mounted at /content/gdrive\n",
            "/content/gdrive/MyDrive\n"
          ]
        },
        {
          "output_type": "execute_result",
          "data": {
            "text/plain": [
              "'/content/gdrive/MyDrive'"
            ],
            "application/vnd.google.colaboratory.intrinsic+json": {
              "type": "string"
            }
          },
          "metadata": {},
          "execution_count": 6
        }
      ],
      "source": [
        "#Importing our dataset from google drive \n",
        "from google.colab import drive\n",
        "drive.mount('/content/gdrive')\n",
        "%cd '/content/gdrive/MyDrive'\n",
        "%pwd"
      ]
    },
    {
      "cell_type": "code",
      "execution_count": null,
      "metadata": {
        "id": "w6Nxos2tSStM",
        "colab": {
          "base_uri": "https://localhost:8080/"
        },
        "outputId": "7effa677-9eb4-4905-c5f2-1e92f2b0f871"
      },
      "outputs": [
        {
          "output_type": "stream",
          "name": "stdout",
          "text": [
            "/content/gdrive/MyDrive/BERT\n"
          ]
        }
      ],
      "source": [
        "%cd BERT"
      ]
    },
    {
      "cell_type": "markdown",
      "metadata": {
        "id": "xCWJ-B7fSU-q"
      },
      "source": [
        " Dataset is imported using pd.read_csv() function."
      ]
    },
    {
      "cell_type": "code",
      "execution_count": null,
      "metadata": {
        "id": "ljpyL45DSVjf",
        "colab": {
          "base_uri": "https://localhost:8080/",
          "height": 389
        },
        "outputId": "0f648449-b6f7-4078-9cd6-46c527183472"
      },
      "outputs": [
        {
          "output_type": "execute_result",
          "data": {
            "text/plain": [
              "                                                                                                                                                                                                                                               0\n",
              "0                                                                                                        According to Gran , the company has no plans to move all production to Russia , although that is where the company is growing .@neutral\n",
              "1                                         Technopolis plans to develop in stages an area of no less than 100,000 square meters in order to host companies working in computer technologies and telecommunications , the statement said .@neutral\n",
              "2  The international electronic industry company Elcoteq has laid off tens of employees from its Tallinn facility ; contrary to earlier layoffs the company contracted the ranks of its office workers , the daily Postimees reported .@negative\n",
              "3                        With the new production plant the company would increase its capacity to meet the expected increase in demand and would improve the use of raw materials and therefore increase the production profitability .@positive\n",
              "4                           According to the company 's updated strategy for the years 2009-2012 , Basware targets a long-term net sales growth in the range of 20 % -40 % with an operating profit margin of 10 % -20 % of net sales .@positive"
            ],
            "text/html": [
              "\n",
              "  <div id=\"df-8b11103a-e059-48e3-85d9-fc33fbcc7a28\">\n",
              "    <div class=\"colab-df-container\">\n",
              "      <div>\n",
              "<style scoped>\n",
              "    .dataframe tbody tr th:only-of-type {\n",
              "        vertical-align: middle;\n",
              "    }\n",
              "\n",
              "    .dataframe tbody tr th {\n",
              "        vertical-align: top;\n",
              "    }\n",
              "\n",
              "    .dataframe thead th {\n",
              "        text-align: right;\n",
              "    }\n",
              "</style>\n",
              "<table border=\"1\" class=\"dataframe\">\n",
              "  <thead>\n",
              "    <tr style=\"text-align: right;\">\n",
              "      <th></th>\n",
              "      <th>0</th>\n",
              "    </tr>\n",
              "  </thead>\n",
              "  <tbody>\n",
              "    <tr>\n",
              "      <th>0</th>\n",
              "      <td>According to Gran , the company has no plans to move all production to Russia , although that is where the company is growing .@neutral</td>\n",
              "    </tr>\n",
              "    <tr>\n",
              "      <th>1</th>\n",
              "      <td>Technopolis plans to develop in stages an area of no less than 100,000 square meters in order to host companies working in computer technologies and telecommunications , the statement said .@neutral</td>\n",
              "    </tr>\n",
              "    <tr>\n",
              "      <th>2</th>\n",
              "      <td>The international electronic industry company Elcoteq has laid off tens of employees from its Tallinn facility ; contrary to earlier layoffs the company contracted the ranks of its office workers , the daily Postimees reported .@negative</td>\n",
              "    </tr>\n",
              "    <tr>\n",
              "      <th>3</th>\n",
              "      <td>With the new production plant the company would increase its capacity to meet the expected increase in demand and would improve the use of raw materials and therefore increase the production profitability .@positive</td>\n",
              "    </tr>\n",
              "    <tr>\n",
              "      <th>4</th>\n",
              "      <td>According to the company 's updated strategy for the years 2009-2012 , Basware targets a long-term net sales growth in the range of 20 % -40 % with an operating profit margin of 10 % -20 % of net sales .@positive</td>\n",
              "    </tr>\n",
              "  </tbody>\n",
              "</table>\n",
              "</div>\n",
              "      <button class=\"colab-df-convert\" onclick=\"convertToInteractive('df-8b11103a-e059-48e3-85d9-fc33fbcc7a28')\"\n",
              "              title=\"Convert this dataframe to an interactive table.\"\n",
              "              style=\"display:none;\">\n",
              "        \n",
              "  <svg xmlns=\"http://www.w3.org/2000/svg\" height=\"24px\"viewBox=\"0 0 24 24\"\n",
              "       width=\"24px\">\n",
              "    <path d=\"M0 0h24v24H0V0z\" fill=\"none\"/>\n",
              "    <path d=\"M18.56 5.44l.94 2.06.94-2.06 2.06-.94-2.06-.94-.94-2.06-.94 2.06-2.06.94zm-11 1L8.5 8.5l.94-2.06 2.06-.94-2.06-.94L8.5 2.5l-.94 2.06-2.06.94zm10 10l.94 2.06.94-2.06 2.06-.94-2.06-.94-.94-2.06-.94 2.06-2.06.94z\"/><path d=\"M17.41 7.96l-1.37-1.37c-.4-.4-.92-.59-1.43-.59-.52 0-1.04.2-1.43.59L10.3 9.45l-7.72 7.72c-.78.78-.78 2.05 0 2.83L4 21.41c.39.39.9.59 1.41.59.51 0 1.02-.2 1.41-.59l7.78-7.78 2.81-2.81c.8-.78.8-2.07 0-2.86zM5.41 20L4 18.59l7.72-7.72 1.47 1.35L5.41 20z\"/>\n",
              "  </svg>\n",
              "      </button>\n",
              "      \n",
              "  <style>\n",
              "    .colab-df-container {\n",
              "      display:flex;\n",
              "      flex-wrap:wrap;\n",
              "      gap: 12px;\n",
              "    }\n",
              "\n",
              "    .colab-df-convert {\n",
              "      background-color: #E8F0FE;\n",
              "      border: none;\n",
              "      border-radius: 50%;\n",
              "      cursor: pointer;\n",
              "      display: none;\n",
              "      fill: #1967D2;\n",
              "      height: 32px;\n",
              "      padding: 0 0 0 0;\n",
              "      width: 32px;\n",
              "    }\n",
              "\n",
              "    .colab-df-convert:hover {\n",
              "      background-color: #E2EBFA;\n",
              "      box-shadow: 0px 1px 2px rgba(60, 64, 67, 0.3), 0px 1px 3px 1px rgba(60, 64, 67, 0.15);\n",
              "      fill: #174EA6;\n",
              "    }\n",
              "\n",
              "    [theme=dark] .colab-df-convert {\n",
              "      background-color: #3B4455;\n",
              "      fill: #D2E3FC;\n",
              "    }\n",
              "\n",
              "    [theme=dark] .colab-df-convert:hover {\n",
              "      background-color: #434B5C;\n",
              "      box-shadow: 0px 1px 3px 1px rgba(0, 0, 0, 0.15);\n",
              "      filter: drop-shadow(0px 1px 2px rgba(0, 0, 0, 0.3));\n",
              "      fill: #FFFFFF;\n",
              "    }\n",
              "  </style>\n",
              "\n",
              "      <script>\n",
              "        const buttonEl =\n",
              "          document.querySelector('#df-8b11103a-e059-48e3-85d9-fc33fbcc7a28 button.colab-df-convert');\n",
              "        buttonEl.style.display =\n",
              "          google.colab.kernel.accessAllowed ? 'block' : 'none';\n",
              "\n",
              "        async function convertToInteractive(key) {\n",
              "          const element = document.querySelector('#df-8b11103a-e059-48e3-85d9-fc33fbcc7a28');\n",
              "          const dataTable =\n",
              "            await google.colab.kernel.invokeFunction('convertToInteractive',\n",
              "                                                     [key], {});\n",
              "          if (!dataTable) return;\n",
              "\n",
              "          const docLinkHtml = 'Like what you see? Visit the ' +\n",
              "            '<a target=\"_blank\" href=https://colab.research.google.com/notebooks/data_table.ipynb>data table notebook</a>'\n",
              "            + ' to learn more about interactive tables.';\n",
              "          element.innerHTML = '';\n",
              "          dataTable['output_type'] = 'display_data';\n",
              "          await google.colab.output.renderOutput(dataTable, element);\n",
              "          const docLink = document.createElement('div');\n",
              "          docLink.innerHTML = docLinkHtml;\n",
              "          element.appendChild(docLink);\n",
              "        }\n",
              "      </script>\n",
              "    </div>\n",
              "  </div>\n",
              "  "
            ]
          },
          "metadata": {},
          "execution_count": 8
        }
      ],
      "source": [
        "df = pd.read_csv('data1.csv', sep='\\t', header=None, encoding='latin-1')\n",
        "pd.set_option('display.max_colwidth', None) #to enable viewer to read entire text in the column\n",
        "df.head()"
      ]
    },
    {
      "cell_type": "markdown",
      "metadata": {
        "id": "IzeSaFPJSYt8"
      },
      "source": [
        "In dataset, text@sentiment pattern is visible. We split this dataset using split() function and create two columns.The dataset is spilt into two new columns 'sentence' and 'category'"
      ]
    },
    {
      "cell_type": "code",
      "execution_count": null,
      "metadata": {
        "id": "v9-JEO21SkVu",
        "colab": {
          "base_uri": "https://localhost:8080/",
          "height": 406
        },
        "outputId": "587df035-1e63-4509-c45b-4eb1d34a6ee5"
      },
      "outputs": [
        {
          "output_type": "execute_result",
          "data": {
            "text/plain": [
              "                                                                                                                                                                                                                               sentence  \\\n",
              "0                                                                                                       According to Gran , the company has no plans to move all production to Russia , although that is where the company is growing .   \n",
              "1                                        Technopolis plans to develop in stages an area of no less than 100,000 square meters in order to host companies working in computer technologies and telecommunications , the statement said .   \n",
              "2  The international electronic industry company Elcoteq has laid off tens of employees from its Tallinn facility ; contrary to earlier layoffs the company contracted the ranks of its office workers , the daily Postimees reported .   \n",
              "3                        With the new production plant the company would increase its capacity to meet the expected increase in demand and would improve the use of raw materials and therefore increase the production profitability .   \n",
              "4                           According to the company 's updated strategy for the years 2009-2012 , Basware targets a long-term net sales growth in the range of 20 % -40 % with an operating profit margin of 10 % -20 % of net sales .   \n",
              "\n",
              "   category  \n",
              "0   neutral  \n",
              "1   neutral  \n",
              "2  negative  \n",
              "3  positive  \n",
              "4  positive  "
            ],
            "text/html": [
              "\n",
              "  <div id=\"df-c03baf35-39bb-4dad-beb6-1cfcd21cfc1c\">\n",
              "    <div class=\"colab-df-container\">\n",
              "      <div>\n",
              "<style scoped>\n",
              "    .dataframe tbody tr th:only-of-type {\n",
              "        vertical-align: middle;\n",
              "    }\n",
              "\n",
              "    .dataframe tbody tr th {\n",
              "        vertical-align: top;\n",
              "    }\n",
              "\n",
              "    .dataframe thead th {\n",
              "        text-align: right;\n",
              "    }\n",
              "</style>\n",
              "<table border=\"1\" class=\"dataframe\">\n",
              "  <thead>\n",
              "    <tr style=\"text-align: right;\">\n",
              "      <th></th>\n",
              "      <th>sentence</th>\n",
              "      <th>category</th>\n",
              "    </tr>\n",
              "  </thead>\n",
              "  <tbody>\n",
              "    <tr>\n",
              "      <th>0</th>\n",
              "      <td>According to Gran , the company has no plans to move all production to Russia , although that is where the company is growing .</td>\n",
              "      <td>neutral</td>\n",
              "    </tr>\n",
              "    <tr>\n",
              "      <th>1</th>\n",
              "      <td>Technopolis plans to develop in stages an area of no less than 100,000 square meters in order to host companies working in computer technologies and telecommunications , the statement said .</td>\n",
              "      <td>neutral</td>\n",
              "    </tr>\n",
              "    <tr>\n",
              "      <th>2</th>\n",
              "      <td>The international electronic industry company Elcoteq has laid off tens of employees from its Tallinn facility ; contrary to earlier layoffs the company contracted the ranks of its office workers , the daily Postimees reported .</td>\n",
              "      <td>negative</td>\n",
              "    </tr>\n",
              "    <tr>\n",
              "      <th>3</th>\n",
              "      <td>With the new production plant the company would increase its capacity to meet the expected increase in demand and would improve the use of raw materials and therefore increase the production profitability .</td>\n",
              "      <td>positive</td>\n",
              "    </tr>\n",
              "    <tr>\n",
              "      <th>4</th>\n",
              "      <td>According to the company 's updated strategy for the years 2009-2012 , Basware targets a long-term net sales growth in the range of 20 % -40 % with an operating profit margin of 10 % -20 % of net sales .</td>\n",
              "      <td>positive</td>\n",
              "    </tr>\n",
              "  </tbody>\n",
              "</table>\n",
              "</div>\n",
              "      <button class=\"colab-df-convert\" onclick=\"convertToInteractive('df-c03baf35-39bb-4dad-beb6-1cfcd21cfc1c')\"\n",
              "              title=\"Convert this dataframe to an interactive table.\"\n",
              "              style=\"display:none;\">\n",
              "        \n",
              "  <svg xmlns=\"http://www.w3.org/2000/svg\" height=\"24px\"viewBox=\"0 0 24 24\"\n",
              "       width=\"24px\">\n",
              "    <path d=\"M0 0h24v24H0V0z\" fill=\"none\"/>\n",
              "    <path d=\"M18.56 5.44l.94 2.06.94-2.06 2.06-.94-2.06-.94-.94-2.06-.94 2.06-2.06.94zm-11 1L8.5 8.5l.94-2.06 2.06-.94-2.06-.94L8.5 2.5l-.94 2.06-2.06.94zm10 10l.94 2.06.94-2.06 2.06-.94-2.06-.94-.94-2.06-.94 2.06-2.06.94z\"/><path d=\"M17.41 7.96l-1.37-1.37c-.4-.4-.92-.59-1.43-.59-.52 0-1.04.2-1.43.59L10.3 9.45l-7.72 7.72c-.78.78-.78 2.05 0 2.83L4 21.41c.39.39.9.59 1.41.59.51 0 1.02-.2 1.41-.59l7.78-7.78 2.81-2.81c.8-.78.8-2.07 0-2.86zM5.41 20L4 18.59l7.72-7.72 1.47 1.35L5.41 20z\"/>\n",
              "  </svg>\n",
              "      </button>\n",
              "      \n",
              "  <style>\n",
              "    .colab-df-container {\n",
              "      display:flex;\n",
              "      flex-wrap:wrap;\n",
              "      gap: 12px;\n",
              "    }\n",
              "\n",
              "    .colab-df-convert {\n",
              "      background-color: #E8F0FE;\n",
              "      border: none;\n",
              "      border-radius: 50%;\n",
              "      cursor: pointer;\n",
              "      display: none;\n",
              "      fill: #1967D2;\n",
              "      height: 32px;\n",
              "      padding: 0 0 0 0;\n",
              "      width: 32px;\n",
              "    }\n",
              "\n",
              "    .colab-df-convert:hover {\n",
              "      background-color: #E2EBFA;\n",
              "      box-shadow: 0px 1px 2px rgba(60, 64, 67, 0.3), 0px 1px 3px 1px rgba(60, 64, 67, 0.15);\n",
              "      fill: #174EA6;\n",
              "    }\n",
              "\n",
              "    [theme=dark] .colab-df-convert {\n",
              "      background-color: #3B4455;\n",
              "      fill: #D2E3FC;\n",
              "    }\n",
              "\n",
              "    [theme=dark] .colab-df-convert:hover {\n",
              "      background-color: #434B5C;\n",
              "      box-shadow: 0px 1px 3px 1px rgba(0, 0, 0, 0.15);\n",
              "      filter: drop-shadow(0px 1px 2px rgba(0, 0, 0, 0.3));\n",
              "      fill: #FFFFFF;\n",
              "    }\n",
              "  </style>\n",
              "\n",
              "      <script>\n",
              "        const buttonEl =\n",
              "          document.querySelector('#df-c03baf35-39bb-4dad-beb6-1cfcd21cfc1c button.colab-df-convert');\n",
              "        buttonEl.style.display =\n",
              "          google.colab.kernel.accessAllowed ? 'block' : 'none';\n",
              "\n",
              "        async function convertToInteractive(key) {\n",
              "          const element = document.querySelector('#df-c03baf35-39bb-4dad-beb6-1cfcd21cfc1c');\n",
              "          const dataTable =\n",
              "            await google.colab.kernel.invokeFunction('convertToInteractive',\n",
              "                                                     [key], {});\n",
              "          if (!dataTable) return;\n",
              "\n",
              "          const docLinkHtml = 'Like what you see? Visit the ' +\n",
              "            '<a target=\"_blank\" href=https://colab.research.google.com/notebooks/data_table.ipynb>data table notebook</a>'\n",
              "            + ' to learn more about interactive tables.';\n",
              "          element.innerHTML = '';\n",
              "          dataTable['output_type'] = 'display_data';\n",
              "          await google.colab.output.renderOutput(dataTable, element);\n",
              "          const docLink = document.createElement('div');\n",
              "          docLink.innerHTML = docLinkHtml;\n",
              "          element.appendChild(docLink);\n",
              "        }\n",
              "      </script>\n",
              "    </div>\n",
              "  </div>\n",
              "  "
            ]
          },
          "metadata": {},
          "execution_count": 9
        }
      ],
      "source": [
        "# Splitting a column in the DataFrame 'df' into two separate columns\n",
        "df[['sentence', 'category']] = df[0].str.split('@', expand=True) \n",
        "df.drop(0, axis=1, inplace=True)\n",
        "df.head()"
      ]
    },
    {
      "cell_type": "markdown",
      "metadata": {
        "id": "PHOs5E4pSgUS"
      },
      "source": [
        "## Preprocessing: Cleaning, removing stopwords, lemmatization\n",
        "\n",
        "Next step is cleaning the data to make it suitable to load it in our models. This is an essential step as feeding raw data will not give us good results."
      ]
    },
    {
      "cell_type": "code",
      "execution_count": null,
      "metadata": {
        "id": "HHRnMLQDVTfV",
        "colab": {
          "base_uri": "https://localhost:8080/"
        },
        "outputId": "95cbe145-d76b-4237-a768-c28cb0bb7d8d"
      },
      "outputs": [
        {
          "output_type": "execute_result",
          "data": {
            "text/plain": [
              "neutral     2879\n",
              "positive    1363\n",
              "negative     604\n",
              "Name: category, dtype: int64"
            ]
          },
          "metadata": {},
          "execution_count": 10
        }
      ],
      "source": [
        "df = df[~df.category.str.contains('\\|')]  # Filtering the DataFrame 'df' to remove rows where the 'category' column contains '|'\n",
        "df = df[df.category != 'nocode']   ## Filtering the DataFrame 'df' to remove rows where the 'category' column equals 'nocode'\n",
        "\n",
        "#get value count for each class\n",
        "df.category.value_counts()"
      ]
    },
    {
      "cell_type": "markdown",
      "metadata": {
        "id": "LvyLlD2gSpGx"
      },
      "source": [
        "In this step we get rid of all rows which have '|', null values in category column as these are considered irrelevant"
      ]
    },
    {
      "cell_type": "code",
      "execution_count": null,
      "metadata": {
        "id": "BtS2f6m2VTi8",
        "colab": {
          "base_uri": "https://localhost:8080/"
        },
        "outputId": "7f06353a-372c-4be8-e97c-5611df2eed23"
      },
      "outputs": [
        {
          "output_type": "execute_result",
          "data": {
            "text/plain": [
              "array(['neutral', 'negative', 'positive'], dtype=object)"
            ]
          },
          "metadata": {},
          "execution_count": 11
        }
      ],
      "source": [
        "#get unique labels/factors in category column\n",
        "possible_labels = df.category.unique() \n",
        "possible_labels"
      ]
    },
    {
      "cell_type": "markdown",
      "metadata": {
        "id": "3Nj9QdqASvNe"
      },
      "source": [
        "There are 3 unique labels, 'neutral', 'negative', 'positive', and stored in variable 'possible_labels'"
      ]
    },
    {
      "cell_type": "code",
      "execution_count": null,
      "metadata": {
        "id": "RzyJNUhEWGIz"
      },
      "outputs": [],
      "source": [
        "label_dict = {}      # Creating an empty dictionary 'label_dict' to store the label-index pairs\n",
        "for index, possible_label in enumerate(possible_labels):       # Iterating over each label in 'possible_labels'\n",
        "    label_dict[possible_label] = index   # Adding the label-index pair to the 'label_dict' dictionary"
      ]
    },
    {
      "cell_type": "markdown",
      "metadata": {
        "id": "7HT0cSzpSyL6"
      },
      "source": [
        "Creating a new column 'label' in the DataFrame 'df' by replacing the categorical values in the 'category' column with their corresponding index values from the 'label_dict' dictionary"
      ]
    },
    {
      "cell_type": "code",
      "execution_count": null,
      "metadata": {
        "id": "D_CgXvzrWGLQ"
      },
      "outputs": [],
      "source": [
        "# Creating a new column 'label' in the DataFrame 'df' by replacing the categorical values in the 'category' column with their corresponding index values from the 'label_dict' dictionary\n",
        "df['label'] = df.category.replace(label_dict)  "
      ]
    },
    {
      "cell_type": "code",
      "execution_count": null,
      "metadata": {
        "id": "veImjdQqWGOs",
        "colab": {
          "base_uri": "https://localhost:8080/",
          "height": 745
        },
        "outputId": "3ad26260-969f-4fc0-b2f0-bf469b85c2c6"
      },
      "outputs": [
        {
          "output_type": "execute_result",
          "data": {
            "text/plain": [
              "                                                                                                                                                                                                                                  sentence  \\\n",
              "0                                                                                                          According to Gran , the company has no plans to move all production to Russia , although that is where the company is growing .   \n",
              "1                                           Technopolis plans to develop in stages an area of no less than 100,000 square meters in order to host companies working in computer technologies and telecommunications , the statement said .   \n",
              "2     The international electronic industry company Elcoteq has laid off tens of employees from its Tallinn facility ; contrary to earlier layoffs the company contracted the ranks of its office workers , the daily Postimees reported .   \n",
              "3                           With the new production plant the company would increase its capacity to meet the expected increase in demand and would improve the use of raw materials and therefore increase the production profitability .   \n",
              "4                              According to the company 's updated strategy for the years 2009-2012 , Basware targets a long-term net sales growth in the range of 20 % -40 % with an operating profit margin of 10 % -20 % of net sales .   \n",
              "...                                                                                                                                                                                                                                    ...   \n",
              "4841                                                                                      LONDON MarketWatch -- Share prices ended lower in London Monday as a rebound in bank stocks failed to offset broader weakness for the FTSE 100 .   \n",
              "4842                                                                                  Rinkuskiai 's beer sales fell by 6.5 per cent to 4.16 million litres , while Kauno Alus ' beer sales jumped by 6.9 per cent to 2.48 million litres .   \n",
              "4843                                                                                                                          Operating profit fell to EUR 35.4 mn from EUR 68.8 mn in 2007 , including vessel sales gain of EUR 12.3 mn .   \n",
              "4844    Net sales of the Paper segment decreased to EUR 221.6 mn in the second quarter of 2009 from EUR 241.1 mn in the second quarter of 2008 , while operating profit excluding non-recurring items rose to EUR 8.0 mn from EUR 7.6 mn .   \n",
              "4845                                                                                                                                       Sales in Finland decreased by 10.5 % in January , while sales outside Finland dropped by 17 % .   \n",
              "\n",
              "      category  label  \n",
              "0      neutral      0  \n",
              "1      neutral      0  \n",
              "2     negative      1  \n",
              "3     positive      2  \n",
              "4     positive      2  \n",
              "...        ...    ...  \n",
              "4841  negative      1  \n",
              "4842   neutral      0  \n",
              "4843  negative      1  \n",
              "4844  negative      1  \n",
              "4845  negative      1  \n",
              "\n",
              "[4846 rows x 3 columns]"
            ],
            "text/html": [
              "\n",
              "  <div id=\"df-c3ffb4e9-e79f-48ee-b0d8-9ad01b03b2c9\">\n",
              "    <div class=\"colab-df-container\">\n",
              "      <div>\n",
              "<style scoped>\n",
              "    .dataframe tbody tr th:only-of-type {\n",
              "        vertical-align: middle;\n",
              "    }\n",
              "\n",
              "    .dataframe tbody tr th {\n",
              "        vertical-align: top;\n",
              "    }\n",
              "\n",
              "    .dataframe thead th {\n",
              "        text-align: right;\n",
              "    }\n",
              "</style>\n",
              "<table border=\"1\" class=\"dataframe\">\n",
              "  <thead>\n",
              "    <tr style=\"text-align: right;\">\n",
              "      <th></th>\n",
              "      <th>sentence</th>\n",
              "      <th>category</th>\n",
              "      <th>label</th>\n",
              "    </tr>\n",
              "  </thead>\n",
              "  <tbody>\n",
              "    <tr>\n",
              "      <th>0</th>\n",
              "      <td>According to Gran , the company has no plans to move all production to Russia , although that is where the company is growing .</td>\n",
              "      <td>neutral</td>\n",
              "      <td>0</td>\n",
              "    </tr>\n",
              "    <tr>\n",
              "      <th>1</th>\n",
              "      <td>Technopolis plans to develop in stages an area of no less than 100,000 square meters in order to host companies working in computer technologies and telecommunications , the statement said .</td>\n",
              "      <td>neutral</td>\n",
              "      <td>0</td>\n",
              "    </tr>\n",
              "    <tr>\n",
              "      <th>2</th>\n",
              "      <td>The international electronic industry company Elcoteq has laid off tens of employees from its Tallinn facility ; contrary to earlier layoffs the company contracted the ranks of its office workers , the daily Postimees reported .</td>\n",
              "      <td>negative</td>\n",
              "      <td>1</td>\n",
              "    </tr>\n",
              "    <tr>\n",
              "      <th>3</th>\n",
              "      <td>With the new production plant the company would increase its capacity to meet the expected increase in demand and would improve the use of raw materials and therefore increase the production profitability .</td>\n",
              "      <td>positive</td>\n",
              "      <td>2</td>\n",
              "    </tr>\n",
              "    <tr>\n",
              "      <th>4</th>\n",
              "      <td>According to the company 's updated strategy for the years 2009-2012 , Basware targets a long-term net sales growth in the range of 20 % -40 % with an operating profit margin of 10 % -20 % of net sales .</td>\n",
              "      <td>positive</td>\n",
              "      <td>2</td>\n",
              "    </tr>\n",
              "    <tr>\n",
              "      <th>...</th>\n",
              "      <td>...</td>\n",
              "      <td>...</td>\n",
              "      <td>...</td>\n",
              "    </tr>\n",
              "    <tr>\n",
              "      <th>4841</th>\n",
              "      <td>LONDON MarketWatch -- Share prices ended lower in London Monday as a rebound in bank stocks failed to offset broader weakness for the FTSE 100 .</td>\n",
              "      <td>negative</td>\n",
              "      <td>1</td>\n",
              "    </tr>\n",
              "    <tr>\n",
              "      <th>4842</th>\n",
              "      <td>Rinkuskiai 's beer sales fell by 6.5 per cent to 4.16 million litres , while Kauno Alus ' beer sales jumped by 6.9 per cent to 2.48 million litres .</td>\n",
              "      <td>neutral</td>\n",
              "      <td>0</td>\n",
              "    </tr>\n",
              "    <tr>\n",
              "      <th>4843</th>\n",
              "      <td>Operating profit fell to EUR 35.4 mn from EUR 68.8 mn in 2007 , including vessel sales gain of EUR 12.3 mn .</td>\n",
              "      <td>negative</td>\n",
              "      <td>1</td>\n",
              "    </tr>\n",
              "    <tr>\n",
              "      <th>4844</th>\n",
              "      <td>Net sales of the Paper segment decreased to EUR 221.6 mn in the second quarter of 2009 from EUR 241.1 mn in the second quarter of 2008 , while operating profit excluding non-recurring items rose to EUR 8.0 mn from EUR 7.6 mn .</td>\n",
              "      <td>negative</td>\n",
              "      <td>1</td>\n",
              "    </tr>\n",
              "    <tr>\n",
              "      <th>4845</th>\n",
              "      <td>Sales in Finland decreased by 10.5 % in January , while sales outside Finland dropped by 17 % .</td>\n",
              "      <td>negative</td>\n",
              "      <td>1</td>\n",
              "    </tr>\n",
              "  </tbody>\n",
              "</table>\n",
              "<p>4846 rows × 3 columns</p>\n",
              "</div>\n",
              "      <button class=\"colab-df-convert\" onclick=\"convertToInteractive('df-c3ffb4e9-e79f-48ee-b0d8-9ad01b03b2c9')\"\n",
              "              title=\"Convert this dataframe to an interactive table.\"\n",
              "              style=\"display:none;\">\n",
              "        \n",
              "  <svg xmlns=\"http://www.w3.org/2000/svg\" height=\"24px\"viewBox=\"0 0 24 24\"\n",
              "       width=\"24px\">\n",
              "    <path d=\"M0 0h24v24H0V0z\" fill=\"none\"/>\n",
              "    <path d=\"M18.56 5.44l.94 2.06.94-2.06 2.06-.94-2.06-.94-.94-2.06-.94 2.06-2.06.94zm-11 1L8.5 8.5l.94-2.06 2.06-.94-2.06-.94L8.5 2.5l-.94 2.06-2.06.94zm10 10l.94 2.06.94-2.06 2.06-.94-2.06-.94-.94-2.06-.94 2.06-2.06.94z\"/><path d=\"M17.41 7.96l-1.37-1.37c-.4-.4-.92-.59-1.43-.59-.52 0-1.04.2-1.43.59L10.3 9.45l-7.72 7.72c-.78.78-.78 2.05 0 2.83L4 21.41c.39.39.9.59 1.41.59.51 0 1.02-.2 1.41-.59l7.78-7.78 2.81-2.81c.8-.78.8-2.07 0-2.86zM5.41 20L4 18.59l7.72-7.72 1.47 1.35L5.41 20z\"/>\n",
              "  </svg>\n",
              "      </button>\n",
              "      \n",
              "  <style>\n",
              "    .colab-df-container {\n",
              "      display:flex;\n",
              "      flex-wrap:wrap;\n",
              "      gap: 12px;\n",
              "    }\n",
              "\n",
              "    .colab-df-convert {\n",
              "      background-color: #E8F0FE;\n",
              "      border: none;\n",
              "      border-radius: 50%;\n",
              "      cursor: pointer;\n",
              "      display: none;\n",
              "      fill: #1967D2;\n",
              "      height: 32px;\n",
              "      padding: 0 0 0 0;\n",
              "      width: 32px;\n",
              "    }\n",
              "\n",
              "    .colab-df-convert:hover {\n",
              "      background-color: #E2EBFA;\n",
              "      box-shadow: 0px 1px 2px rgba(60, 64, 67, 0.3), 0px 1px 3px 1px rgba(60, 64, 67, 0.15);\n",
              "      fill: #174EA6;\n",
              "    }\n",
              "\n",
              "    [theme=dark] .colab-df-convert {\n",
              "      background-color: #3B4455;\n",
              "      fill: #D2E3FC;\n",
              "    }\n",
              "\n",
              "    [theme=dark] .colab-df-convert:hover {\n",
              "      background-color: #434B5C;\n",
              "      box-shadow: 0px 1px 3px 1px rgba(0, 0, 0, 0.15);\n",
              "      filter: drop-shadow(0px 1px 2px rgba(0, 0, 0, 0.3));\n",
              "      fill: #FFFFFF;\n",
              "    }\n",
              "  </style>\n",
              "\n",
              "      <script>\n",
              "        const buttonEl =\n",
              "          document.querySelector('#df-c3ffb4e9-e79f-48ee-b0d8-9ad01b03b2c9 button.colab-df-convert');\n",
              "        buttonEl.style.display =\n",
              "          google.colab.kernel.accessAllowed ? 'block' : 'none';\n",
              "\n",
              "        async function convertToInteractive(key) {\n",
              "          const element = document.querySelector('#df-c3ffb4e9-e79f-48ee-b0d8-9ad01b03b2c9');\n",
              "          const dataTable =\n",
              "            await google.colab.kernel.invokeFunction('convertToInteractive',\n",
              "                                                     [key], {});\n",
              "          if (!dataTable) return;\n",
              "\n",
              "          const docLinkHtml = 'Like what you see? Visit the ' +\n",
              "            '<a target=\"_blank\" href=https://colab.research.google.com/notebooks/data_table.ipynb>data table notebook</a>'\n",
              "            + ' to learn more about interactive tables.';\n",
              "          element.innerHTML = '';\n",
              "          dataTable['output_type'] = 'display_data';\n",
              "          await google.colab.output.renderOutput(dataTable, element);\n",
              "          const docLink = document.createElement('div');\n",
              "          docLink.innerHTML = docLinkHtml;\n",
              "          element.appendChild(docLink);\n",
              "        }\n",
              "      </script>\n",
              "    </div>\n",
              "  </div>\n",
              "  "
            ]
          },
          "metadata": {},
          "execution_count": 14
        }
      ],
      "source": [
        "df      # labels for neutral is 0 , for negative is 1 , for positive is 2"
      ]
    },
    {
      "cell_type": "markdown",
      "metadata": {
        "id": "_8372zXLS1Xy"
      },
      "source": [
        "In the above three cells first we assign an interger value to each label to make it readable for the model. \n",
        "The label values are defined as follows: \n",
        "**neutral = 0 , negative = 1 , positive = 2**\n",
        "A new column 'label' is added to dataset 'df' to assign label corresponding to the value in category column. 'label_dict' takes care of this pairing. "
      ]
    },
    {
      "cell_type": "code",
      "execution_count": null,
      "metadata": {
        "id": "P9zGxfWIVM1z"
      },
      "outputs": [],
      "source": [
        "df = df.dropna(subset=['sentence', 'label']) ## drop missing values"
      ]
    },
    {
      "cell_type": "code",
      "execution_count": null,
      "metadata": {
        "id": "zsVINzY4TOCV"
      },
      "outputs": [],
      "source": [
        "# Converting % into percent\n",
        "df['sentence'] = df['sentence'].str.replace('%', 'percent')"
      ]
    },
    {
      "cell_type": "markdown",
      "metadata": {
        "id": "iXhIU6FyfSuT"
      },
      "source": [
        "All the '%' symbols are now converted into text 'percent' using str.replace() function.\n",
        "\n",
        "\n",
        "\n",
        "---\n",
        "\n",
        "Another way to replace a symbol is explained in next cell. We can define a function to identify the regular expression in the text (here sentence) and its replacement text and then use apply() function to replace the pattern in desired column."
      ]
    },
    {
      "cell_type": "code",
      "execution_count": null,
      "metadata": {
        "id": "rt-bjs1ZTRnl"
      },
      "outputs": [],
      "source": [
        "import re\n",
        "# Define a function to perform the conversion\n",
        "def convert_usd(sentence):\n",
        "    return re.sub(r'\\$', 'usd ', sentence)\n",
        "\n",
        "# Apply the function to the 'Sentence' column\n",
        "df['sentence'] = df['sentence'].apply(convert_usd)"
      ]
    },
    {
      "cell_type": "markdown",
      "metadata": {
        "id": "zQh32WQvgVc4"
      },
      "source": [
        "Since '$' represents currency US dollars we can convert it to 'usd' which is widely used. A function 'convert_usd' is defined to identify pattern using regular expression *r'\\$'* and converted to 'usd' using 'apply()' function"
      ]
    },
    {
      "cell_type": "code",
      "execution_count": null,
      "metadata": {
        "id": "EpoR3kPlA1IN",
        "colab": {
          "base_uri": "https://localhost:8080/"
        },
        "outputId": "8f6f8709-1430-4955-b4cb-de94e4cc28ca"
      },
      "outputs": [
        {
          "output_type": "stream",
          "name": "stdout",
          "text": [
            "Empty DataFrame\n",
            "Columns: [sentence, category, label]\n",
            "Index: []\n"
          ]
        }
      ],
      "source": [
        "#identifying any html tags in the data\n",
        "def has_html_tags(text):\n",
        "    pattern = r\"<[^>]+>\"\n",
        "    if re.search(pattern, text):\n",
        "        return True\n",
        "    else:\n",
        "        return False\n",
        "\n",
        "# Apply the function to the 'Sentence' column\n",
        "html_tags = df['sentence'].apply(has_html_tags)\n",
        "rows_with_html_tags = df[html_tags == True]\n",
        "print(rows_with_html_tags)\n"
      ]
    },
    {
      "cell_type": "markdown",
      "metadata": {
        "id": "AU0wsEXDidB0"
      },
      "source": [
        "Any html tags <> in the dataset are identified by defining has_html_tags function. re.search() function will search for pattern * r\"<[^>]+>\" * and then return True is pattern is identified else False. \n",
        "\n",
        "apply() function is used to check in 'sentence' column in dataset 'df' and these values are stored in rows_with_html_tags variable. \n",
        "\n",
        "Using print() we see that the dataframe is empty and there are no html tags identified in the dataset "
      ]
    },
    {
      "cell_type": "markdown",
      "metadata": {
        "id": "NtTuG2EAkRxh"
      },
      "source": [
        "\n",
        "\n",
        "---\n",
        "\n",
        "\n",
        "To identify any URL's or web addresses (starting with \"http://\", \"https://\", or \"www.\")  in the dataframe we define function has_urls such that if re.search () function identifies pattern = r\"\\b(https?://|www\\.)\\S+\\b\" in the text it will return value True or False otherwise. \n",
        "\n",
        "apply() function is used to check any URL's in 'sentence' column in dataset 'df' and these values are stored in urls_present variable. \n",
        "\n",
        "print() function shows rows having URL's."
      ]
    },
    {
      "cell_type": "code",
      "execution_count": null,
      "metadata": {
        "id": "gb3HhUa1A9ch",
        "colab": {
          "base_uri": "https://localhost:8080/"
        },
        "outputId": "073c5773-8def-4fdb-850b-7ed64b6025b7"
      },
      "outputs": [
        {
          "output_type": "stream",
          "name": "stdout",
          "text": [
            "                                                                                                                                                                                                                                                                                               sentence  \\\n",
            "1175                                                                                                                                                                                                     An audio webcast will be available live and archived on Cerner 's Web site at www.cerner.com .   \n",
            "1320                                                                                                                           Prothious Engineering ( www.prothious.com ) employs more than 1,000 and has a large portfolio of projects and an annual detailing capacity of more than 100,000 tonnes .   \n",
            "1379                                                                                                                                       The event can be followed on-line via Orion 's Finnish homepage at www.orion.fi as well as via the Kauppalehti Live web service at www.kauppalehti.fi/live .   \n",
            "1460                                                                                                                           www.countryelements.co.uk Designed by Patricia Burt , this is just one of a selection of distinctive hooked rugs created with recycled materials and dyed natural dyes .   \n",
            "1486                                                                                                                                                                     18:30 Dinner The conference program can also be viewed as a live audio webcast through the internet pages at www.citycon.com .   \n",
            "1490                                                                                                                               A downloadable instruction sheet , instructional video , and project ideas for the award-winning Everywhere Punch TM Window System can be found at www.fiskars.com .   \n",
            "1576                                                                                                                                                                                                                    Peigs www.peigs.se will become part of Sardus Latta Maltider Light Meals unit .   \n",
            "1631                                                                                                                                                                                                                         The event can also be viewed as a live audio webcast at www.ahlstrom.com .   \n",
            "1632                                                                                                                                                                                                                               The event can also be viewed as a live webcast at www.cargotec.com .   \n",
            "1688                                                                                                                                           UPM-Kymmene www.upm-kymmene.com produces magazine papers and newsprint , as well as fine and specialty papers , converting materials and wood products .   \n",
            "1869                                                                                                                                             The Moscow Metro ( www.mosmetro.ru ) was the first metro system in Europe to implement smart cards together with a new type of magnetic card in 1998 .   \n",
            "1903                                                                                                                          Kesko www.kesko.fi is a Finnish retail specialist whose stores offer quality to the daily lives of consumers through valued products and services at competitive prices .   \n",
            "2169                                                                                                                                                        OMEO ( www.omeo.se ) employs 55 and expects net sales of some 23 mln euro ( usd  29.8 mln ) for fiscal 2006-2007 , ending April 30 , 2007 .   \n",
            "2352                          H1 '08 H1 '07 Q2 '08 Q2 '07 in mln euro , unless otherwise stated Net sales 386 328.6 201 160.7 Operating profit 46.3 35.8 23.2 9.5 Pre-tax profit 33.6 26.9 18.7 5.1 Net profit 25.1 25.4 14 4.0 EPS in euro 2.20 2.36 1.24 0.38 1.0 euro = usd  1.60 www.componenta.com   \n",
            "2400                                                                                                                                                   All YIT Capital Markets Day materials will be available on the company 's Internet site at www.yitgroup.com/investors at 10:30 on September 26 .   \n",
            "2551                                                                                                                                           Published by Globes online , Israel business news - www.globes-online.com - on November 16 , 2009 -® Copyright of Globes Publisher Itonut 1983 Ltd. 2009   \n",
            "2571                                                                   STOCKMANN plc COMPANY ANNOUNCEMENT February 20 , 2007 , at 13.40 An annual summary of Stockmann 's stock exchange and financial press releases in 2006 is available on the company 's website at the address www.stockmann.com .   \n",
            "2608                                                                                                                                                                                                                                                          The company website is www.ahlstrom.com .   \n",
            "3087                                                                                                                     Presentation materials will be posted on the company 's website : www.seahawkdrilling.com in the `` Investor Relations '' section , on the `` Webcast & Presentations '' tab .   \n",
            "3112  SAMPO PLC Jarmo Salonen Head of Investor Relations and Group Communications tel. +358 10 516 0030 Distribution : NASDAQ OMX Helsinki The principal media Financial Supervisory Authority www.sampo.com This announcement is distributed by Thomson Reuters on behalf of Thomson Reuters clients .   \n",
            "3226                                                                                                                                                                         The CVs of the proposed members are available for viewing from 12 March 2008 onwards on the Internet at www.sampo.com/ir .   \n",
            "3249                                                                                                                                                                         The financial statements release will be available after publishing on the Company 's internet pages at www.cargotec.com .   \n",
            "3402                                                                                                                                                                                                            The webcast may be followed online on the company website at www.ruukki.com/investors .   \n",
            "3408                                                                                                                                The world of glass is coming to Egypt and we invite Visitors from all around the world to attend Glass World Exhibition 2009 , Register Now at www.glassworldex.com   \n",
            "3514                                                                Ahlstrom Corporation Seppo Parvi , CFO Distribution : Main media www.ahlstrom.com Ahlstrom in brief Ahlstrom is a global leader in the development , manufacture and marketing of high performance nonwovens and specialty papers .   \n",
            "4140                                                                                                                                                                           The terms and conditions of the Stock Option Scheme 2008 are available on the Company 's internet pages www.sanoma.com .   \n",
            "4349                                                                                                  The Finnish food concern Atria is about to acquire two Estonian meat processing companies , Woro Kommerts and Vastse-Kuuste Lihatoostus , reported the Official website www.investinestonia.com .   \n",
            "4547                                                                                                                                                                                                                   For 24-hour news , try ICIS news www.icis.com Click `` trial '' , then ICIS news   \n",
            "\n",
            "     category  label  \n",
            "1175  neutral      0  \n",
            "1320  neutral      0  \n",
            "1379  neutral      0  \n",
            "1460  neutral      0  \n",
            "1486  neutral      0  \n",
            "1490  neutral      0  \n",
            "1576  neutral      0  \n",
            "1631  neutral      0  \n",
            "1632  neutral      0  \n",
            "1688  neutral      0  \n",
            "1869  neutral      0  \n",
            "1903  neutral      0  \n",
            "2169  neutral      0  \n",
            "2352  neutral      0  \n",
            "2400  neutral      0  \n",
            "2551  neutral      0  \n",
            "2571  neutral      0  \n",
            "2608  neutral      0  \n",
            "3087  neutral      0  \n",
            "3112  neutral      0  \n",
            "3226  neutral      0  \n",
            "3249  neutral      0  \n",
            "3402  neutral      0  \n",
            "3408  neutral      0  \n",
            "3514  neutral      0  \n",
            "4140  neutral      0  \n",
            "4349  neutral      0  \n",
            "4547  neutral      0  \n"
          ]
        }
      ],
      "source": [
        "# Define a function to check for URLs in a text\n",
        "def has_urls(text):\n",
        "    pattern = r\"\\b(https?://|www\\.)\\S+\\b\"\n",
        "    if re.search(pattern, text):\n",
        "        return True\n",
        "    else:\n",
        "        return False\n",
        "\n",
        "# Apply the function to the 'Sentence' column\n",
        "urls_present = df['sentence'].apply(has_urls)\n",
        "\n",
        "# Print the rows that contain URLs\n",
        "print(df[urls_present])\n"
      ]
    },
    {
      "cell_type": "code",
      "execution_count": null,
      "metadata": {
        "id": "m7YxkTY5BK1_"
      },
      "outputs": [],
      "source": [
        "# Removing URL's\n",
        "def remove_between_square_brackets(text):\n",
        "    return re.sub(r\"\\b(https?://|www\\.)\\S+\\b\", '', text)\n",
        "\n",
        "# Remove URLs using the pattern\n",
        "df['sentence'] = df['sentence'].apply(remove_between_square_brackets)"
      ]
    },
    {
      "cell_type": "markdown",
      "metadata": {
        "id": "qTa6umG8lnfk"
      },
      "source": [
        "Now that URL's are iodentified in the data, we remove them by defining a function remove_between_square_brackets to identify the pattern and replacing it with empty string. URL's are effectively removed from 'sentence' column of 'df'  dataframe."
      ]
    },
    {
      "cell_type": "code",
      "execution_count": null,
      "metadata": {
        "id": "O4_H47NyIgcz",
        "colab": {
          "base_uri": "https://localhost:8080/"
        },
        "outputId": "d283671b-489b-432f-dca8-a2c84e890551"
      },
      "outputs": [
        {
          "output_type": "execute_result",
          "data": {
            "text/plain": [
              "sentence    The terms and conditions of the Stock Option Scheme 2008 are available on the Company 's internet pages  .\n",
              "category                                                                                                       neutral\n",
              "label                                                                                                                0\n",
              "Name: 4140, dtype: object"
            ]
          },
          "metadata": {},
          "execution_count": 21
        }
      ],
      "source": [
        "# printed row 4140 to verify the removal of URL's and similar patterns\n",
        "df.loc[4140]"
      ]
    },
    {
      "cell_type": "code",
      "execution_count": null,
      "metadata": {
        "id": "PUe5q_f8BbDD",
        "colab": {
          "base_uri": "https://localhost:8080/"
        },
        "outputId": "62e0fa74-c323-4a49-b075-15163364abeb"
      },
      "outputs": [
        {
          "output_type": "stream",
          "name": "stdout",
          "text": [
            "Looking in indexes: https://pypi.org/simple, https://us-python.pkg.dev/colab-wheels/public/simple/\n",
            "Collecting phonenumbers\n",
            "  Downloading phonenumbers-8.13.11-py2.py3-none-any.whl (2.6 MB)\n",
            "\u001b[2K     \u001b[90m━━━━━━━━━━━━━━━━━━━━━━━━━━━━━━━━━━━━━━━━\u001b[0m \u001b[32m2.6/2.6 MB\u001b[0m \u001b[31m72.1 MB/s\u001b[0m eta \u001b[36m0:00:00\u001b[0m\n",
            "\u001b[?25hInstalling collected packages: phonenumbers\n",
            "Successfully installed phonenumbers-8.13.11\n"
          ]
        }
      ],
      "source": [
        "#importing phonenumbers package to identify any phone numbers in the dataframe\n",
        "!pip install phonenumbers\n"
      ]
    },
    {
      "cell_type": "markdown",
      "metadata": {
        "id": "U1Rc6xThnFMV"
      },
      "source": [
        "we define a function has_phone_number and in this using the PhoneNumberMatcher() function in 'phonenumbers' package we identify any phone numbers in the text and return True if phone number is identified or False otherwise.\n",
        "\n",
        "In dataframe df phone numbers are identified in 'sentence' column using apply() function and then assigned to phone_numbers varible. \n",
        "\n",
        "Output is printed using print() function and we see that there are phone numbers in the dataframe."
      ]
    },
    {
      "cell_type": "code",
      "execution_count": null,
      "metadata": {
        "id": "gcKVrjRiBfn0",
        "colab": {
          "base_uri": "https://localhost:8080/"
        },
        "outputId": "b0e5d040-2935-407b-e89e-bfeae9dbbdea"
      },
      "outputs": [
        {
          "output_type": "stream",
          "name": "stdout",
          "text": [
            "                                                                                                                                                                                                                                                                                                               sentence  \\\n",
            "578                                                                                           Helsinki on October 22 , 2008 SSH COMMUNICATIONS SECURITY CORP Board of Directors For further information , please contact : Tomi Laamanen , Chairman , tel. +358 0 400 609 544 Distribution : NASDAQ OMX Helsinki Ltd. .   \n",
            "726                                                                                                                                                          Shareholder 's full name and ID code : - Petri Ailus , born 15.9.1966 For further information , please contact Isto Hantila , CEO , tel. +358 9 591 8342 .   \n",
            "1021               Aldata Solution Oyj Bertrand Sciard President and CEO Further information : Aldata Solution Oyj , Bertrand Sciard , President and CEO , tel. +33 1 46 48 28 00 Aldata 100 percent Retail-Wholesale At Aldata 100 percent of our business is dedicated to retail and wholesale business improvement .   \n",
            "1033                                                                                                                                        Conference Call To participate via a conference call , please dial in 5-10 minutes before the beginning of the event : +44 0 20 7162 0025 Europe or +1 334-á323-á6201 USA .   \n",
            "1071  POYRY PLC Additional information by : Martin Kuzaj , President , Industry Business Group , Finland Tel. +358 10 33 21179 Sanna Paivaniemi , Director , Investor Relations , Poyry PLC , Finland Tel. +358 10 33 23002 Poyry is a global consulting and engineering company dedicated to balanced sustainability .   \n",
            "1199                                                                                                                                                             Complete name of shareholder : Otto Henrik Bernhard Nyberg For further information , please contact Maija-Liisa Friman , CEO , tel. +358 9 7597 0711 .   \n",
            "2364                                                                                                                                         A replay will be available until 27 October 2006 in the following numbers : US callers : +1 617-á801-á6888 , non-US callers : +44 20 7365 8427 , access code : 2659 5401 .   \n",
            "2545                                                                                                                                                POYRY PLC Additional information by : Heikki Malinen , President and CEO , Poyry PLC tel. +358 10 33 21307 Poyry is a global expert in consulting and engineering .   \n",
            "2556                                                                                                                                                                             rosendal at outotec.com Eila Paatela , Vice President - Corporate Communications tel. +358 20 529 2004 , +358 400 817198 e-mail eila .   \n",
            "3112                               SAMPO PLC Jarmo Salonen Head of Investor Relations and Group Communications tel. +358 10 516 0030 Distribution : NASDAQ OMX Helsinki The principal media Financial Supervisory Authority  This announcement is distributed by Thomson Reuters on behalf of Thomson Reuters clients .   \n",
            "3116                                                                                                                                                                   schwalm ( at ) outotec.com Eila Paatela , Vice President - Corporate Communications tel. +358 20 529 2004 , mobile +358 400 817198 e-mail eila .   \n",
            "3517                                                    Aldata Solution Oyj Thomas Hoyer CFO More information : Aldata Solution Oyj , Thomas Hoyer , CFO , tel. +358 45 670 0491 Aldata in brief Aldata Solution is one of the global leaders in supply chain software for retail , wholesale and logistics companies .   \n",
            "\n",
            "     category  label  \n",
            "578   neutral      0  \n",
            "726   neutral      0  \n",
            "1021  neutral      0  \n",
            "1033  neutral      0  \n",
            "1071  neutral      0  \n",
            "1199  neutral      0  \n",
            "2364  neutral      0  \n",
            "2545  neutral      0  \n",
            "2556  neutral      0  \n",
            "3112  neutral      0  \n",
            "3116  neutral      0  \n",
            "3517  neutral      0  \n"
          ]
        }
      ],
      "source": [
        "#Importing phonenumbers package\n",
        "\n",
        "import phonenumbers\n",
        "\n",
        "# Function to check if a text contains a phone number\n",
        "def has_phone_number(text):\n",
        "    for match in phonenumbers.PhoneNumberMatcher(text, \"ZZ\"):\n",
        "        return True\n",
        "    return False\n",
        "\n",
        "# Apply the function to the 'Sentence' column\n",
        "phone_numbers = df['sentence'].apply(has_phone_number)\n",
        "\n",
        "# Filter the DataFrame to show only rows with phone numbers\n",
        "rows_with_phone_numbers = df[phone_numbers]\n",
        "print(rows_with_phone_numbers)"
      ]
    },
    {
      "cell_type": "code",
      "execution_count": null,
      "metadata": {
        "id": "ssmgOVHDBrF5"
      },
      "outputs": [],
      "source": [
        "# Define the regular expression pattern for phone numbers\n",
        "phone_number_pattern = r'\\+\\d+(?: \\d+)+'\n",
        "\n",
        "# Function to extract phone numbers from text\n",
        "def extract_phone_numbers(text):\n",
        "    phone_numbers = []\n",
        "    for match in phonenumbers.PhoneNumberMatcher(text, \"ZZ\"):\n",
        "        phone_number = phonenumbers.format_number(match.number, phonenumbers.PhoneNumberFormat.E164)\n",
        "        phone_numbers.append(phone_number)\n",
        "    return phone_numbers\n",
        "\n",
        "# Apply the function to the 'sentence' column\n",
        "phone_numbers = df['sentence'].apply(has_phone_number)\n",
        "\n",
        "# Filter the DataFrame to show only rows with phone numbers\n",
        "rows_with_phone_numbers = df[phone_numbers]\n",
        "\n",
        "# Apply the function to extract phone numbers and store in a new column\n",
        "df['ExtractedPhoneNumbers'] = df['sentence'].apply(extract_phone_numbers)\n",
        "\n",
        "# Remove the extracted phone numbers from the 'sentence' column\n",
        "df['sentence'] = df['sentence'].replace(phone_number_pattern, '', regex=True)\n"
      ]
    },
    {
      "cell_type": "code",
      "execution_count": null,
      "metadata": {
        "id": "MxT3fDFrCGlt"
      },
      "outputs": [],
      "source": [
        "#drop 'ExtractedPhoneNumbers' column from dataset because it is redundant\n",
        "\n",
        "df = df.drop('ExtractedPhoneNumbers', axis=1)"
      ]
    },
    {
      "cell_type": "markdown",
      "metadata": {
        "id": "gLpMAS_1odan"
      },
      "source": [
        "As we need to remove the phone numbers from the dataset, we assign the regular expression r'\\+\\d+(?: \\d+)+' to variable phone_number_pattern. \n",
        "\n",
        "We define a function extract_phone_numbers to identify and extract phone numbers from the text and replace with an empty string. \n",
        "\n",
        "Using apply() we extract these phone numbers to new column 'ExtractedPhoneNumbers' in dataframe df and then using drop() function we drop this redundant column."
      ]
    },
    {
      "cell_type": "markdown",
      "metadata": {
        "id": "Do7IxYshpQO2"
      },
      "source": [
        "\n",
        "\n",
        "---\n",
        "\n",
        "\n",
        "To improve the accuracy of the model results we convert all numbers to text and also see words like 'm','mn', meaning million and 'b', 'bn' meaning billion and replace these using str.replace() function.\n",
        "\n",
        "We installed and imported num2words package to convert numbers into text form. The function convert_numbrs_to_words takes an input and converts any numbers in the text into text using corresponding representation in num2words package.\n",
        "\n",
        " It does this by splitting the text into words, checking if each word can be converted to a float number after removing commas, and if so, converting it to words using num2words. \n",
        " \n",
        " If a word cannot be converted to a number, it is appended to the list of words as is. Finally, the function joins the modified words back into a single string and returns it.\n",
        "\n",
        " Using apply() function we convert all possible numbers in column 'sentence' of dataframe 'df' into its text representation \n",
        "\n"
      ]
    },
    {
      "cell_type": "code",
      "execution_count": null,
      "metadata": {
        "id": "EqVHnXfuCwqR",
        "colab": {
          "base_uri": "https://localhost:8080/"
        },
        "outputId": "77493b1f-4501-4c30-bf2c-31bedc30f977"
      },
      "outputs": [
        {
          "output_type": "stream",
          "name": "stdout",
          "text": [
            "Looking in indexes: https://pypi.org/simple, https://us-python.pkg.dev/colab-wheels/public/simple/\n",
            "Collecting num2words\n",
            "  Downloading num2words-0.5.12-py3-none-any.whl (125 kB)\n",
            "\u001b[2K     \u001b[90m━━━━━━━━━━━━━━━━━━━━━━━━━━━━━━━━━━━━━━\u001b[0m \u001b[32m125.2/125.2 kB\u001b[0m \u001b[31m12.5 MB/s\u001b[0m eta \u001b[36m0:00:00\u001b[0m\n",
            "\u001b[?25hCollecting docopt>=0.6.2 (from num2words)\n",
            "  Downloading docopt-0.6.2.tar.gz (25 kB)\n",
            "  Preparing metadata (setup.py) ... \u001b[?25l\u001b[?25hdone\n",
            "Building wheels for collected packages: docopt\n",
            "  Building wheel for docopt (setup.py) ... \u001b[?25l\u001b[?25hdone\n",
            "  Created wheel for docopt: filename=docopt-0.6.2-py2.py3-none-any.whl size=13707 sha256=455bd8c051da90ea0de255e70a0204d185ae880989bdb7273730908f894421a0\n",
            "  Stored in directory: /root/.cache/pip/wheels/fc/ab/d4/5da2067ac95b36618c629a5f93f809425700506f72c9732fac\n",
            "Successfully built docopt\n",
            "Installing collected packages: docopt, num2words\n",
            "Successfully installed docopt-0.6.2 num2words-0.5.12\n"
          ]
        }
      ],
      "source": [
        "!pip install num2words\n",
        "from num2words import num2words\n",
        "\n",
        "#Define function to convertnumbers (decimal i.e. float and integers) to text\n",
        "def convert_numbers_to_words(text):\n",
        "    words = []\n",
        "    for word in text.split():\n",
        "        try:\n",
        "            number = float(word.replace(',', ''))\n",
        "            words.append(num2words(number))\n",
        "        except ValueError:\n",
        "            words.append(word)\n",
        "    return ' '.join(words)\n",
        "\n",
        "df['sentence'] = df['sentence'].apply(convert_numbers_to_words)\n",
        "\n"
      ]
    },
    {
      "cell_type": "code",
      "execution_count": null,
      "metadata": {
        "id": "d9DNk5qMDVvm",
        "colab": {
          "base_uri": "https://localhost:8080/"
        },
        "outputId": "eb231298-382e-4e46-d3c0-3f74cec988ec"
      },
      "outputs": [
        {
          "output_type": "stream",
          "name": "stderr",
          "text": [
            "<ipython-input-27-3a35eede3648>:2: FutureWarning: The default value of regex will change from True to False in a future version.\n",
            "  df['sentence'] = df['sentence'].str.replace(r'\\bm\\b', 'million')\n",
            "<ipython-input-27-3a35eede3648>:3: FutureWarning: The default value of regex will change from True to False in a future version.\n",
            "  df['sentence'] = df['sentence'].str.replace(r'\\bmn\\b', 'million')\n",
            "<ipython-input-27-3a35eede3648>:4: FutureWarning: The default value of regex will change from True to False in a future version.\n",
            "  df['sentence'] = df['sentence'].str.replace(r'\\bbn\\b', 'billion')\n",
            "<ipython-input-27-3a35eede3648>:5: FutureWarning: The default value of regex will change from True to False in a future version.\n",
            "  df['sentence'] = df['sentence'].str.replace(r'\\bb\\b', 'billion')\n"
          ]
        }
      ],
      "source": [
        "# replace 'm', 'mn' as 'million' and 'b','bn' as billion\n",
        "df['sentence'] = df['sentence'].str.replace(r'\\bm\\b', 'million')\n",
        "df['sentence'] = df['sentence'].str.replace(r'\\bmn\\b', 'million')\n",
        "df['sentence'] = df['sentence'].str.replace(r'\\bbn\\b', 'billion')\n",
        "df['sentence'] = df['sentence'].str.replace(r'\\bb\\b', 'billion')"
      ]
    },
    {
      "cell_type": "markdown",
      "metadata": {
        "id": "muCa71kTrzw5"
      },
      "source": [
        "Enitre text in column'sentence' of dataframe 'df' is converted into lower case. This is conducted to achieve text normalization and improve generalization.\n",
        "\n",
        "As we are fine-tuning the pre-trianed models this will ensure consistency in the results and also reduce noise in the data."
      ]
    },
    {
      "cell_type": "code",
      "execution_count": null,
      "metadata": {
        "id": "h6FWe5r5EYna"
      },
      "outputs": [],
      "source": [
        "#converting data to lower case\n",
        "df['sentence'] = df['sentence'].str.lower()\n"
      ]
    },
    {
      "cell_type": "markdown",
      "metadata": {
        "id": "Tng4t95jWdlw"
      },
      "source": [
        "The regular expression pattern `[^\\w\\s\\.-]` matches any character that is not a word character (`\\w`), whitespace character (`\\s`), period (`.`), or hyphen (`-`). It will remove all punctuation marks and symbols except for the period and hyphen from the 'sentence' column in the DataFrame `df`.\n",
        "\n",
        "The specific punctuation marks and symbols that will be removed include:\n",
        "- Commas `,`\n",
        "- Exclamation marks `!`\n",
        "- Question marks `?`\n",
        "- Apostrophes `'`\n",
        "- Quotation marks `\"`\n",
        "- Parentheses `()`\n",
        "- Brackets `[]`\n",
        "- Braces `{}`\n",
        "- Ampersands `&`\n",
        "- Dollar signs `$`\n",
        "- Percent signs `%`\n",
        "- Forward slashes `/`\n",
        "- Backslashes `\\`\n",
        "- Colons `:`\n",
        "- Semicolons `;`\n",
        "- Plus signs `+`\n",
        "- Minus signs `-` (except when used as a hyphen within a word)\n",
        "- Asterisks `*`\n",
        "- Equal signs `=`\n",
        "- At signs `@`\n",
        "- Hashtags `#`\n",
        "- Underscores `_`\n",
        "- Tildes `~`\n",
        "- Carets `^`\n",
        "- Vertical bars `|`\n",
        "- Less-than signs `<`\n",
        "- Greater-than signs `>`\n",
        "\n",
        "Note that this is not an exhaustive list of all possible punctuation marks and symbols, but it covers the most common ones."
      ]
    },
    {
      "cell_type": "code",
      "execution_count": null,
      "metadata": {
        "id": "X22h-SL_F-Qk",
        "colab": {
          "base_uri": "https://localhost:8080/"
        },
        "outputId": "95ecb2d1-9670-409d-e150-87960f32e7c8"
      },
      "outputs": [
        {
          "output_type": "stream",
          "name": "stderr",
          "text": [
            "<ipython-input-29-f10e048b7a62>:5: FutureWarning: The default value of regex will change from True to False in a future version.\n",
            "  df['sentence'] = df['sentence'].str.replace(pattern, \"\")\n"
          ]
        }
      ],
      "source": [
        "# Define the regular expression pattern to match punctuation excluding decimal point and hyphen\n",
        "pattern = r\"[^\\w\\s\\.-]\"\n",
        "\n",
        "# Remove punctuation using the pattern\n",
        "df['sentence'] = df['sentence'].str.replace(pattern, \"\")\n"
      ]
    },
    {
      "cell_type": "markdown",
      "metadata": {
        "id": "XnBjAT3KWgk6"
      },
      "source": [
        "**\"punkt\"**: This dataset is downloaded from the Natural Language Toolkit (nltk) library. This dataset contains pre-trained tokenizers for various languages. Once downloaded, these tokenizers can be used to tokenize text into words, sentences, etc.\n",
        "\n",
        "**stopwords**: Downloading 'stopwords' allows removal of redundant words i.e. commonly occuring words (e.g., \"the,\" \"is,\" \"and\") from the sentences in dataset. Also we can create or include other words, symbols, special characters that are not meaningful in this corpus. They can be included in the corpus using 'set(stopwords).union(set())' code snippet.\n",
        "\n",
        "**WordNet**: WordNet corpus from the Natural Language Toolkit (NLTK) library, is a lexical database that organizes words into groups based on their meanings and relationships with other words in the English language."
      ]
    },
    {
      "cell_type": "code",
      "execution_count": null,
      "metadata": {
        "id": "TC57D_oaWh6b",
        "colab": {
          "base_uri": "https://localhost:8080/"
        },
        "outputId": "0b417d2e-ee5d-4066-aec3-3eec3158d633"
      },
      "outputs": [
        {
          "output_type": "stream",
          "name": "stderr",
          "text": [
            "[nltk_data] Downloading package punkt to /root/nltk_data...\n",
            "[nltk_data]   Unzipping tokenizers/punkt.zip.\n",
            "[nltk_data] Downloading package stopwords to /root/nltk_data...\n",
            "[nltk_data]   Unzipping corpora/stopwords.zip.\n",
            "[nltk_data] Downloading package wordnet to /root/nltk_data...\n"
          ]
        }
      ],
      "source": [
        "import nltk  \n",
        "#Downloading 'punkt'  \n",
        "nltk.download('punkt')     \n",
        " # Downloading the 'stopwords' corpus       \n",
        "nltk.download('stopwords') \n",
        "#Downloading 'WordNet' corpus\n",
        "nltk.download('wordnet')   \n",
        "# Importing the 'stopwords' corpus from nltk\n",
        "from nltk.corpus import stopwords \n",
        "\n",
        "# Creating a variable 'stop_words' containing the default English stopwords\n",
        "stop_words = stopwords.words('english')   \n",
        "\n",
        "#Applying a lambda function to the 'sentence' column of the DataFrame 'df' to remove stopwords from each sentence\n",
        "df['sentence'] = df['sentence'].apply(lambda x: ' '.join([word for word in x.split() if word not in (stop_words)]))   "
      ]
    },
    {
      "cell_type": "code",
      "execution_count": null,
      "metadata": {
        "id": "fKTafi1DWkpe",
        "colab": {
          "base_uri": "https://localhost:8080/",
          "height": 762
        },
        "outputId": "c80ad58e-007d-4af1-aa24-bb0b72577f76"
      },
      "outputs": [
        {
          "output_type": "execute_result",
          "data": {
            "text/plain": [
              "                                                                                                                                                                                                                                                                                               sentence  \\\n",
              "0                                                                                                                                                                                                                        according gran company plans move production russia although company growing .   \n",
              "1                                                                                                                                  technopolis plans develop stages area less one hundred thousand square meters order host companies working computer technologies telecommunications statement said .   \n",
              "2                                                                                                                    international electronic industry company elcoteq laid tens employees tallinn facility contrary earlier layoffs company contracted ranks office workers daily postimees reported .   \n",
              "3                                                                                                                                      new production plant company would increase capacity meet expected increase demand would improve use raw materials therefore increase production profitability .   \n",
              "4                                                                                           according company updated strategy years 2009-2012 basware targets long-term net sales growth range twenty percent minus forty percent operating profit margin ten percent minus twenty percent net sales .   \n",
              "...                                                                                                                                                                                                                                                                                                 ...   \n",
              "4841                                                                                                                                                                 london marketwatch -- share prices ended lower london monday rebound bank stocks failed offset broader weakness ftse one hundred .   \n",
              "4842                                                                                                                    rinkuskiai beer sales fell six point five per cent four point one six million litres kauno alus beer sales jumped six point nine per cent two point four eight million litres .   \n",
              "4843                                                                                                                       operating profit fell eur thirty-five point four million eur sixty-eight point eight million two thousand seven including vessel sales gain eur twelve point three million .   \n",
              "4844  net sales paper segment decreased eur two hundred twenty-one point six million second quarter two thousand nine eur two hundred forty-one point one million second quarter two thousand eight operating profit excluding non-recurring items rose eur eight million eur seven point six million .   \n",
              "4845                                                                                                                                                                                           sales finland decreased ten point five percent january sales outside finland dropped seventeen percent .   \n",
              "\n",
              "      category  label  \n",
              "0      neutral      0  \n",
              "1      neutral      0  \n",
              "2     negative      1  \n",
              "3     positive      2  \n",
              "4     positive      2  \n",
              "...        ...    ...  \n",
              "4841  negative      1  \n",
              "4842   neutral      0  \n",
              "4843  negative      1  \n",
              "4844  negative      1  \n",
              "4845  negative      1  \n",
              "\n",
              "[4846 rows x 3 columns]"
            ],
            "text/html": [
              "\n",
              "  <div id=\"df-cf861458-ccda-4477-a30d-cf5c1fe80c15\">\n",
              "    <div class=\"colab-df-container\">\n",
              "      <div>\n",
              "<style scoped>\n",
              "    .dataframe tbody tr th:only-of-type {\n",
              "        vertical-align: middle;\n",
              "    }\n",
              "\n",
              "    .dataframe tbody tr th {\n",
              "        vertical-align: top;\n",
              "    }\n",
              "\n",
              "    .dataframe thead th {\n",
              "        text-align: right;\n",
              "    }\n",
              "</style>\n",
              "<table border=\"1\" class=\"dataframe\">\n",
              "  <thead>\n",
              "    <tr style=\"text-align: right;\">\n",
              "      <th></th>\n",
              "      <th>sentence</th>\n",
              "      <th>category</th>\n",
              "      <th>label</th>\n",
              "    </tr>\n",
              "  </thead>\n",
              "  <tbody>\n",
              "    <tr>\n",
              "      <th>0</th>\n",
              "      <td>according gran company plans move production russia although company growing .</td>\n",
              "      <td>neutral</td>\n",
              "      <td>0</td>\n",
              "    </tr>\n",
              "    <tr>\n",
              "      <th>1</th>\n",
              "      <td>technopolis plans develop stages area less one hundred thousand square meters order host companies working computer technologies telecommunications statement said .</td>\n",
              "      <td>neutral</td>\n",
              "      <td>0</td>\n",
              "    </tr>\n",
              "    <tr>\n",
              "      <th>2</th>\n",
              "      <td>international electronic industry company elcoteq laid tens employees tallinn facility contrary earlier layoffs company contracted ranks office workers daily postimees reported .</td>\n",
              "      <td>negative</td>\n",
              "      <td>1</td>\n",
              "    </tr>\n",
              "    <tr>\n",
              "      <th>3</th>\n",
              "      <td>new production plant company would increase capacity meet expected increase demand would improve use raw materials therefore increase production profitability .</td>\n",
              "      <td>positive</td>\n",
              "      <td>2</td>\n",
              "    </tr>\n",
              "    <tr>\n",
              "      <th>4</th>\n",
              "      <td>according company updated strategy years 2009-2012 basware targets long-term net sales growth range twenty percent minus forty percent operating profit margin ten percent minus twenty percent net sales .</td>\n",
              "      <td>positive</td>\n",
              "      <td>2</td>\n",
              "    </tr>\n",
              "    <tr>\n",
              "      <th>...</th>\n",
              "      <td>...</td>\n",
              "      <td>...</td>\n",
              "      <td>...</td>\n",
              "    </tr>\n",
              "    <tr>\n",
              "      <th>4841</th>\n",
              "      <td>london marketwatch -- share prices ended lower london monday rebound bank stocks failed offset broader weakness ftse one hundred .</td>\n",
              "      <td>negative</td>\n",
              "      <td>1</td>\n",
              "    </tr>\n",
              "    <tr>\n",
              "      <th>4842</th>\n",
              "      <td>rinkuskiai beer sales fell six point five per cent four point one six million litres kauno alus beer sales jumped six point nine per cent two point four eight million litres .</td>\n",
              "      <td>neutral</td>\n",
              "      <td>0</td>\n",
              "    </tr>\n",
              "    <tr>\n",
              "      <th>4843</th>\n",
              "      <td>operating profit fell eur thirty-five point four million eur sixty-eight point eight million two thousand seven including vessel sales gain eur twelve point three million .</td>\n",
              "      <td>negative</td>\n",
              "      <td>1</td>\n",
              "    </tr>\n",
              "    <tr>\n",
              "      <th>4844</th>\n",
              "      <td>net sales paper segment decreased eur two hundred twenty-one point six million second quarter two thousand nine eur two hundred forty-one point one million second quarter two thousand eight operating profit excluding non-recurring items rose eur eight million eur seven point six million .</td>\n",
              "      <td>negative</td>\n",
              "      <td>1</td>\n",
              "    </tr>\n",
              "    <tr>\n",
              "      <th>4845</th>\n",
              "      <td>sales finland decreased ten point five percent january sales outside finland dropped seventeen percent .</td>\n",
              "      <td>negative</td>\n",
              "      <td>1</td>\n",
              "    </tr>\n",
              "  </tbody>\n",
              "</table>\n",
              "<p>4846 rows × 3 columns</p>\n",
              "</div>\n",
              "      <button class=\"colab-df-convert\" onclick=\"convertToInteractive('df-cf861458-ccda-4477-a30d-cf5c1fe80c15')\"\n",
              "              title=\"Convert this dataframe to an interactive table.\"\n",
              "              style=\"display:none;\">\n",
              "        \n",
              "  <svg xmlns=\"http://www.w3.org/2000/svg\" height=\"24px\"viewBox=\"0 0 24 24\"\n",
              "       width=\"24px\">\n",
              "    <path d=\"M0 0h24v24H0V0z\" fill=\"none\"/>\n",
              "    <path d=\"M18.56 5.44l.94 2.06.94-2.06 2.06-.94-2.06-.94-.94-2.06-.94 2.06-2.06.94zm-11 1L8.5 8.5l.94-2.06 2.06-.94-2.06-.94L8.5 2.5l-.94 2.06-2.06.94zm10 10l.94 2.06.94-2.06 2.06-.94-2.06-.94-.94-2.06-.94 2.06-2.06.94z\"/><path d=\"M17.41 7.96l-1.37-1.37c-.4-.4-.92-.59-1.43-.59-.52 0-1.04.2-1.43.59L10.3 9.45l-7.72 7.72c-.78.78-.78 2.05 0 2.83L4 21.41c.39.39.9.59 1.41.59.51 0 1.02-.2 1.41-.59l7.78-7.78 2.81-2.81c.8-.78.8-2.07 0-2.86zM5.41 20L4 18.59l7.72-7.72 1.47 1.35L5.41 20z\"/>\n",
              "  </svg>\n",
              "      </button>\n",
              "      \n",
              "  <style>\n",
              "    .colab-df-container {\n",
              "      display:flex;\n",
              "      flex-wrap:wrap;\n",
              "      gap: 12px;\n",
              "    }\n",
              "\n",
              "    .colab-df-convert {\n",
              "      background-color: #E8F0FE;\n",
              "      border: none;\n",
              "      border-radius: 50%;\n",
              "      cursor: pointer;\n",
              "      display: none;\n",
              "      fill: #1967D2;\n",
              "      height: 32px;\n",
              "      padding: 0 0 0 0;\n",
              "      width: 32px;\n",
              "    }\n",
              "\n",
              "    .colab-df-convert:hover {\n",
              "      background-color: #E2EBFA;\n",
              "      box-shadow: 0px 1px 2px rgba(60, 64, 67, 0.3), 0px 1px 3px 1px rgba(60, 64, 67, 0.15);\n",
              "      fill: #174EA6;\n",
              "    }\n",
              "\n",
              "    [theme=dark] .colab-df-convert {\n",
              "      background-color: #3B4455;\n",
              "      fill: #D2E3FC;\n",
              "    }\n",
              "\n",
              "    [theme=dark] .colab-df-convert:hover {\n",
              "      background-color: #434B5C;\n",
              "      box-shadow: 0px 1px 3px 1px rgba(0, 0, 0, 0.15);\n",
              "      filter: drop-shadow(0px 1px 2px rgba(0, 0, 0, 0.3));\n",
              "      fill: #FFFFFF;\n",
              "    }\n",
              "  </style>\n",
              "\n",
              "      <script>\n",
              "        const buttonEl =\n",
              "          document.querySelector('#df-cf861458-ccda-4477-a30d-cf5c1fe80c15 button.colab-df-convert');\n",
              "        buttonEl.style.display =\n",
              "          google.colab.kernel.accessAllowed ? 'block' : 'none';\n",
              "\n",
              "        async function convertToInteractive(key) {\n",
              "          const element = document.querySelector('#df-cf861458-ccda-4477-a30d-cf5c1fe80c15');\n",
              "          const dataTable =\n",
              "            await google.colab.kernel.invokeFunction('convertToInteractive',\n",
              "                                                     [key], {});\n",
              "          if (!dataTable) return;\n",
              "\n",
              "          const docLinkHtml = 'Like what you see? Visit the ' +\n",
              "            '<a target=\"_blank\" href=https://colab.research.google.com/notebooks/data_table.ipynb>data table notebook</a>'\n",
              "            + ' to learn more about interactive tables.';\n",
              "          element.innerHTML = '';\n",
              "          dataTable['output_type'] = 'display_data';\n",
              "          await google.colab.output.renderOutput(dataTable, element);\n",
              "          const docLink = document.createElement('div');\n",
              "          docLink.innerHTML = docLinkHtml;\n",
              "          element.appendChild(docLink);\n",
              "        }\n",
              "      </script>\n",
              "    </div>\n",
              "  </div>\n",
              "  "
            ]
          },
          "metadata": {},
          "execution_count": 31
        }
      ],
      "source": [
        "df"
      ]
    },
    {
      "cell_type": "markdown",
      "metadata": {
        "id": "_bvOrNe2S92S"
      },
      "source": [
        "**Lemmatization** is the process of reducing a word to its base or dictionary form, which helps in reducing the number of unique words in the text data thereby reducing the dimensionality of the problem.This code uses the 'WordNetLemmatizer' from the 'NLTK' package to lemmatize words in each sentence in the 'sentence' column of the dataframe 'df'. \n",
        "Lemmatization is performed on each word in the sentence by first tokenizing the sentence using the 'nltk.word_tokenize()' function and then applying lemmatization on each token using the lemmatize function from the 'WordNetLemmatizer'. The result of lemmatization is then joined back into a sentence by performing a join using 'join()' function."
      ]
    },
    {
      "cell_type": "code",
      "execution_count": null,
      "metadata": {
        "id": "mnMvwNhkNCpd"
      },
      "outputs": [],
      "source": [
        "#Lemmatize words in each sentence in the 'sentence' column of the dataframe 'df'.\n",
        "\n",
        "from nltk.stem import WordNetLemmatizer  \n",
        "\n",
        "lemmatizer = WordNetLemmatizer()\n",
        "df['sentence']=df['sentence'].apply(lambda x: \" \".join([lemmatizer.lemmatize(w) for w in nltk.word_tokenize(x)]))"
      ]
    },
    {
      "cell_type": "markdown",
      "metadata": {
        "id": "x8YxXdvifFdO"
      },
      "source": [
        "Lemmatization has been performed on 'sentence' column of dataframe 'df' "
      ]
    },
    {
      "cell_type": "code",
      "execution_count": null,
      "metadata": {
        "id": "auhs22rZs2i9"
      },
      "outputs": [],
      "source": [
        "df = df.dropna(how='any')"
      ]
    },
    {
      "cell_type": "markdown",
      "metadata": {
        "id": "UT6ceXNbWwY9"
      },
      "source": [
        "After removing stopwords and other patterns we drop rows with missing values. These rows do not contribute to our analysis and are considered noise. This operation is performed using 'dropna()' function.The how='any' parameter specifies that a row should be dropped if any of its values are empty.\n",
        "\n",
        "After carrying out all cleaning dataset looks fairly clean and ready to use for further analysis. "
      ]
    },
    {
      "cell_type": "markdown",
      "metadata": {
        "id": "2FfFQcNpVM10"
      },
      "source": [
        "## Prepare training/validation/testing datasets\n",
        "\n",
        "\n",
        "Splitting the dataset into training, testing and validation sets is done using the train_test_split function from the scikit-learn library.\n",
        "\n",
        "The 'stratify' parameter ensures that the proportion of target labels in each split is the same as that in the original dataset.\n",
        "\n",
        "The 'test_size' parameter specifies the percentage of data to be allocated to the testing set.\n",
        "\n",
        "The 'random_state' parameter ensures that the same splits are obtained every time the code is run.\n",
        "\n",
        "\n",
        "These lines split the dataset df into training, validation, and testing sets using train_test_split() function from the sklearn library.The 'stratify' parameter is used to ensure that the proportion of the target classes is the same in the training, validation, and testing sets. The split ratio is 90% for training and 10% for testing and validation each. \n",
        "\n",
        "The shape of the resulting df_train, df_test, and df_val dataframes is printed to check that the split has been performed correctly."
      ]
    },
    {
      "cell_type": "code",
      "execution_count": null,
      "metadata": {
        "id": "9doBxKVhVM10",
        "colab": {
          "base_uri": "https://localhost:8080/"
        },
        "outputId": "3ef078e3-b4e3-47f1-95f3-7d3b99874436"
      },
      "outputs": [
        {
          "output_type": "stream",
          "name": "stdout",
          "text": [
            "(3924, 3) (485, 3) (437, 3)\n"
          ]
        }
      ],
      "source": [
        "#Split data into test, test, validation sets\n",
        "df_train, df_test, = train_test_split(df, stratify=df['label'], test_size=0.1, random_state=42)\n",
        "df_train, df_val = train_test_split(df_train, stratify=df_train['label'],test_size=0.1, random_state=42)\n",
        "print(df_train.shape, df_test.shape, df_val.shape)"
      ]
    },
    {
      "cell_type": "markdown",
      "metadata": {
        "id": "OttmB2WHTCVG"
      },
      "source": [
        "# **FINBERT MODEL**"
      ]
    },
    {
      "cell_type": "markdown",
      "metadata": {
        "id": "gyjQ2S4wRtLS"
      },
      "source": [
        "### load FinBERT pretrained model\n",
        "The pretrained FinBERT model path on Huggingface is https://huggingface.co/yiyanghkust/finbert-pretrain"
      ]
    },
    {
      "cell_type": "code",
      "execution_count": null,
      "metadata": {
        "id": "BTE9miXZRySI",
        "colab": {
          "base_uri": "https://localhost:8080/"
        },
        "outputId": "bf95ae86-e9bc-4e42-9a01-e833910c26de"
      },
      "outputs": [
        {
          "output_type": "stream",
          "name": "stderr",
          "text": [
            "Some weights of the model checkpoint at yiyanghkust/finbert-pretrain were not used when initializing BertForSequenceClassification: ['cls.predictions.transform.LayerNorm.weight', 'cls.predictions.transform.dense.weight', 'cls.predictions.decoder.weight', 'cls.seq_relationship.bias', 'cls.predictions.transform.dense.bias', 'cls.predictions.transform.LayerNorm.bias', 'cls.seq_relationship.weight', 'cls.predictions.bias']\n",
            "- This IS expected if you are initializing BertForSequenceClassification from the checkpoint of a model trained on another task or with another architecture (e.g. initializing a BertForSequenceClassification model from a BertForPreTraining model).\n",
            "- This IS NOT expected if you are initializing BertForSequenceClassification from the checkpoint of a model that you expect to be exactly identical (initializing a BertForSequenceClassification model from a BertForSequenceClassification model).\n",
            "Some weights of BertForSequenceClassification were not initialized from the model checkpoint at yiyanghkust/finbert-pretrain and are newly initialized: ['classifier.bias', 'classifier.weight']\n",
            "You should probably TRAIN this model on a down-stream task to be able to use it for predictions and inference.\n"
          ]
        }
      ],
      "source": [
        "model2= BertForSequenceClassification.from_pretrained('yiyanghkust/finbert-pretrain',num_labels=3)  ## Loading the pre-trained 'BertForSequenceClassification' model from the 'yiyanghkust/finbert-pretrain' checkpoint\n",
        "tokenizer2= BertTokenizer.from_pretrained('yiyanghkust/finbert-pretrain') # # Loading the tokenizer from the 'yiyanghkust/finbert-pretrain' checkpoint"
      ]
    },
    {
      "cell_type": "markdown",
      "metadata": {
        "id": "x8dVrK1VR4tj"
      },
      "source": [
        "This block of code creates 'Dataset' objects from the training, validation, and test sets, which are originally stored in pandas DataFrames\n",
        "\n",
        "Each DataFrame is converted to a 'Dataset' using the 'from_pandas' method of the 'Dataset' class\n",
        "\n",
        "Then, each 'Dataset' is tokenized using the 'tokenizer' object, with padding and truncation applied to ensure that each input has a fixed length of 128\n",
        "\n",
        "Finally, the 'set_format' method is called on each 'Dataset' to specify the format and columns to be used when the data is fed into the model"
      ]
    },
    {
      "cell_type": "code",
      "execution_count": null,
      "metadata": {
        "id": "Vw2puwg9R81-",
        "colab": {
          "base_uri": "https://localhost:8080/",
          "height": 17,
          "referenced_widgets": [
            "f8d1d518a51f4200933cc358ea56e740",
            "22d79f805a964b88852b85e8f7a35146",
            "c2a1e68e9d6b4adcb085c56c3409a457",
            "15194339134e4f3c8103e7add7547038",
            "afd7df490d5945889a584f4cfe6bfb03",
            "280a24c0400a47e5a668e0071fc133c7",
            "ce9cc9accc3d46bc9a7219e548f70c03",
            "7a77b83489984f488488a29adaeaa25f",
            "c5a739db8dc04ad6ad2883ab194e8a2a",
            "ed15c29f9e1d4d9b9f69b61405cffba8",
            "dba1315d7190459f96db2b567ef4ef02",
            "470f367d297b450480bec78f05f06386",
            "270669be327048458da854c58c985830",
            "7a7ecefece594a7dba36dd864f8005f8",
            "d6e31f38f2404bcbbd82cad13480d6cb",
            "296256230141440aa9cd8e2571757035",
            "bfe7580ce22c4a198074b7e860f3e3d0",
            "266f7220e993443a8d907be748b6a2c0",
            "918ec9571ae44adc93a2e075ea357243",
            "d9af181d57ea46cc867295598fcde4b2",
            "af709f2fe82f4c36947ee35264799628",
            "a8a9eb9a95904cf3a75776ef0be2aaff",
            "3e48f2788f764d9a88f1d77cabf91e4c",
            "c3ebd0a7f0c54d109e83f6591dad3f9d",
            "b1955776a3bd418eb0dec3b39aa024d1",
            "bc92772d5ed94e7c8cb6b03bf3ec3cb8",
            "8870f96818ab4e33b8b5d22f79669ede",
            "fb565903014f4aba8b15cacd24fad700",
            "ff7184a68ece4ae6b286d3b1bd97c998",
            "8f1a78f47e66445dafe4356a470f24be",
            "602b5b764a8449efb6b3e7eab5a3ac76",
            "4979b36088e448b9acf36f4d2957332b",
            "d57cde7df51347c28e80150abbdc18ec"
          ]
        },
        "outputId": "167f841e-d093-4fab-ced9-43e45ac6f101"
      },
      "outputs": [
        {
          "output_type": "display_data",
          "data": {
            "text/plain": [
              "Map:   0%|          | 0/3924 [00:00<?, ? examples/s]"
            ],
            "application/vnd.jupyter.widget-view+json": {
              "version_major": 2,
              "version_minor": 0,
              "model_id": "f8d1d518a51f4200933cc358ea56e740"
            }
          },
          "metadata": {}
        },
        {
          "output_type": "display_data",
          "data": {
            "text/plain": [
              "Map:   0%|          | 0/437 [00:00<?, ? examples/s]"
            ],
            "application/vnd.jupyter.widget-view+json": {
              "version_major": 2,
              "version_minor": 0,
              "model_id": "470f367d297b450480bec78f05f06386"
            }
          },
          "metadata": {}
        },
        {
          "output_type": "display_data",
          "data": {
            "text/plain": [
              "Map:   0%|          | 0/485 [00:00<?, ? examples/s]"
            ],
            "application/vnd.jupyter.widget-view+json": {
              "version_major": 2,
              "version_minor": 0,
              "model_id": "3e48f2788f764d9a88f1d77cabf91e4c"
            }
          },
          "metadata": {}
        }
      ],
      "source": [
        "dataset_train2 = Dataset.from_pandas(df_train) ## Creating a 'Dataset' object from the training set DataFrame 'df_train'\n",
        "dataset_val2 = Dataset.from_pandas(df_val)  ## Creating a 'Dataset' object from the validation set DataFrame 'df_val'\n",
        "dataset_test2 = Dataset.from_pandas(df_test)  # # Creating a 'Dataset' object from the test set DataFrame 'df_test'\n",
        "\n",
        "\n",
        "#Tokenizing each 'Dataset' using the 'tokenizer' object with padding and truncation applied\n",
        "dataset_train2 = dataset_train2.map(lambda e: tokenizer2(e['sentence'], truncation=True, padding='max_length', max_length=128), batched=True)\n",
        "dataset_val2 = dataset_val2.map(lambda e: tokenizer2(e['sentence'], truncation=True, padding='max_length', max_length=128), batched=True)\n",
        "dataset_test2 = dataset_test2.map(lambda e: tokenizer2(e['sentence'], truncation=True, padding='max_length' , max_length=128), batched=True)\n",
        "#Setting the format and columns of each 'Dataset' to be used when the data is fed into the model\n",
        "dataset_train2.set_format(type='torch', columns=['input_ids', 'token_type_ids', 'attention_mask', 'label'])\n",
        "dataset_val2.set_format(type='torch', columns=['input_ids', 'token_type_ids', 'attention_mask', 'label'])\n",
        "dataset_test2.set_format(type='torch', columns=['input_ids', 'token_type_ids', 'attention_mask', 'label'])\n"
      ]
    },
    {
      "cell_type": "markdown",
      "metadata": {
        "id": "W_t_ZyrWeAwf"
      },
      "source": [
        "The cell defines a function compute_metrics that takes eval_pred as input and returns a dictionary containing the accuracy score computed using sklearn's accuracy_score function.\n",
        "\n",
        "Then, the code sets up the training arguments using TrainingArguments from the transformers library. The arguments include the output directory for storing the trained model, the evaluation strategy, the learning rate, the batch sizes, the number of training epochs, the weight decay, and other parameters.\n",
        "\n",
        "The Trainer object is then instantiated using the defined model, the training and evaluation datasets, the compute_metrics function, and the TrainingArguments. Finally, the train() method is called on the Trainer object to train the model."
      ]
    },
    {
      "cell_type": "code",
      "execution_count": null,
      "metadata": {
        "id": "J5QGsAfGSIxX",
        "colab": {
          "base_uri": "https://localhost:8080/",
          "height": 339
        },
        "outputId": "82b99641-1e9f-4c7d-dbc2-361fd3a3aa1f"
      },
      "outputs": [
        {
          "output_type": "stream",
          "name": "stderr",
          "text": [
            "/usr/local/lib/python3.10/dist-packages/transformers/optimization.py:391: FutureWarning: This implementation of AdamW is deprecated and will be removed in a future version. Use the PyTorch implementation torch.optim.AdamW instead, or set `no_deprecation_warning=True` to disable this warning\n",
            "  warnings.warn(\n"
          ]
        },
        {
          "output_type": "display_data",
          "data": {
            "text/plain": [
              "<IPython.core.display.HTML object>"
            ],
            "text/html": [
              "\n",
              "    <div>\n",
              "      \n",
              "      <progress value='615' max='615' style='width:300px; height:20px; vertical-align: middle;'></progress>\n",
              "      [615/615 02:01, Epoch 5/5]\n",
              "    </div>\n",
              "    <table border=\"1\" class=\"dataframe\">\n",
              "  <thead>\n",
              " <tr style=\"text-align: left;\">\n",
              "      <th>Epoch</th>\n",
              "      <th>Training Loss</th>\n",
              "      <th>Validation Loss</th>\n",
              "      <th>Accuracy</th>\n",
              "    </tr>\n",
              "  </thead>\n",
              "  <tbody>\n",
              "    <tr>\n",
              "      <td>1</td>\n",
              "      <td>No log</td>\n",
              "      <td>0.542873</td>\n",
              "      <td>0.778032</td>\n",
              "    </tr>\n",
              "    <tr>\n",
              "      <td>2</td>\n",
              "      <td>No log</td>\n",
              "      <td>0.437788</td>\n",
              "      <td>0.814645</td>\n",
              "    </tr>\n",
              "    <tr>\n",
              "      <td>3</td>\n",
              "      <td>No log</td>\n",
              "      <td>0.421278</td>\n",
              "      <td>0.830664</td>\n",
              "    </tr>\n",
              "    <tr>\n",
              "      <td>4</td>\n",
              "      <td>No log</td>\n",
              "      <td>0.426906</td>\n",
              "      <td>0.837529</td>\n",
              "    </tr>\n",
              "    <tr>\n",
              "      <td>5</td>\n",
              "      <td>0.476600</td>\n",
              "      <td>0.431717</td>\n",
              "      <td>0.842105</td>\n",
              "    </tr>\n",
              "  </tbody>\n",
              "</table><p>"
            ]
          },
          "metadata": {}
        },
        {
          "output_type": "execute_result",
          "data": {
            "text/plain": [
              "TrainOutput(global_step=615, training_loss=0.4366521478668461, metrics={'train_runtime': 121.7421, 'train_samples_per_second': 161.16, 'train_steps_per_second': 5.052, 'total_flos': 1290571313955840.0, 'train_loss': 0.4366521478668461, 'epoch': 5.0})"
            ]
          },
          "metadata": {},
          "execution_count": 46
        }
      ],
      "source": [
        "# Define a function to compute the evaluation metrics\n",
        "def compute_metrics2(eval_pred):\n",
        "    predictions, labels = eval_pred\n",
        "    predictions = np.argmax(predictions, axis=1)\n",
        "    return {'accuracy' : accuracy_score(predictions, labels)}\n",
        "# Set up the training arguments\n",
        "\n",
        "args2 = TrainingArguments(\n",
        "        output_dir = '/content/temp2/',   ## Directory to save the trained model\n",
        "        evaluation_strategy = 'epoch',   ## Evaluate the model after every epoch\n",
        "        save_strategy = 'epoch',   ## Save the model after every epoch\n",
        "        learning_rate=1e-5,         ## Learning rate for the optimizer\n",
        "        per_device_train_batch_size=32,  ## Batch size for training\n",
        "        per_device_eval_batch_size=32,   ## Batch size for evaluation\n",
        "        num_train_epochs=5,             # Number of training epochs\n",
        "        weight_decay=0.01,              # Weight decay for regularization\n",
        "        load_best_model_at_end=True,      # Load the best model at the end of training\n",
        "        metric_for_best_model='accuracy',   # Metric to use for determining the best model\n",
        ")\n",
        "\n",
        "trainer2 = Trainer(\n",
        "        model=model2,                          # The pre-trained model to be trained\n",
        "        args=args2,                  # # Training arguments\n",
        "        train_dataset=dataset_train2,         # training dataset\n",
        "        eval_dataset=dataset_val2,            # evaluation dataset\n",
        "        compute_metrics=compute_metrics2   # Function to compute evaluation metrics\n",
        ")\n",
        "# Train the model\n",
        "trainer2.train()  "
      ]
    },
    {
      "cell_type": "markdown",
      "source": [
        "The model completed 5 epochs of training, with a decreasing trend in validation loss and an increasing accuracy, suggesting effective learning. The final epoch achieved a validation loss of 0.431717 and an accuracy of 84.21%, the best among all epochs. The model's training speed was approximately 161.16 samples per second, with a total of 5.052 training steps per second. The reported training loss at the final step was 0.436652, indicating a satisfactory convergence of the model."
      ],
      "metadata": {
        "id": "Jx9WgArDKWfJ"
      }
    },
    {
      "cell_type": "markdown",
      "source": [
        "The Hugging Face Trainer does not compute metrics like accuracy and loss on the training set by default because it can be expensive to compute and usually it's not as informative as the validation metrics.  So the accuracy reported in this is of the validation dataset"
      ],
      "metadata": {
        "id": "5EegwQpfI7IV"
      }
    },
    {
      "cell_type": "markdown",
      "metadata": {
        "id": "QMtGdC1jSXdn"
      },
      "source": [
        "## Model evaluation\n",
        "\n",
        "In this part of the code we will evaluate the fine-tuned model using the test dataset."
      ]
    },
    {
      "cell_type": "markdown",
      "metadata": {
        "id": "DOkGAR5Bii9u"
      },
      "source": [
        "The code snipprt in the cell imports the functions confusion_matrix, f1_score, and classification_report from the sklearn.metrics module, which are used to evaluate the performance of a classifier."
      ]
    },
    {
      "cell_type": "code",
      "execution_count": null,
      "metadata": {
        "id": "0VNWI818SOoC"
      },
      "outputs": [],
      "source": [
        "#Importing necessary functions\n",
        "from sklearn.metrics import confusion_matrix, f1_score,classification_report\n"
      ]
    },
    {
      "cell_type": "markdown",
      "metadata": {
        "id": "dpDlhI0oi0xN"
      },
      "source": [
        "This line sets the model to evaluation mode, which turns off features like dropout and batch normalization that are used during training to prevent overfitting."
      ]
    },
    {
      "cell_type": "code",
      "execution_count": null,
      "metadata": {
        "id": "Gy1eRlslSSk1",
        "colab": {
          "base_uri": "https://localhost:8080/",
          "height": 104
        },
        "outputId": "9d9a8082-0ef7-49b2-bf90-a59cfb5ea364"
      },
      "outputs": [
        {
          "output_type": "display_data",
          "data": {
            "text/plain": [
              "<IPython.core.display.HTML object>"
            ],
            "text/html": []
          },
          "metadata": {}
        },
        {
          "output_type": "execute_result",
          "data": {
            "text/plain": [
              "{'test_loss': 0.461887001991272,\n",
              " 'test_accuracy': 0.822680412371134,\n",
              " 'test_runtime': 0.851,\n",
              " 'test_samples_per_second': 569.907,\n",
              " 'test_steps_per_second': 18.801}"
            ]
          },
          "metadata": {},
          "execution_count": 49
        }
      ],
      "source": [
        "#These two lines evaluate the trained model on the test dataset.\n",
        "model2.eval()                      \n",
        "\n",
        "#predict method of the Trainer class to generate predictions on the test dataset, and then applies the compute_metrics function defined earlier to compute evaluation metrics. \n",
        "#The metrics returned are printed to the console.                     \n",
        "trainer2.predict(dataset_test2).metrics             \n",
        "\n"
      ]
    },
    {
      "cell_type": "markdown",
      "source": [
        "The model evaluation results indicate a high performance with a test accuracy of approximately 82.27%. The test loss, which is relatively low at 0.4619, supports this high accuracy rate, suggesting the model is effective in generalization."
      ],
      "metadata": {
        "id": "g4ZrV5YlLLrT"
      }
    },
    {
      "cell_type": "markdown",
      "metadata": {
        "id": "wXrIXOYrjw4V"
      },
      "source": [
        "This cell generates predictions on the test dataset using the predict method of the Trainer class, and stores the predictions in the pred variable.\n"
      ]
    },
    {
      "cell_type": "code",
      "execution_count": null,
      "metadata": {
        "id": "zMMnAlowScj2",
        "colab": {
          "base_uri": "https://localhost:8080/",
          "height": 17
        },
        "outputId": "c4b93ddf-36eb-47aa-ddc0-8cdf201e3824"
      },
      "outputs": [
        {
          "output_type": "display_data",
          "data": {
            "text/plain": [
              "<IPython.core.display.HTML object>"
            ],
            "text/html": []
          },
          "metadata": {}
        }
      ],
      "source": [
        "pred2=trainer2.predict(dataset_test2)             "
      ]
    },
    {
      "cell_type": "markdown",
      "source": [
        " This line extracts the predicted labels from the pred variable by taking the argmax along the last axis of the predictions array, and stores the predicted labels in the pred_labels variable. The argmax function returns the index of the maximum value along a given axis, which corresponds to the predicted label for each input."
      ],
      "metadata": {
        "id": "P0977rFGJAGT"
      }
    },
    {
      "cell_type": "code",
      "execution_count": null,
      "metadata": {
        "id": "upEihVDvShD8"
      },
      "outputs": [],
      "source": [
        "pred_labels2=pred2.predictions.argmax(axis=-1)             "
      ]
    },
    {
      "cell_type": "markdown",
      "source": [
        "The code in the cell below computes the confusion matrix for the predictions made by the model on the test dataset. It first extracts the true labels of the test dataset from the label column of the dataset_test object, and stores them in the true_labels variable.\n",
        "\n",
        "\n",
        "Then it uses the confusion_matrix function from sklearn.metrics to compute the confusion matrix of the predicted labels (pred_labels) and true labels (true_labels), and stores the result in the conf_matrix variable. The confusion matrix is a table that summarizes the number of correct and incorrect predictions made by a classifier, organized by true and predicted label."
      ],
      "metadata": {
        "id": "lQdyq4suJDk5"
      }
    },
    {
      "cell_type": "code",
      "execution_count": null,
      "metadata": {
        "id": "ltSjTrmeShmV",
        "colab": {
          "base_uri": "https://localhost:8080/",
          "height": 845
        },
        "outputId": "223a8ff7-f807-45ff-bcc6-89cb659c9da2"
      },
      "outputs": [
        {
          "output_type": "display_data",
          "data": {
            "text/plain": [
              "<Figure size 800x600 with 2 Axes>"
            ],
            "image/png": "[encoded data removed]"
          },
          "metadata": {}
        },
        {
          "output_type": "stream",
          "name": "stdout",
          "text": [
            "Confusion Matrix:\n",
            "[[248   8  32]\n",
            " [  7  48   6]\n",
            " [ 28   5 103]]\n",
            "F1 Score: 0.7997396816624719\n",
            "\n",
            "Classification Report:\n",
            "              precision    recall  f1-score   support\n",
            "\n",
            "     neutral       0.88      0.86      0.87       288\n",
            "    negative       0.79      0.79      0.79        61\n",
            "    positive       0.73      0.76      0.74       136\n",
            "\n",
            "    accuracy                           0.82       485\n",
            "   macro avg       0.80      0.80      0.80       485\n",
            "weighted avg       0.82      0.82      0.82       485\n",
            "\n"
          ]
        }
      ],
      "source": [
        "# Calculate the confusion matrix\n",
        "true_labels2= dataset_test2['label']    \n",
        "conf_matrix2 = confusion_matrix(true_labels2, pred_labels2)\n",
        "\n",
        "import seaborn as sns\n",
        "import matplotlib.pyplot as plt\n",
        "sns.set()\n",
        "plt.figure(figsize=(8, 6))\n",
        "category_names = ['Neutral', 'Negative', 'Positive']\n",
        "sns.heatmap(conf_matrix2, annot=True, cmap='Blues', fmt='g', xticklabels=category_names, yticklabels=category_names)\n",
        "plt.xlabel('Predicted Labels')\n",
        "\n",
        "plt.ylabel('True Labels')\n",
        "plt.show()\n",
        "\n",
        "\n",
        "# Calculate the F1 score\n",
        "f1 = f1_score(true_labels2, pred_labels2, average='macro')\n",
        "\n",
        "# Print the results\n",
        "print('Confusion Matrix:')\n",
        "print(conf_matrix2)\n",
        "print('F1 Score:', f1)\n",
        "\n",
        "\n",
        "class_report = classification_report(true_labels2, pred_labels2, target_names=['neutral', 'negative', 'positive'])\n",
        "\n",
        "print('\\nClassification Report:')\n",
        "print(class_report)"
      ]
    },
    {
      "cell_type": "markdown",
      "source": [
        "The performance of the model was evaluated using a confusion matrix, F1 score, and a classification report. The confusion matrix shows that the model has a high number of correct predictions across all classes, with particularly strong performance in predicting 'neutral' sentiments. \n",
        "\n",
        "The model's overall F1 score was 0.80, indicating a good balance between precision and recall. The classification report provides a more detailed view of this, showing high precision and recall scores for the 'neutral' class in particular. However, performance was slightly lower for the 'positive' class. Overall, the model achieved an accuracy of 82% on the test data, indicating a strong ability to correctly classify sentiment.\n",
        "\n",
        "\n",
        "---\n",
        "\n",
        "\n",
        "\n",
        "\n",
        " The code below illustrates the creation of a dual-axis line graph using Python's Matplotlib library. It plots validation loss (in red) and validation accuracy (in blue) against the number of training epochs. The 'eval_loss' and 'eval_accuracy' values are extracted from the 'log_history' of a trainer object, presumably from a machine learning model. This visualization is useful for observing the performance and convergence of the model over time."
      ],
      "metadata": {
        "id": "wq6r1lJ8G2Ie"
      }
    },
    {
      "cell_type": "code",
      "source": [
        "#Plotting accuracy and loss\n",
        "val_loss = []\n",
        "val_accuracy = []\n",
        "for elem in trainer2.state.log_history:\n",
        "    if 'eval_loss' in elem.keys():\n",
        "        val_loss.append(elem['eval_loss'])\n",
        "        val_accuracy.append(elem['eval_accuracy'])\n",
        "\n",
        "fig, ax1 = plt.subplots()\n",
        "\n",
        "color = 'tab:red'\n",
        "ax1.set_xlabel('Epoch')\n",
        "ax1.set_ylabel('Validation Loss', color=color)\n",
        "ax1.plot(val_loss, color=color)\n",
        "ax1.tick_params(axis='y', labelcolor=color)\n",
        "\n",
        "ax2 = ax1.twinx()  # instantiate a second axes that shares the same x-axis\n",
        "\n",
        "color = 'tab:blue'\n",
        "ax2.set_ylabel('Validation Accuracy', color=color)\n",
        "ax2.plot(val_accuracy, color=color)\n",
        "ax2.tick_params(axis='y', labelcolor=color)\n",
        "\n",
        "plt.title('Validation Loss and Accuracy per Epoch')\n",
        "fig.tight_layout()  # otherwise the right y-label is slightly clipped\n",
        "plt.show()"
      ],
      "metadata": {
        "colab": {
          "base_uri": "https://localhost:8080/",
          "height": 481
        },
        "id": "jIZVccv4Gy1M",
        "outputId": "68f74f49-e4ce-4e83-8f10-e307587a32ad"
      },
      "execution_count": null,
      "outputs": [
        {
          "output_type": "display_data",
          "data": {
            "text/plain": [
              "<Figure size 640x480 with 2 Axes>"
            ],
            "image/png": "[encoded data removed]"
          },
          "metadata": {}
        }
      ]
    },
    {
      "cell_type": "markdown",
      "source": [
        "The graph shows that model is performing fairly good and is not overfitting or under performing. "
      ],
      "metadata": {
        "id": "IDs1xpBwNAqM"
      }
    },
    {
      "cell_type": "markdown",
      "metadata": {
        "id": "_mX5Q_tWSqie"
      },
      "source": [
        "### save the fine-tuned model."
      ]
    },
    {
      "cell_type": "markdown",
      "source": [
        "This line of code saves the trained model as *'finbert-sentiment'* to the directory \"finbert-sentiment\". This saved model can be later loaded and used for inference or further training."
      ],
      "metadata": {
        "id": "BfcsD6IZHWxo"
      }
    },
    {
      "cell_type": "code",
      "execution_count": null,
      "metadata": {
        "id": "zc_sOaG4ShsT"
      },
      "outputs": [],
      "source": [
        "trainer2.save_model('finbert-sentiment')   "
      ]
    }
  ]
}